{
 "cells": [
  {
   "cell_type": "code",
   "execution_count": 1,
   "id": "1fa36e1f",
   "metadata": {},
   "outputs": [
    {
     "name": "stdout",
     "output_type": "stream",
     "text": [
      "1.2.0\n"
     ]
    }
   ],
   "source": [
    "import sdv\n",
    "print(sdv.__version__)"
   ]
  },
  {
   "cell_type": "code",
   "execution_count": 2,
   "id": "5b18b540",
   "metadata": {},
   "outputs": [
    {
     "name": "stderr",
     "output_type": "stream",
     "text": [
      "C:\\Users\\Admin User\\anaconda3\\lib\\site-packages\\sdv\\datasets\\local.py:31: UserWarning: Ignoring incompatible files ['.gitignore', 'agaricus-lepiota.names', 'expanded.Z', 'Index', 'LICENSE', 'README', 'README.md', 'SDV_CTGAN.ipynb', 'SDV_GaussianCopula.ipynb', 'SDV_TVAE.ipynb'] in folder './'.\n",
      "  warnings.warn(\n"
     ]
    }
   ],
   "source": [
    "from sdv.datasets.local import load_csvs\n",
    "datasets = load_csvs(folder_name='./')\n",
    "mushroom_table = datasets['mushroom_table']"
   ]
  },
  {
   "cell_type": "code",
   "execution_count": 3,
   "id": "eefd8798",
   "metadata": {},
   "outputs": [
    {
     "data": {
      "text/html": [
       "<div>\n",
       "<style scoped>\n",
       "    .dataframe tbody tr th:only-of-type {\n",
       "        vertical-align: middle;\n",
       "    }\n",
       "\n",
       "    .dataframe tbody tr th {\n",
       "        vertical-align: top;\n",
       "    }\n",
       "\n",
       "    .dataframe thead th {\n",
       "        text-align: right;\n",
       "    }\n",
       "</style>\n",
       "<table border=\"1\" class=\"dataframe\">\n",
       "  <thead>\n",
       "    <tr style=\"text-align: right;\">\n",
       "      <th></th>\n",
       "      <th>poisonous</th>\n",
       "      <th>cap-shape</th>\n",
       "      <th>cap-surface</th>\n",
       "      <th>cap-color</th>\n",
       "      <th>bruises</th>\n",
       "      <th>odor</th>\n",
       "      <th>gill-attachment</th>\n",
       "      <th>gill-spacing</th>\n",
       "      <th>gill-size</th>\n",
       "      <th>gill-color</th>\n",
       "      <th>...</th>\n",
       "      <th>stalk-surface-below-ring</th>\n",
       "      <th>stalk-color-above-ring</th>\n",
       "      <th>stalk-color-below-ring</th>\n",
       "      <th>veil-type</th>\n",
       "      <th>veil-color</th>\n",
       "      <th>ring-number</th>\n",
       "      <th>ring-type</th>\n",
       "      <th>spore-print-color</th>\n",
       "      <th>population</th>\n",
       "      <th>habitat</th>\n",
       "    </tr>\n",
       "  </thead>\n",
       "  <tbody>\n",
       "    <tr>\n",
       "      <th>0</th>\n",
       "      <td>poisonous</td>\n",
       "      <td>convex</td>\n",
       "      <td>smooth</td>\n",
       "      <td>brown</td>\n",
       "      <td>bruises</td>\n",
       "      <td>pungent</td>\n",
       "      <td>free</td>\n",
       "      <td>close</td>\n",
       "      <td>narrow</td>\n",
       "      <td>black</td>\n",
       "      <td>...</td>\n",
       "      <td>smooth</td>\n",
       "      <td>white</td>\n",
       "      <td>white</td>\n",
       "      <td>partial</td>\n",
       "      <td>white</td>\n",
       "      <td>one</td>\n",
       "      <td>pendant</td>\n",
       "      <td>black</td>\n",
       "      <td>scattered</td>\n",
       "      <td>urban</td>\n",
       "    </tr>\n",
       "    <tr>\n",
       "      <th>1</th>\n",
       "      <td>edible</td>\n",
       "      <td>convex</td>\n",
       "      <td>smooth</td>\n",
       "      <td>yellow</td>\n",
       "      <td>bruises</td>\n",
       "      <td>almond</td>\n",
       "      <td>free</td>\n",
       "      <td>close</td>\n",
       "      <td>broad</td>\n",
       "      <td>black</td>\n",
       "      <td>...</td>\n",
       "      <td>smooth</td>\n",
       "      <td>white</td>\n",
       "      <td>white</td>\n",
       "      <td>partial</td>\n",
       "      <td>white</td>\n",
       "      <td>one</td>\n",
       "      <td>pendant</td>\n",
       "      <td>brown</td>\n",
       "      <td>numerous</td>\n",
       "      <td>grasses</td>\n",
       "    </tr>\n",
       "    <tr>\n",
       "      <th>2</th>\n",
       "      <td>edible</td>\n",
       "      <td>bell</td>\n",
       "      <td>smooth</td>\n",
       "      <td>white</td>\n",
       "      <td>bruises</td>\n",
       "      <td>anise</td>\n",
       "      <td>free</td>\n",
       "      <td>close</td>\n",
       "      <td>broad</td>\n",
       "      <td>brown</td>\n",
       "      <td>...</td>\n",
       "      <td>smooth</td>\n",
       "      <td>white</td>\n",
       "      <td>white</td>\n",
       "      <td>partial</td>\n",
       "      <td>white</td>\n",
       "      <td>one</td>\n",
       "      <td>pendant</td>\n",
       "      <td>brown</td>\n",
       "      <td>numerous</td>\n",
       "      <td>meadows</td>\n",
       "    </tr>\n",
       "    <tr>\n",
       "      <th>3</th>\n",
       "      <td>poisonous</td>\n",
       "      <td>convex</td>\n",
       "      <td>scaly</td>\n",
       "      <td>white</td>\n",
       "      <td>bruises</td>\n",
       "      <td>pungent</td>\n",
       "      <td>free</td>\n",
       "      <td>close</td>\n",
       "      <td>narrow</td>\n",
       "      <td>brown</td>\n",
       "      <td>...</td>\n",
       "      <td>smooth</td>\n",
       "      <td>white</td>\n",
       "      <td>white</td>\n",
       "      <td>partial</td>\n",
       "      <td>white</td>\n",
       "      <td>one</td>\n",
       "      <td>pendant</td>\n",
       "      <td>black</td>\n",
       "      <td>scattered</td>\n",
       "      <td>urban</td>\n",
       "    </tr>\n",
       "    <tr>\n",
       "      <th>4</th>\n",
       "      <td>edible</td>\n",
       "      <td>convex</td>\n",
       "      <td>smooth</td>\n",
       "      <td>gray</td>\n",
       "      <td>no</td>\n",
       "      <td>none</td>\n",
       "      <td>free</td>\n",
       "      <td>crowded</td>\n",
       "      <td>broad</td>\n",
       "      <td>black</td>\n",
       "      <td>...</td>\n",
       "      <td>smooth</td>\n",
       "      <td>white</td>\n",
       "      <td>white</td>\n",
       "      <td>partial</td>\n",
       "      <td>white</td>\n",
       "      <td>one</td>\n",
       "      <td>evanescent</td>\n",
       "      <td>brown</td>\n",
       "      <td>abundant</td>\n",
       "      <td>grasses</td>\n",
       "    </tr>\n",
       "  </tbody>\n",
       "</table>\n",
       "<p>5 rows × 23 columns</p>\n",
       "</div>"
      ],
      "text/plain": [
       "   poisonous cap-shape cap-surface cap-color  bruises     odor  \\\n",
       "0  poisonous    convex      smooth     brown  bruises  pungent   \n",
       "1     edible    convex      smooth    yellow  bruises   almond   \n",
       "2     edible      bell      smooth     white  bruises    anise   \n",
       "3  poisonous    convex       scaly     white  bruises  pungent   \n",
       "4     edible    convex      smooth      gray       no     none   \n",
       "\n",
       "  gill-attachment gill-spacing gill-size gill-color  ...  \\\n",
       "0            free        close    narrow      black  ...   \n",
       "1            free        close     broad      black  ...   \n",
       "2            free        close     broad      brown  ...   \n",
       "3            free        close    narrow      brown  ...   \n",
       "4            free      crowded     broad      black  ...   \n",
       "\n",
       "  stalk-surface-below-ring stalk-color-above-ring stalk-color-below-ring  \\\n",
       "0                   smooth                  white                  white   \n",
       "1                   smooth                  white                  white   \n",
       "2                   smooth                  white                  white   \n",
       "3                   smooth                  white                  white   \n",
       "4                   smooth                  white                  white   \n",
       "\n",
       "  veil-type veil-color ring-number   ring-type spore-print-color population  \\\n",
       "0   partial      white         one     pendant             black  scattered   \n",
       "1   partial      white         one     pendant             brown   numerous   \n",
       "2   partial      white         one     pendant             brown   numerous   \n",
       "3   partial      white         one     pendant             black  scattered   \n",
       "4   partial      white         one  evanescent             brown   abundant   \n",
       "\n",
       "   habitat  \n",
       "0    urban  \n",
       "1  grasses  \n",
       "2  meadows  \n",
       "3    urban  \n",
       "4  grasses  \n",
       "\n",
       "[5 rows x 23 columns]"
      ]
     },
     "execution_count": 3,
     "metadata": {},
     "output_type": "execute_result"
    }
   ],
   "source": [
    "mushroom_table.head(5)"
   ]
  },
  {
   "cell_type": "code",
   "execution_count": 4,
   "id": "aa7b962d",
   "metadata": {},
   "outputs": [],
   "source": [
    "from sdv.metadata import SingleTableMetadata\n",
    "metadata = SingleTableMetadata()\n",
    "metadata.detect_from_dataframe(data=mushroom_table)"
   ]
  },
  {
   "cell_type": "code",
   "execution_count": 5,
   "id": "3a8ff3a5",
   "metadata": {},
   "outputs": [
    {
     "name": "stdout",
     "output_type": "stream",
     "text": [
      "{'METADATA_SPEC_VERSION': 'SINGLE_TABLE_V1', 'columns': {'poisonous': {'sdtype': 'categorical'}, 'cap-shape': {'sdtype': 'categorical'}, 'cap-surface': {'sdtype': 'categorical'}, 'cap-color': {'sdtype': 'categorical'}, 'bruises': {'sdtype': 'categorical'}, 'odor': {'sdtype': 'categorical'}, 'gill-attachment': {'sdtype': 'categorical'}, 'gill-spacing': {'sdtype': 'categorical'}, 'gill-size': {'sdtype': 'categorical'}, 'gill-color': {'sdtype': 'categorical'}, 'stalk-shape': {'sdtype': 'categorical'}, 'stalk-root': {'sdtype': 'categorical'}, 'stalk-surface-above-ring': {'sdtype': 'categorical'}, 'stalk-surface-below-ring': {'sdtype': 'categorical'}, 'stalk-color-above-ring': {'sdtype': 'categorical'}, 'stalk-color-below-ring': {'sdtype': 'categorical'}, 'veil-type': {'sdtype': 'categorical'}, 'veil-color': {'sdtype': 'categorical'}, 'ring-number': {'sdtype': 'categorical'}, 'ring-type': {'sdtype': 'categorical'}, 'spore-print-color': {'sdtype': 'categorical'}, 'population': {'sdtype': 'categorical'}, 'habitat': {'sdtype': 'categorical'}}}\n"
     ]
    }
   ],
   "source": [
    "python_dict = metadata.to_dict()\n",
    "print(python_dict)"
   ]
  },
  {
   "cell_type": "code",
   "execution_count": 6,
   "id": "9a7a50b2",
   "metadata": {},
   "outputs": [],
   "source": [
    "metadata.validate()"
   ]
  },
  {
   "cell_type": "markdown",
   "id": "83b709ba",
   "metadata": {},
   "source": [
    "## CTGAN"
   ]
  },
  {
   "cell_type": "code",
   "execution_count": 8,
   "id": "a68e442c",
   "metadata": {},
   "outputs": [
    {
     "ename": "TypeError",
     "evalue": "TVAESynthesizer.__init__() got an unexpected keyword argument 'verbose'",
     "output_type": "error",
     "traceback": [
      "\u001b[1;31m---------------------------------------------------------------------------\u001b[0m",
      "\u001b[1;31mTypeError\u001b[0m                                 Traceback (most recent call last)",
      "Cell \u001b[1;32mIn[8], line 3\u001b[0m\n\u001b[0;32m      1\u001b[0m \u001b[38;5;28;01mfrom\u001b[39;00m \u001b[38;5;21;01msdv\u001b[39;00m\u001b[38;5;21;01m.\u001b[39;00m\u001b[38;5;21;01msingle_table\u001b[39;00m \u001b[38;5;28;01mimport\u001b[39;00m TVAESynthesizer\n\u001b[1;32m----> 3\u001b[0m synthesizer \u001b[38;5;241m=\u001b[39m \u001b[43mTVAESynthesizer\u001b[49m\u001b[43m(\u001b[49m\n\u001b[0;32m      4\u001b[0m \u001b[43m    \u001b[49m\u001b[43mmetadata\u001b[49m\u001b[43m,\u001b[49m\u001b[43m \u001b[49m\u001b[38;5;66;43;03m# required\u001b[39;49;00m\n\u001b[0;32m      5\u001b[0m \u001b[43m    \u001b[49m\u001b[43menforce_min_max_values\u001b[49m\u001b[38;5;241;43m=\u001b[39;49m\u001b[38;5;28;43;01mTrue\u001b[39;49;00m\u001b[43m,\u001b[49m\n\u001b[0;32m      6\u001b[0m \u001b[43m    \u001b[49m\u001b[43menforce_rounding\u001b[49m\u001b[38;5;241;43m=\u001b[39;49m\u001b[38;5;28;43;01mFalse\u001b[39;49;00m\u001b[43m,\u001b[49m\n\u001b[0;32m      7\u001b[0m \u001b[43m    \u001b[49m\u001b[43mepochs\u001b[49m\u001b[38;5;241;43m=\u001b[39;49m\u001b[38;5;241;43m300\u001b[39;49m\u001b[43m,\u001b[49m\n\u001b[0;32m      8\u001b[0m \u001b[43m    \u001b[49m\u001b[43mverbose\u001b[49m\u001b[43m \u001b[49m\u001b[38;5;241;43m=\u001b[39;49m\u001b[43m \u001b[49m\u001b[38;5;28;43;01mTrue\u001b[39;49;00m\n\u001b[0;32m      9\u001b[0m \u001b[43m)\u001b[49m\n\u001b[0;32m     10\u001b[0m synthesizer\u001b[38;5;241m.\u001b[39mfit(mushroom_table)\n\u001b[0;32m     12\u001b[0m synthetic_data \u001b[38;5;241m=\u001b[39m synthesizer\u001b[38;5;241m.\u001b[39msample(num_rows\u001b[38;5;241m=\u001b[39m\u001b[38;5;241m10\u001b[39m)\n",
      "\u001b[1;31mTypeError\u001b[0m: TVAESynthesizer.__init__() got an unexpected keyword argument 'verbose'"
     ]
    }
   ],
   "source": [
    "from sdv.single_table import TVAESynthesizer\n",
    "\n",
    "synthesizer = TVAESynthesizer(\n",
    "    metadata, # required\n",
    "    enforce_min_max_values=True,\n",
    "    enforce_rounding=False,\n",
    "    epochs=300,\n",
    ")\n",
    "synthesizer.fit(mushroom_table)\n",
    "\n",
    "synthetic_data = synthesizer.sample(num_rows=10)"
   ]
  },
  {
   "cell_type": "markdown",
   "id": "63958d12",
   "metadata": {},
   "source": [
    "## There are other customization options for TVAE\n",
    "batch_size: Number of data samples to process in each step. This value must be even, and it must be divisible by the pac parameter (see below). Defaults to 500. \n",
    "\n",
    "compress_dims: Size of each hidden layer in the encoder. Defaults to (128, 128).\n",
    "\n",
    "decompress_dims: Size of each hidden layer in the decoder. Defaults to (128, 128).\n",
    "\n",
    "embedding_dim: Size of the random sample passed to the Generator. Defaults to 128.\n",
    "\n",
    "l2scale: Regularization term. Defaults to 1e-5.\n",
    "\n",
    "loss_factor: Multiplier for the reconstruction error. Defaults to 2.\n",
    "\n",
    "pac: Number of samples to group together when applying the discriminator. Defaults to 10."
   ]
  },
  {
   "cell_type": "code",
   "execution_count": null,
   "id": "348c994e",
   "metadata": {},
   "outputs": [],
   "source": [
    "synthetic_data"
   ]
  },
  {
   "cell_type": "code",
   "execution_count": null,
   "id": "67a2390c",
   "metadata": {},
   "outputs": [],
   "source": [
    "from sdv.evaluation.single_table import evaluate_quality\n",
    "\n",
    "quality_report = evaluate_quality(\n",
    "    real_data=mushroom_table,\n",
    "    synthetic_data=synthetic_data,\n",
    "    metadata=metadata)"
   ]
  },
  {
   "cell_type": "code",
   "execution_count": null,
   "id": "5bec7676",
   "metadata": {},
   "outputs": [],
   "source": [
    "from sdv.evaluation.single_table import run_diagnostic\n",
    "\n",
    "diagnostic_report = run_diagnostic(\n",
    "    real_data=mushroom_table,\n",
    "    synthetic_data=synthetic_data,\n",
    "    metadata=metadata)"
   ]
  },
  {
   "cell_type": "code",
   "execution_count": null,
   "id": "381a066f",
   "metadata": {},
   "outputs": [],
   "source": [
    "from sdv.evaluation.single_table import get_column_plot\n",
    "\n",
    "fig = get_column_plot(\n",
    "    real_data=mushroom_table,\n",
    "    synthetic_data=synthetic_data,\n",
    "    column_name='cap-shape',\n",
    "    metadata=metadata\n",
    ")\n",
    "    \n",
    "fig.show()"
   ]
  },
  {
   "cell_type": "markdown",
   "id": "6327a7b5",
   "metadata": {},
   "source": [
    "Does not really maintain the statistical distribution"
   ]
  },
  {
   "cell_type": "code",
   "execution_count": null,
   "id": "f624ba2a",
   "metadata": {},
   "outputs": [],
   "source": []
  }
 ],
 "metadata": {
  "kernelspec": {
   "display_name": "Python 3 (ipykernel)",
   "language": "python",
   "name": "python3"
  },
  "language_info": {
   "codemirror_mode": {
    "name": "ipython",
    "version": 3
   },
   "file_extension": ".py",
   "mimetype": "text/x-python",
   "name": "python",
   "nbconvert_exporter": "python",
   "pygments_lexer": "ipython3",
   "version": "3.10.9"
  }
 },
 "nbformat": 4,
 "nbformat_minor": 5
}
