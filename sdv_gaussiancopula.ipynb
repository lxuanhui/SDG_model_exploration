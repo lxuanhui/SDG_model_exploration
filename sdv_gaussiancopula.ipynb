{
  "cells": [
    {
      "cell_type": "markdown",
      "metadata": {
        "id": "view-in-github",
        "colab_type": "text"
      },
      "source": [
        "<a href=\"https://colab.research.google.com/github/lxuanhui/SDG_model_exploration/blob/main/sdv_gaussiancopula.ipynb\" target=\"_parent\"><img src=\"https://colab.research.google.com/assets/colab-badge.svg\" alt=\"Open In Colab\"/></a>"
      ]
    },
    {
      "cell_type": "code",
      "execution_count": null,
      "id": "d866b0b2",
      "metadata": {
        "colab": {
          "base_uri": "https://localhost:8080/",
          "height": 1000
        },
        "id": "d866b0b2",
        "outputId": "15bb7553-37e1-4052-8e15-9f3011d60e25"
      },
      "outputs": [
        {
          "output_type": "stream",
          "name": "stdout",
          "text": [
            "Looking in indexes: https://pypi.org/simple, https://us-python.pkg.dev/colab-wheels/public/simple/\n",
            "Requirement already satisfied: sdv in /usr/local/lib/python3.10/dist-packages (1.2.0)\n",
            "Requirement already satisfied: Faker<15,>=10 in /usr/local/lib/python3.10/dist-packages (from sdv) (14.2.1)\n",
            "Requirement already satisfied: graphviz<1,>=0.13.2 in /usr/local/lib/python3.10/dist-packages (from sdv) (0.20.1)\n",
            "Requirement already satisfied: tqdm<5,>=4.15 in /usr/local/lib/python3.10/dist-packages (from sdv) (4.65.0)\n",
            "Requirement already satisfied: copulas<0.10,>=0.9.0 in /usr/local/lib/python3.10/dist-packages (from sdv) (0.9.0)\n",
            "Requirement already satisfied: ctgan<0.8,>=0.7.2 in /usr/local/lib/python3.10/dist-packages (from sdv) (0.7.3)\n",
            "Requirement already satisfied: deepecho<0.5,>=0.4.1 in /usr/local/lib/python3.10/dist-packages (from sdv) (0.4.1)\n",
            "Requirement already satisfied: rdt<2,>=1.5.0 in /usr/local/lib/python3.10/dist-packages (from sdv) (1.5.0)\n",
            "Requirement already satisfied: sdmetrics<0.11,>=0.10.0 in /usr/local/lib/python3.10/dist-packages (from sdv) (0.10.1)\n",
            "Requirement already satisfied: cloudpickle<3.0,>=2.1.0 in /usr/local/lib/python3.10/dist-packages (from sdv) (2.2.1)\n",
            "Requirement already satisfied: boto3<2,>=1.15.0 in /usr/local/lib/python3.10/dist-packages (from sdv) (1.26.157)\n",
            "Requirement already satisfied: botocore<2,>=1.18 in /usr/local/lib/python3.10/dist-packages (from sdv) (1.29.157)\n",
            "Requirement already satisfied: numpy<2,>=1.23.3 in /usr/local/lib/python3.10/dist-packages (from sdv) (1.25.0)\n",
            "Requirement already satisfied: pandas>=1.5.0 in /usr/local/lib/python3.10/dist-packages (from sdv) (1.5.3)\n",
            "Requirement already satisfied: jmespath<2.0.0,>=0.7.1 in /usr/local/lib/python3.10/dist-packages (from boto3<2,>=1.15.0->sdv) (1.0.1)\n",
            "Requirement already satisfied: s3transfer<0.7.0,>=0.6.0 in /usr/local/lib/python3.10/dist-packages (from boto3<2,>=1.15.0->sdv) (0.6.1)\n",
            "Requirement already satisfied: python-dateutil<3.0.0,>=2.1 in /usr/local/lib/python3.10/dist-packages (from botocore<2,>=1.18->sdv) (2.8.2)\n",
            "Requirement already satisfied: urllib3<1.27,>=1.25.4 in /usr/local/lib/python3.10/dist-packages (from botocore<2,>=1.18->sdv) (1.26.15)\n",
            "Requirement already satisfied: matplotlib<4,>=3.6.0 in /usr/local/lib/python3.10/dist-packages (from copulas<0.10,>=0.9.0->sdv) (3.7.1)\n",
            "Requirement already satisfied: scipy<2,>=1.9.2 in /usr/local/lib/python3.10/dist-packages (from copulas<0.10,>=0.9.0->sdv) (1.10.1)\n",
            "Requirement already satisfied: packaging<22,>=20 in /usr/local/lib/python3.10/dist-packages (from ctgan<0.8,>=0.7.2->sdv) (21.3)\n",
            "Requirement already satisfied: scikit-learn<2,>=1.1.3 in /usr/local/lib/python3.10/dist-packages (from ctgan<0.8,>=0.7.2->sdv) (1.2.2)\n",
            "Requirement already satisfied: torch>=1.11.0 in /usr/local/lib/python3.10/dist-packages (from ctgan<0.8,>=0.7.2->sdv) (2.0.1+cu118)\n",
            "Requirement already satisfied: pytz>=2020.1 in /usr/local/lib/python3.10/dist-packages (from pandas>=1.5.0->sdv) (2022.7.1)\n",
            "Requirement already satisfied: psutil<6,>=5.7 in /usr/local/lib/python3.10/dist-packages (from rdt<2,>=1.5.0->sdv) (5.9.5)\n",
            "Requirement already satisfied: plotly<6,>=5.10.0 in /usr/local/lib/python3.10/dist-packages (from sdmetrics<0.11,>=0.10.0->sdv) (5.13.1)\n",
            "Requirement already satisfied: contourpy>=1.0.1 in /usr/local/lib/python3.10/dist-packages (from matplotlib<4,>=3.6.0->copulas<0.10,>=0.9.0->sdv) (1.0.7)\n",
            "Requirement already satisfied: cycler>=0.10 in /usr/local/lib/python3.10/dist-packages (from matplotlib<4,>=3.6.0->copulas<0.10,>=0.9.0->sdv) (0.11.0)\n",
            "Requirement already satisfied: fonttools>=4.22.0 in /usr/local/lib/python3.10/dist-packages (from matplotlib<4,>=3.6.0->copulas<0.10,>=0.9.0->sdv) (4.39.3)\n",
            "Requirement already satisfied: kiwisolver>=1.0.1 in /usr/local/lib/python3.10/dist-packages (from matplotlib<4,>=3.6.0->copulas<0.10,>=0.9.0->sdv) (1.4.4)\n",
            "Requirement already satisfied: pillow>=6.2.0 in /usr/local/lib/python3.10/dist-packages (from matplotlib<4,>=3.6.0->copulas<0.10,>=0.9.0->sdv) (8.4.0)\n",
            "Requirement already satisfied: pyparsing>=2.3.1 in /usr/local/lib/python3.10/dist-packages (from matplotlib<4,>=3.6.0->copulas<0.10,>=0.9.0->sdv) (3.0.9)\n",
            "Requirement already satisfied: tenacity>=6.2.0 in /usr/local/lib/python3.10/dist-packages (from plotly<6,>=5.10.0->sdmetrics<0.11,>=0.10.0->sdv) (8.2.2)\n",
            "Requirement already satisfied: six>=1.5 in /usr/local/lib/python3.10/dist-packages (from python-dateutil<3.0.0,>=2.1->botocore<2,>=1.18->sdv) (1.16.0)\n",
            "Requirement already satisfied: joblib>=1.1.1 in /usr/local/lib/python3.10/dist-packages (from scikit-learn<2,>=1.1.3->ctgan<0.8,>=0.7.2->sdv) (1.2.0)\n",
            "Requirement already satisfied: threadpoolctl>=2.0.0 in /usr/local/lib/python3.10/dist-packages (from scikit-learn<2,>=1.1.3->ctgan<0.8,>=0.7.2->sdv) (3.1.0)\n",
            "Requirement already satisfied: filelock in /usr/local/lib/python3.10/dist-packages (from torch>=1.11.0->ctgan<0.8,>=0.7.2->sdv) (3.12.0)\n",
            "Requirement already satisfied: typing-extensions in /usr/local/lib/python3.10/dist-packages (from torch>=1.11.0->ctgan<0.8,>=0.7.2->sdv) (4.5.0)\n",
            "Requirement already satisfied: sympy in /usr/local/lib/python3.10/dist-packages (from torch>=1.11.0->ctgan<0.8,>=0.7.2->sdv) (1.11.1)\n",
            "Requirement already satisfied: networkx in /usr/local/lib/python3.10/dist-packages (from torch>=1.11.0->ctgan<0.8,>=0.7.2->sdv) (3.1)\n",
            "Requirement already satisfied: jinja2 in /usr/local/lib/python3.10/dist-packages (from torch>=1.11.0->ctgan<0.8,>=0.7.2->sdv) (3.1.2)\n",
            "Requirement already satisfied: triton==2.0.0 in /usr/local/lib/python3.10/dist-packages (from torch>=1.11.0->ctgan<0.8,>=0.7.2->sdv) (2.0.0)\n",
            "Requirement already satisfied: cmake in /usr/local/lib/python3.10/dist-packages (from triton==2.0.0->torch>=1.11.0->ctgan<0.8,>=0.7.2->sdv) (3.25.2)\n",
            "Requirement already satisfied: lit in /usr/local/lib/python3.10/dist-packages (from triton==2.0.0->torch>=1.11.0->ctgan<0.8,>=0.7.2->sdv) (16.0.5)\n",
            "Requirement already satisfied: MarkupSafe>=2.0 in /usr/local/lib/python3.10/dist-packages (from jinja2->torch>=1.11.0->ctgan<0.8,>=0.7.2->sdv) (2.1.2)\n",
            "Requirement already satisfied: mpmath>=0.19 in /usr/local/lib/python3.10/dist-packages (from sympy->torch>=1.11.0->ctgan<0.8,>=0.7.2->sdv) (1.3.0)\n",
            "Looking in indexes: https://pypi.org/simple, https://us-python.pkg.dev/colab-wheels/public/simple/\n",
            "Collecting ydata-profiling\n",
            "  Downloading ydata_profiling-4.3.1-py2.py3-none-any.whl (352 kB)\n",
            "\u001b[2K     \u001b[90m━━━━━━━━━━━━━━━━━━━━━━━━━━━━━━━━━━━━━━\u001b[0m \u001b[32m353.0/353.0 kB\u001b[0m \u001b[31m20.6 MB/s\u001b[0m eta \u001b[36m0:00:00\u001b[0m\n",
            "\u001b[?25hRequirement already satisfied: scipy<1.11,>=1.4.1 in /usr/local/lib/python3.10/dist-packages (from ydata-profiling) (1.10.1)\n",
            "Requirement already satisfied: pandas!=1.4.0,<2.1,>1.1 in /usr/local/lib/python3.10/dist-packages (from ydata-profiling) (1.5.3)\n",
            "Requirement already satisfied: matplotlib<4,>=3.2 in /usr/local/lib/python3.10/dist-packages (from ydata-profiling) (3.7.1)\n",
            "Requirement already satisfied: pydantic<2,>=1.8.1 in /usr/local/lib/python3.10/dist-packages (from ydata-profiling) (1.10.7)\n",
            "Requirement already satisfied: PyYAML<6.1,>=5.0.0 in /usr/local/lib/python3.10/dist-packages (from ydata-profiling) (6.0)\n",
            "Requirement already satisfied: jinja2<3.2,>=2.11.1 in /usr/local/lib/python3.10/dist-packages (from ydata-profiling) (3.1.2)\n",
            "Collecting visions[type_image_path]==0.7.5 (from ydata-profiling)\n",
            "  Downloading visions-0.7.5-py3-none-any.whl (102 kB)\n",
            "\u001b[2K     \u001b[90m━━━━━━━━━━━━━━━━━━━━━━━━━━━━━━━━━━━━━━\u001b[0m \u001b[32m102.7/102.7 kB\u001b[0m \u001b[31m12.9 MB/s\u001b[0m eta \u001b[36m0:00:00\u001b[0m\n",
            "\u001b[?25hCollecting numpy<1.24,>=1.16.0 (from ydata-profiling)\n",
            "  Downloading numpy-1.23.5-cp310-cp310-manylinux_2_17_x86_64.manylinux2014_x86_64.whl (17.1 MB)\n",
            "\u001b[2K     \u001b[90m━━━━━━━━━━━━━━━━━━━━━━━━━━━━━━━━━━━━━━━\u001b[0m \u001b[32m17.1/17.1 MB\u001b[0m \u001b[31m110.3 MB/s\u001b[0m eta \u001b[36m0:00:00\u001b[0m\n",
            "\u001b[?25hCollecting htmlmin==0.1.12 (from ydata-profiling)\n",
            "  Downloading htmlmin-0.1.12.tar.gz (19 kB)\n",
            "  Preparing metadata (setup.py) ... \u001b[?25l\u001b[?25hdone\n",
            "Collecting phik<0.13,>=0.11.1 (from ydata-profiling)\n",
            "  Downloading phik-0.12.3-cp310-cp310-manylinux_2_17_x86_64.manylinux2014_x86_64.whl (679 kB)\n",
            "\u001b[2K     \u001b[90m━━━━━━━━━━━━━━━━━━━━━━━━━━━━━━━━━━━━━━\u001b[0m \u001b[32m679.5/679.5 kB\u001b[0m \u001b[31m64.2 MB/s\u001b[0m eta \u001b[36m0:00:00\u001b[0m\n",
            "\u001b[?25hRequirement already satisfied: requests<3,>=2.24.0 in /usr/local/lib/python3.10/dist-packages (from ydata-profiling) (2.27.1)\n",
            "Requirement already satisfied: tqdm<5,>=4.48.2 in /usr/local/lib/python3.10/dist-packages (from ydata-profiling) (4.65.0)\n",
            "Requirement already satisfied: seaborn<0.13,>=0.10.1 in /usr/local/lib/python3.10/dist-packages (from ydata-profiling) (0.12.2)\n",
            "Collecting multimethod<2,>=1.4 (from ydata-profiling)\n",
            "  Downloading multimethod-1.9.1-py3-none-any.whl (10 kB)\n",
            "Requirement already satisfied: statsmodels<1,>=0.13.2 in /usr/local/lib/python3.10/dist-packages (from ydata-profiling) (0.13.5)\n",
            "Collecting typeguard<3,>=2.13.2 (from ydata-profiling)\n",
            "  Downloading typeguard-2.13.3-py3-none-any.whl (17 kB)\n",
            "Collecting imagehash==4.3.1 (from ydata-profiling)\n",
            "  Downloading ImageHash-4.3.1-py2.py3-none-any.whl (296 kB)\n",
            "\u001b[2K     \u001b[90m━━━━━━━━━━━━━━━━━━━━━━━━━━━━━━━━━━━━━━\u001b[0m \u001b[32m296.5/296.5 kB\u001b[0m \u001b[31m31.6 MB/s\u001b[0m eta \u001b[36m0:00:00\u001b[0m\n",
            "\u001b[?25hCollecting wordcloud>=1.9.1 (from ydata-profiling)\n",
            "  Downloading wordcloud-1.9.2-cp310-cp310-manylinux_2_17_x86_64.manylinux2014_x86_64.whl (455 kB)\n",
            "\u001b[2K     \u001b[90m━━━━━━━━━━━━━━━━━━━━━━━━━━━━━━━━━━━━━━\u001b[0m \u001b[32m455.4/455.4 kB\u001b[0m \u001b[31m34.2 MB/s\u001b[0m eta \u001b[36m0:00:00\u001b[0m\n",
            "\u001b[?25hCollecting dacite>=1.8 (from ydata-profiling)\n",
            "  Downloading dacite-1.8.1-py3-none-any.whl (14 kB)\n",
            "Requirement already satisfied: PyWavelets in /usr/local/lib/python3.10/dist-packages (from imagehash==4.3.1->ydata-profiling) (1.4.1)\n",
            "Requirement already satisfied: pillow in /usr/local/lib/python3.10/dist-packages (from imagehash==4.3.1->ydata-profiling) (8.4.0)\n",
            "Requirement already satisfied: attrs>=19.3.0 in /usr/local/lib/python3.10/dist-packages (from visions[type_image_path]==0.7.5->ydata-profiling) (23.1.0)\n",
            "Requirement already satisfied: networkx>=2.4 in /usr/local/lib/python3.10/dist-packages (from visions[type_image_path]==0.7.5->ydata-profiling) (3.1)\n",
            "Collecting tangled-up-in-unicode>=0.0.4 (from visions[type_image_path]==0.7.5->ydata-profiling)\n",
            "  Downloading tangled_up_in_unicode-0.2.0-py3-none-any.whl (4.7 MB)\n",
            "\u001b[2K     \u001b[90m━━━━━━━━━━━━━━━━━━━━━━━━━━━━━━━━━━━━━━━━\u001b[0m \u001b[32m4.7/4.7 MB\u001b[0m \u001b[31m122.4 MB/s\u001b[0m eta \u001b[36m0:00:00\u001b[0m\n",
            "\u001b[?25hRequirement already satisfied: MarkupSafe>=2.0 in /usr/local/lib/python3.10/dist-packages (from jinja2<3.2,>=2.11.1->ydata-profiling) (2.1.2)\n",
            "Requirement already satisfied: contourpy>=1.0.1 in /usr/local/lib/python3.10/dist-packages (from matplotlib<4,>=3.2->ydata-profiling) (1.0.7)\n",
            "Requirement already satisfied: cycler>=0.10 in /usr/local/lib/python3.10/dist-packages (from matplotlib<4,>=3.2->ydata-profiling) (0.11.0)\n",
            "Requirement already satisfied: fonttools>=4.22.0 in /usr/local/lib/python3.10/dist-packages (from matplotlib<4,>=3.2->ydata-profiling) (4.39.3)\n",
            "Requirement already satisfied: kiwisolver>=1.0.1 in /usr/local/lib/python3.10/dist-packages (from matplotlib<4,>=3.2->ydata-profiling) (1.4.4)\n",
            "Requirement already satisfied: packaging>=20.0 in /usr/local/lib/python3.10/dist-packages (from matplotlib<4,>=3.2->ydata-profiling) (21.3)\n",
            "Requirement already satisfied: pyparsing>=2.3.1 in /usr/local/lib/python3.10/dist-packages (from matplotlib<4,>=3.2->ydata-profiling) (3.0.9)\n",
            "Requirement already satisfied: python-dateutil>=2.7 in /usr/local/lib/python3.10/dist-packages (from matplotlib<4,>=3.2->ydata-profiling) (2.8.2)\n",
            "Requirement already satisfied: pytz>=2020.1 in /usr/local/lib/python3.10/dist-packages (from pandas!=1.4.0,<2.1,>1.1->ydata-profiling) (2022.7.1)\n",
            "Requirement already satisfied: joblib>=0.14.1 in /usr/local/lib/python3.10/dist-packages (from phik<0.13,>=0.11.1->ydata-profiling) (1.2.0)\n",
            "Requirement already satisfied: typing-extensions>=4.2.0 in /usr/local/lib/python3.10/dist-packages (from pydantic<2,>=1.8.1->ydata-profiling) (4.5.0)\n",
            "Requirement already satisfied: urllib3<1.27,>=1.21.1 in /usr/local/lib/python3.10/dist-packages (from requests<3,>=2.24.0->ydata-profiling) (1.26.15)\n",
            "Requirement already satisfied: certifi>=2017.4.17 in /usr/local/lib/python3.10/dist-packages (from requests<3,>=2.24.0->ydata-profiling) (2022.12.7)\n",
            "Requirement already satisfied: charset-normalizer~=2.0.0 in /usr/local/lib/python3.10/dist-packages (from requests<3,>=2.24.0->ydata-profiling) (2.0.12)\n",
            "Requirement already satisfied: idna<4,>=2.5 in /usr/local/lib/python3.10/dist-packages (from requests<3,>=2.24.0->ydata-profiling) (3.4)\n",
            "Requirement already satisfied: patsy>=0.5.2 in /usr/local/lib/python3.10/dist-packages (from statsmodels<1,>=0.13.2->ydata-profiling) (0.5.3)\n",
            "Requirement already satisfied: six in /usr/local/lib/python3.10/dist-packages (from patsy>=0.5.2->statsmodels<1,>=0.13.2->ydata-profiling) (1.16.0)\n",
            "Building wheels for collected packages: htmlmin\n",
            "  Building wheel for htmlmin (setup.py) ... \u001b[?25l\u001b[?25hdone\n",
            "  Created wheel for htmlmin: filename=htmlmin-0.1.12-py3-none-any.whl size=27081 sha256=ddc0b956c62e08d879505c9d0627d12cbcedd8656b1340dd9744e6584ab4fbdc\n",
            "  Stored in directory: /root/.cache/pip/wheels/dd/91/29/a79cecb328d01739e64017b6fb9a1ab9d8cb1853098ec5966d\n",
            "Successfully built htmlmin\n",
            "Installing collected packages: htmlmin, typeguard, tangled-up-in-unicode, numpy, multimethod, dacite, visions, imagehash, wordcloud, phik, ydata-profiling\n",
            "  Attempting uninstall: numpy\n",
            "    Found existing installation: numpy 1.25.0\n",
            "    Uninstalling numpy-1.25.0:\n",
            "      Successfully uninstalled numpy-1.25.0\n",
            "  Attempting uninstall: wordcloud\n",
            "    Found existing installation: wordcloud 1.8.2.2\n",
            "    Uninstalling wordcloud-1.8.2.2:\n",
            "      Successfully uninstalled wordcloud-1.8.2.2\n",
            "Successfully installed dacite-1.8.1 htmlmin-0.1.12 imagehash-4.3.1 multimethod-1.9.1 numpy-1.23.5 phik-0.12.3 tangled-up-in-unicode-0.2.0 typeguard-2.13.3 visions-0.7.5 wordcloud-1.9.2 ydata-profiling-4.3.1\n"
          ]
        },
        {
          "output_type": "display_data",
          "data": {
            "application/vnd.colab-display-data+json": {
              "pip_warning": {
                "packages": [
                  "numpy"
                ]
              }
            }
          },
          "metadata": {}
        }
      ],
      "source": [
        "!pip install sdv\n",
        "!pip install -U ydata-profiling"
      ]
    },
    {
      "cell_type": "code",
      "execution_count": null,
      "id": "1fa36e1f",
      "metadata": {
        "colab": {
          "base_uri": "https://localhost:8080/"
        },
        "id": "1fa36e1f",
        "outputId": "deb0de16-a201-4646-ed74-3713aeb04ead"
      },
      "outputs": [
        {
          "output_type": "stream",
          "name": "stdout",
          "text": [
            "1.2.0\n"
          ]
        }
      ],
      "source": [
        "import sdv\n",
        "print(sdv.__version__)"
      ]
    },
    {
      "cell_type": "code",
      "execution_count": null,
      "id": "5b18b540",
      "metadata": {
        "id": "5b18b540"
      },
      "outputs": [],
      "source": [
        "from sdv.datasets.local import load_csvs\n",
        "datasets = load_csvs(folder_name='./')\n",
        "mushroom_table = datasets['mushroom_table']"
      ]
    },
    {
      "cell_type": "code",
      "execution_count": null,
      "id": "eefd8798",
      "metadata": {
        "colab": {
          "base_uri": "https://localhost:8080/",
          "height": 332
        },
        "id": "eefd8798",
        "outputId": "7d37f4c0-5221-4aa4-d497-b6e6ddd38eec"
      },
      "outputs": [
        {
          "output_type": "execute_result",
          "data": {
            "text/plain": [
              "   poisonous cap-shape cap-surface cap-color  bruises     odor  \\\n",
              "0  poisonous    convex      smooth     brown  bruises  pungent   \n",
              "1     edible    convex      smooth    yellow  bruises   almond   \n",
              "2     edible      bell      smooth     white  bruises    anise   \n",
              "3  poisonous    convex       scaly     white  bruises  pungent   \n",
              "4     edible    convex      smooth      gray       no     none   \n",
              "\n",
              "  gill-attachment gill-spacing gill-size gill-color  ...  \\\n",
              "0            free        close    narrow      black  ...   \n",
              "1            free        close     broad      black  ...   \n",
              "2            free        close     broad      brown  ...   \n",
              "3            free        close    narrow      brown  ...   \n",
              "4            free      crowded     broad      black  ...   \n",
              "\n",
              "  stalk-surface-below-ring stalk-color-above-ring stalk-color-below-ring  \\\n",
              "0                   smooth                  white                  white   \n",
              "1                   smooth                  white                  white   \n",
              "2                   smooth                  white                  white   \n",
              "3                   smooth                  white                  white   \n",
              "4                   smooth                  white                  white   \n",
              "\n",
              "  veil-type veil-color ring-number   ring-type spore-print-color population  \\\n",
              "0   partial      white         one     pendant             black  scattered   \n",
              "1   partial      white         one     pendant             brown   numerous   \n",
              "2   partial      white         one     pendant             brown   numerous   \n",
              "3   partial      white         one     pendant             black  scattered   \n",
              "4   partial      white         one  evanescent             brown   abundant   \n",
              "\n",
              "   habitat  \n",
              "0    urban  \n",
              "1  grasses  \n",
              "2  meadows  \n",
              "3    urban  \n",
              "4  grasses  \n",
              "\n",
              "[5 rows x 23 columns]"
            ],
            "text/html": [
              "\n",
              "  <div id=\"df-7f95ee92-7b1c-43db-98bb-7f27c93d94bf\">\n",
              "    <div class=\"colab-df-container\">\n",
              "      <div>\n",
              "<style scoped>\n",
              "    .dataframe tbody tr th:only-of-type {\n",
              "        vertical-align: middle;\n",
              "    }\n",
              "\n",
              "    .dataframe tbody tr th {\n",
              "        vertical-align: top;\n",
              "    }\n",
              "\n",
              "    .dataframe thead th {\n",
              "        text-align: right;\n",
              "    }\n",
              "</style>\n",
              "<table border=\"1\" class=\"dataframe\">\n",
              "  <thead>\n",
              "    <tr style=\"text-align: right;\">\n",
              "      <th></th>\n",
              "      <th>poisonous</th>\n",
              "      <th>cap-shape</th>\n",
              "      <th>cap-surface</th>\n",
              "      <th>cap-color</th>\n",
              "      <th>bruises</th>\n",
              "      <th>odor</th>\n",
              "      <th>gill-attachment</th>\n",
              "      <th>gill-spacing</th>\n",
              "      <th>gill-size</th>\n",
              "      <th>gill-color</th>\n",
              "      <th>...</th>\n",
              "      <th>stalk-surface-below-ring</th>\n",
              "      <th>stalk-color-above-ring</th>\n",
              "      <th>stalk-color-below-ring</th>\n",
              "      <th>veil-type</th>\n",
              "      <th>veil-color</th>\n",
              "      <th>ring-number</th>\n",
              "      <th>ring-type</th>\n",
              "      <th>spore-print-color</th>\n",
              "      <th>population</th>\n",
              "      <th>habitat</th>\n",
              "    </tr>\n",
              "  </thead>\n",
              "  <tbody>\n",
              "    <tr>\n",
              "      <th>0</th>\n",
              "      <td>poisonous</td>\n",
              "      <td>convex</td>\n",
              "      <td>smooth</td>\n",
              "      <td>brown</td>\n",
              "      <td>bruises</td>\n",
              "      <td>pungent</td>\n",
              "      <td>free</td>\n",
              "      <td>close</td>\n",
              "      <td>narrow</td>\n",
              "      <td>black</td>\n",
              "      <td>...</td>\n",
              "      <td>smooth</td>\n",
              "      <td>white</td>\n",
              "      <td>white</td>\n",
              "      <td>partial</td>\n",
              "      <td>white</td>\n",
              "      <td>one</td>\n",
              "      <td>pendant</td>\n",
              "      <td>black</td>\n",
              "      <td>scattered</td>\n",
              "      <td>urban</td>\n",
              "    </tr>\n",
              "    <tr>\n",
              "      <th>1</th>\n",
              "      <td>edible</td>\n",
              "      <td>convex</td>\n",
              "      <td>smooth</td>\n",
              "      <td>yellow</td>\n",
              "      <td>bruises</td>\n",
              "      <td>almond</td>\n",
              "      <td>free</td>\n",
              "      <td>close</td>\n",
              "      <td>broad</td>\n",
              "      <td>black</td>\n",
              "      <td>...</td>\n",
              "      <td>smooth</td>\n",
              "      <td>white</td>\n",
              "      <td>white</td>\n",
              "      <td>partial</td>\n",
              "      <td>white</td>\n",
              "      <td>one</td>\n",
              "      <td>pendant</td>\n",
              "      <td>brown</td>\n",
              "      <td>numerous</td>\n",
              "      <td>grasses</td>\n",
              "    </tr>\n",
              "    <tr>\n",
              "      <th>2</th>\n",
              "      <td>edible</td>\n",
              "      <td>bell</td>\n",
              "      <td>smooth</td>\n",
              "      <td>white</td>\n",
              "      <td>bruises</td>\n",
              "      <td>anise</td>\n",
              "      <td>free</td>\n",
              "      <td>close</td>\n",
              "      <td>broad</td>\n",
              "      <td>brown</td>\n",
              "      <td>...</td>\n",
              "      <td>smooth</td>\n",
              "      <td>white</td>\n",
              "      <td>white</td>\n",
              "      <td>partial</td>\n",
              "      <td>white</td>\n",
              "      <td>one</td>\n",
              "      <td>pendant</td>\n",
              "      <td>brown</td>\n",
              "      <td>numerous</td>\n",
              "      <td>meadows</td>\n",
              "    </tr>\n",
              "    <tr>\n",
              "      <th>3</th>\n",
              "      <td>poisonous</td>\n",
              "      <td>convex</td>\n",
              "      <td>scaly</td>\n",
              "      <td>white</td>\n",
              "      <td>bruises</td>\n",
              "      <td>pungent</td>\n",
              "      <td>free</td>\n",
              "      <td>close</td>\n",
              "      <td>narrow</td>\n",
              "      <td>brown</td>\n",
              "      <td>...</td>\n",
              "      <td>smooth</td>\n",
              "      <td>white</td>\n",
              "      <td>white</td>\n",
              "      <td>partial</td>\n",
              "      <td>white</td>\n",
              "      <td>one</td>\n",
              "      <td>pendant</td>\n",
              "      <td>black</td>\n",
              "      <td>scattered</td>\n",
              "      <td>urban</td>\n",
              "    </tr>\n",
              "    <tr>\n",
              "      <th>4</th>\n",
              "      <td>edible</td>\n",
              "      <td>convex</td>\n",
              "      <td>smooth</td>\n",
              "      <td>gray</td>\n",
              "      <td>no</td>\n",
              "      <td>none</td>\n",
              "      <td>free</td>\n",
              "      <td>crowded</td>\n",
              "      <td>broad</td>\n",
              "      <td>black</td>\n",
              "      <td>...</td>\n",
              "      <td>smooth</td>\n",
              "      <td>white</td>\n",
              "      <td>white</td>\n",
              "      <td>partial</td>\n",
              "      <td>white</td>\n",
              "      <td>one</td>\n",
              "      <td>evanescent</td>\n",
              "      <td>brown</td>\n",
              "      <td>abundant</td>\n",
              "      <td>grasses</td>\n",
              "    </tr>\n",
              "  </tbody>\n",
              "</table>\n",
              "<p>5 rows × 23 columns</p>\n",
              "</div>\n",
              "      <button class=\"colab-df-convert\" onclick=\"convertToInteractive('df-7f95ee92-7b1c-43db-98bb-7f27c93d94bf')\"\n",
              "              title=\"Convert this dataframe to an interactive table.\"\n",
              "              style=\"display:none;\">\n",
              "        \n",
              "  <svg xmlns=\"http://www.w3.org/2000/svg\" height=\"24px\"viewBox=\"0 0 24 24\"\n",
              "       width=\"24px\">\n",
              "    <path d=\"M0 0h24v24H0V0z\" fill=\"none\"/>\n",
              "    <path d=\"M18.56 5.44l.94 2.06.94-2.06 2.06-.94-2.06-.94-.94-2.06-.94 2.06-2.06.94zm-11 1L8.5 8.5l.94-2.06 2.06-.94-2.06-.94L8.5 2.5l-.94 2.06-2.06.94zm10 10l.94 2.06.94-2.06 2.06-.94-2.06-.94-.94-2.06-.94 2.06-2.06.94z\"/><path d=\"M17.41 7.96l-1.37-1.37c-.4-.4-.92-.59-1.43-.59-.52 0-1.04.2-1.43.59L10.3 9.45l-7.72 7.72c-.78.78-.78 2.05 0 2.83L4 21.41c.39.39.9.59 1.41.59.51 0 1.02-.2 1.41-.59l7.78-7.78 2.81-2.81c.8-.78.8-2.07 0-2.86zM5.41 20L4 18.59l7.72-7.72 1.47 1.35L5.41 20z\"/>\n",
              "  </svg>\n",
              "      </button>\n",
              "      \n",
              "  <style>\n",
              "    .colab-df-container {\n",
              "      display:flex;\n",
              "      flex-wrap:wrap;\n",
              "      gap: 12px;\n",
              "    }\n",
              "\n",
              "    .colab-df-convert {\n",
              "      background-color: #E8F0FE;\n",
              "      border: none;\n",
              "      border-radius: 50%;\n",
              "      cursor: pointer;\n",
              "      display: none;\n",
              "      fill: #1967D2;\n",
              "      height: 32px;\n",
              "      padding: 0 0 0 0;\n",
              "      width: 32px;\n",
              "    }\n",
              "\n",
              "    .colab-df-convert:hover {\n",
              "      background-color: #E2EBFA;\n",
              "      box-shadow: 0px 1px 2px rgba(60, 64, 67, 0.3), 0px 1px 3px 1px rgba(60, 64, 67, 0.15);\n",
              "      fill: #174EA6;\n",
              "    }\n",
              "\n",
              "    [theme=dark] .colab-df-convert {\n",
              "      background-color: #3B4455;\n",
              "      fill: #D2E3FC;\n",
              "    }\n",
              "\n",
              "    [theme=dark] .colab-df-convert:hover {\n",
              "      background-color: #434B5C;\n",
              "      box-shadow: 0px 1px 3px 1px rgba(0, 0, 0, 0.15);\n",
              "      filter: drop-shadow(0px 1px 2px rgba(0, 0, 0, 0.3));\n",
              "      fill: #FFFFFF;\n",
              "    }\n",
              "  </style>\n",
              "\n",
              "      <script>\n",
              "        const buttonEl =\n",
              "          document.querySelector('#df-7f95ee92-7b1c-43db-98bb-7f27c93d94bf button.colab-df-convert');\n",
              "        buttonEl.style.display =\n",
              "          google.colab.kernel.accessAllowed ? 'block' : 'none';\n",
              "\n",
              "        async function convertToInteractive(key) {\n",
              "          const element = document.querySelector('#df-7f95ee92-7b1c-43db-98bb-7f27c93d94bf');\n",
              "          const dataTable =\n",
              "            await google.colab.kernel.invokeFunction('convertToInteractive',\n",
              "                                                     [key], {});\n",
              "          if (!dataTable) return;\n",
              "\n",
              "          const docLinkHtml = 'Like what you see? Visit the ' +\n",
              "            '<a target=\"_blank\" href=https://colab.research.google.com/notebooks/data_table.ipynb>data table notebook</a>'\n",
              "            + ' to learn more about interactive tables.';\n",
              "          element.innerHTML = '';\n",
              "          dataTable['output_type'] = 'display_data';\n",
              "          await google.colab.output.renderOutput(dataTable, element);\n",
              "          const docLink = document.createElement('div');\n",
              "          docLink.innerHTML = docLinkHtml;\n",
              "          element.appendChild(docLink);\n",
              "        }\n",
              "      </script>\n",
              "    </div>\n",
              "  </div>\n",
              "  "
            ]
          },
          "metadata": {},
          "execution_count": 19
        }
      ],
      "source": [
        "mushroom_table.head(5)"
      ]
    },
    {
      "cell_type": "code",
      "execution_count": null,
      "id": "aa7b962d",
      "metadata": {
        "id": "aa7b962d"
      },
      "outputs": [],
      "source": [
        "from sdv.metadata import SingleTableMetadata\n",
        "metadata = SingleTableMetadata()\n",
        "metadata.detect_from_dataframe(data=mushroom_table)"
      ]
    },
    {
      "cell_type": "code",
      "execution_count": null,
      "id": "3a8ff3a5",
      "metadata": {
        "colab": {
          "base_uri": "https://localhost:8080/"
        },
        "id": "3a8ff3a5",
        "outputId": "3c49150b-d79e-498b-f385-c937313cb299"
      },
      "outputs": [
        {
          "output_type": "stream",
          "name": "stdout",
          "text": [
            "{'columns': {'poisonous': {'sdtype': 'categorical'}, 'cap-shape': {'sdtype': 'categorical'}, 'cap-surface': {'sdtype': 'categorical'}, 'cap-color': {'sdtype': 'categorical'}, 'bruises': {'sdtype': 'categorical'}, 'odor': {'sdtype': 'categorical'}, 'gill-attachment': {'sdtype': 'categorical'}, 'gill-spacing': {'sdtype': 'categorical'}, 'gill-size': {'sdtype': 'categorical'}, 'gill-color': {'sdtype': 'categorical'}, 'stalk-shape': {'sdtype': 'categorical'}, 'stalk-root': {'sdtype': 'categorical'}, 'stalk-surface-above-ring': {'sdtype': 'categorical'}, 'stalk-surface-below-ring': {'sdtype': 'categorical'}, 'stalk-color-above-ring': {'sdtype': 'categorical'}, 'stalk-color-below-ring': {'sdtype': 'categorical'}, 'veil-type': {'sdtype': 'categorical'}, 'veil-color': {'sdtype': 'categorical'}, 'ring-number': {'sdtype': 'categorical'}, 'ring-type': {'sdtype': 'categorical'}, 'spore-print-color': {'sdtype': 'categorical'}, 'population': {'sdtype': 'categorical'}, 'habitat': {'sdtype': 'categorical'}}, 'METADATA_SPEC_VERSION': 'SINGLE_TABLE_V1'}\n"
          ]
        }
      ],
      "source": [
        "python_dict = metadata.to_dict()\n",
        "print(python_dict)"
      ]
    },
    {
      "cell_type": "code",
      "execution_count": null,
      "id": "9a7a50b2",
      "metadata": {
        "id": "9a7a50b2"
      },
      "outputs": [],
      "source": [
        "metadata.validate()"
      ]
    },
    {
      "cell_type": "markdown",
      "id": "83b709ba",
      "metadata": {
        "id": "83b709ba"
      },
      "source": [
        "## Gaussian Copula"
      ]
    },
    {
      "cell_type": "code",
      "execution_count": null,
      "id": "a68e442c",
      "metadata": {
        "id": "a68e442c"
      },
      "outputs": [],
      "source": [
        "from sdv.single_table import GaussianCopulaSynthesizer\n",
        "\n",
        "# Step 1: Create the synthesizer\n",
        "synthesizer = GaussianCopulaSynthesizer(metadata)\n",
        "\n",
        "# Step 2: Train the synthesizer\n",
        "synthesizer.fit(mushroom_table)\n",
        "\n",
        "# Step 3: Generate synthetic data\n",
        "synthetic_data = synthesizer.sample(num_rows=100)"
      ]
    },
    {
      "cell_type": "code",
      "execution_count": null,
      "id": "348c994e",
      "metadata": {
        "colab": {
          "base_uri": "https://localhost:8080/",
          "height": 520
        },
        "id": "348c994e",
        "outputId": "b0092668-6bf4-4ab0-8507-60c89d460092"
      },
      "outputs": [
        {
          "output_type": "execute_result",
          "data": {
            "text/plain": [
              "    poisonous cap-shape cap-surface cap-color  bruises      odor  \\\n",
              "0      edible      bell       scaly     white       no     anise   \n",
              "1   poisonous   knobbed      smooth     brown  bruises  creosote   \n",
              "2      edible    convex     fibrous    yellow  bruises      none   \n",
              "3   poisonous    convex     grooves      pink  bruises      foul   \n",
              "4      edible    convex     grooves    yellow       no      foul   \n",
              "..        ...       ...         ...       ...      ...       ...   \n",
              "95  poisonous    sunken       scaly     white  bruises  creosote   \n",
              "96  poisonous   knobbed      smooth      pink       no  creosote   \n",
              "97     edible      flat      smooth       red       no  creosote   \n",
              "98  poisonous      flat     fibrous     white       no      none   \n",
              "99     edible    convex     grooves     brown  bruises      foul   \n",
              "\n",
              "   gill-attachment gill-spacing gill-size gill-color  ...  \\\n",
              "0             free      crowded     broad      brown  ...   \n",
              "1             free        close     broad     yellow  ...   \n",
              "2             free        close     broad       gray  ...   \n",
              "3             free      crowded     broad      brown  ...   \n",
              "4             free        close    narrow     purple  ...   \n",
              "..             ...          ...       ...        ...  ...   \n",
              "95            free        close    narrow  chocolate  ...   \n",
              "96            free        close    narrow       buff  ...   \n",
              "97            free      crowded    narrow  chocolate  ...   \n",
              "98            free        close    narrow      white  ...   \n",
              "99            free        close     broad       gray  ...   \n",
              "\n",
              "   stalk-surface-below-ring stalk-color-above-ring stalk-color-below-ring  \\\n",
              "0                    smooth                   gray                  white   \n",
              "1                    smooth                  white                  white   \n",
              "2                     silky                   gray                  white   \n",
              "3                     silky                  white                  white   \n",
              "4                   fibrous                  white                  white   \n",
              "..                      ...                    ...                    ...   \n",
              "95                    scaly                   gray                 yellow   \n",
              "96                    silky                   pink                   pink   \n",
              "97                    scaly                  white                  white   \n",
              "98                    silky                  brown                  white   \n",
              "99                  fibrous                   buff                   gray   \n",
              "\n",
              "   veil-type veil-color ring-number   ring-type spore-print-color population  \\\n",
              "0    partial      white         one  evanescent             black   abundant   \n",
              "1    partial      white         one     pendant             brown   abundant   \n",
              "2    partial      white         one     pendant             black   abundant   \n",
              "3    partial      white         one       large             brown    several   \n",
              "4    partial      white         one  evanescent         chocolate   solitary   \n",
              "..       ...        ...         ...         ...               ...        ...   \n",
              "95   partial      white         one  evanescent             white  clustered   \n",
              "96   partial      white        none     flaring              buff  clustered   \n",
              "97   partial      white         two  evanescent             white    several   \n",
              "98   partial      white         one  evanescent            purple  clustered   \n",
              "99   partial      white         two       large             black    several   \n",
              "\n",
              "    habitat  \n",
              "0   grasses  \n",
              "1    leaves  \n",
              "2   meadows  \n",
              "3     woods  \n",
              "4   grasses  \n",
              "..      ...  \n",
              "95   leaves  \n",
              "96   leaves  \n",
              "97  meadows  \n",
              "98    woods  \n",
              "99  meadows  \n",
              "\n",
              "[100 rows x 23 columns]"
            ],
            "text/html": [
              "\n",
              "  <div id=\"df-1329f043-284f-4c66-9cad-be909eb3b998\">\n",
              "    <div class=\"colab-df-container\">\n",
              "      <div>\n",
              "<style scoped>\n",
              "    .dataframe tbody tr th:only-of-type {\n",
              "        vertical-align: middle;\n",
              "    }\n",
              "\n",
              "    .dataframe tbody tr th {\n",
              "        vertical-align: top;\n",
              "    }\n",
              "\n",
              "    .dataframe thead th {\n",
              "        text-align: right;\n",
              "    }\n",
              "</style>\n",
              "<table border=\"1\" class=\"dataframe\">\n",
              "  <thead>\n",
              "    <tr style=\"text-align: right;\">\n",
              "      <th></th>\n",
              "      <th>poisonous</th>\n",
              "      <th>cap-shape</th>\n",
              "      <th>cap-surface</th>\n",
              "      <th>cap-color</th>\n",
              "      <th>bruises</th>\n",
              "      <th>odor</th>\n",
              "      <th>gill-attachment</th>\n",
              "      <th>gill-spacing</th>\n",
              "      <th>gill-size</th>\n",
              "      <th>gill-color</th>\n",
              "      <th>...</th>\n",
              "      <th>stalk-surface-below-ring</th>\n",
              "      <th>stalk-color-above-ring</th>\n",
              "      <th>stalk-color-below-ring</th>\n",
              "      <th>veil-type</th>\n",
              "      <th>veil-color</th>\n",
              "      <th>ring-number</th>\n",
              "      <th>ring-type</th>\n",
              "      <th>spore-print-color</th>\n",
              "      <th>population</th>\n",
              "      <th>habitat</th>\n",
              "    </tr>\n",
              "  </thead>\n",
              "  <tbody>\n",
              "    <tr>\n",
              "      <th>0</th>\n",
              "      <td>edible</td>\n",
              "      <td>bell</td>\n",
              "      <td>scaly</td>\n",
              "      <td>white</td>\n",
              "      <td>no</td>\n",
              "      <td>anise</td>\n",
              "      <td>free</td>\n",
              "      <td>crowded</td>\n",
              "      <td>broad</td>\n",
              "      <td>brown</td>\n",
              "      <td>...</td>\n",
              "      <td>smooth</td>\n",
              "      <td>gray</td>\n",
              "      <td>white</td>\n",
              "      <td>partial</td>\n",
              "      <td>white</td>\n",
              "      <td>one</td>\n",
              "      <td>evanescent</td>\n",
              "      <td>black</td>\n",
              "      <td>abundant</td>\n",
              "      <td>grasses</td>\n",
              "    </tr>\n",
              "    <tr>\n",
              "      <th>1</th>\n",
              "      <td>poisonous</td>\n",
              "      <td>knobbed</td>\n",
              "      <td>smooth</td>\n",
              "      <td>brown</td>\n",
              "      <td>bruises</td>\n",
              "      <td>creosote</td>\n",
              "      <td>free</td>\n",
              "      <td>close</td>\n",
              "      <td>broad</td>\n",
              "      <td>yellow</td>\n",
              "      <td>...</td>\n",
              "      <td>smooth</td>\n",
              "      <td>white</td>\n",
              "      <td>white</td>\n",
              "      <td>partial</td>\n",
              "      <td>white</td>\n",
              "      <td>one</td>\n",
              "      <td>pendant</td>\n",
              "      <td>brown</td>\n",
              "      <td>abundant</td>\n",
              "      <td>leaves</td>\n",
              "    </tr>\n",
              "    <tr>\n",
              "      <th>2</th>\n",
              "      <td>edible</td>\n",
              "      <td>convex</td>\n",
              "      <td>fibrous</td>\n",
              "      <td>yellow</td>\n",
              "      <td>bruises</td>\n",
              "      <td>none</td>\n",
              "      <td>free</td>\n",
              "      <td>close</td>\n",
              "      <td>broad</td>\n",
              "      <td>gray</td>\n",
              "      <td>...</td>\n",
              "      <td>silky</td>\n",
              "      <td>gray</td>\n",
              "      <td>white</td>\n",
              "      <td>partial</td>\n",
              "      <td>white</td>\n",
              "      <td>one</td>\n",
              "      <td>pendant</td>\n",
              "      <td>black</td>\n",
              "      <td>abundant</td>\n",
              "      <td>meadows</td>\n",
              "    </tr>\n",
              "    <tr>\n",
              "      <th>3</th>\n",
              "      <td>poisonous</td>\n",
              "      <td>convex</td>\n",
              "      <td>grooves</td>\n",
              "      <td>pink</td>\n",
              "      <td>bruises</td>\n",
              "      <td>foul</td>\n",
              "      <td>free</td>\n",
              "      <td>crowded</td>\n",
              "      <td>broad</td>\n",
              "      <td>brown</td>\n",
              "      <td>...</td>\n",
              "      <td>silky</td>\n",
              "      <td>white</td>\n",
              "      <td>white</td>\n",
              "      <td>partial</td>\n",
              "      <td>white</td>\n",
              "      <td>one</td>\n",
              "      <td>large</td>\n",
              "      <td>brown</td>\n",
              "      <td>several</td>\n",
              "      <td>woods</td>\n",
              "    </tr>\n",
              "    <tr>\n",
              "      <th>4</th>\n",
              "      <td>edible</td>\n",
              "      <td>convex</td>\n",
              "      <td>grooves</td>\n",
              "      <td>yellow</td>\n",
              "      <td>no</td>\n",
              "      <td>foul</td>\n",
              "      <td>free</td>\n",
              "      <td>close</td>\n",
              "      <td>narrow</td>\n",
              "      <td>purple</td>\n",
              "      <td>...</td>\n",
              "      <td>fibrous</td>\n",
              "      <td>white</td>\n",
              "      <td>white</td>\n",
              "      <td>partial</td>\n",
              "      <td>white</td>\n",
              "      <td>one</td>\n",
              "      <td>evanescent</td>\n",
              "      <td>chocolate</td>\n",
              "      <td>solitary</td>\n",
              "      <td>grasses</td>\n",
              "    </tr>\n",
              "    <tr>\n",
              "      <th>...</th>\n",
              "      <td>...</td>\n",
              "      <td>...</td>\n",
              "      <td>...</td>\n",
              "      <td>...</td>\n",
              "      <td>...</td>\n",
              "      <td>...</td>\n",
              "      <td>...</td>\n",
              "      <td>...</td>\n",
              "      <td>...</td>\n",
              "      <td>...</td>\n",
              "      <td>...</td>\n",
              "      <td>...</td>\n",
              "      <td>...</td>\n",
              "      <td>...</td>\n",
              "      <td>...</td>\n",
              "      <td>...</td>\n",
              "      <td>...</td>\n",
              "      <td>...</td>\n",
              "      <td>...</td>\n",
              "      <td>...</td>\n",
              "      <td>...</td>\n",
              "    </tr>\n",
              "    <tr>\n",
              "      <th>95</th>\n",
              "      <td>poisonous</td>\n",
              "      <td>sunken</td>\n",
              "      <td>scaly</td>\n",
              "      <td>white</td>\n",
              "      <td>bruises</td>\n",
              "      <td>creosote</td>\n",
              "      <td>free</td>\n",
              "      <td>close</td>\n",
              "      <td>narrow</td>\n",
              "      <td>chocolate</td>\n",
              "      <td>...</td>\n",
              "      <td>scaly</td>\n",
              "      <td>gray</td>\n",
              "      <td>yellow</td>\n",
              "      <td>partial</td>\n",
              "      <td>white</td>\n",
              "      <td>one</td>\n",
              "      <td>evanescent</td>\n",
              "      <td>white</td>\n",
              "      <td>clustered</td>\n",
              "      <td>leaves</td>\n",
              "    </tr>\n",
              "    <tr>\n",
              "      <th>96</th>\n",
              "      <td>poisonous</td>\n",
              "      <td>knobbed</td>\n",
              "      <td>smooth</td>\n",
              "      <td>pink</td>\n",
              "      <td>no</td>\n",
              "      <td>creosote</td>\n",
              "      <td>free</td>\n",
              "      <td>close</td>\n",
              "      <td>narrow</td>\n",
              "      <td>buff</td>\n",
              "      <td>...</td>\n",
              "      <td>silky</td>\n",
              "      <td>pink</td>\n",
              "      <td>pink</td>\n",
              "      <td>partial</td>\n",
              "      <td>white</td>\n",
              "      <td>none</td>\n",
              "      <td>flaring</td>\n",
              "      <td>buff</td>\n",
              "      <td>clustered</td>\n",
              "      <td>leaves</td>\n",
              "    </tr>\n",
              "    <tr>\n",
              "      <th>97</th>\n",
              "      <td>edible</td>\n",
              "      <td>flat</td>\n",
              "      <td>smooth</td>\n",
              "      <td>red</td>\n",
              "      <td>no</td>\n",
              "      <td>creosote</td>\n",
              "      <td>free</td>\n",
              "      <td>crowded</td>\n",
              "      <td>narrow</td>\n",
              "      <td>chocolate</td>\n",
              "      <td>...</td>\n",
              "      <td>scaly</td>\n",
              "      <td>white</td>\n",
              "      <td>white</td>\n",
              "      <td>partial</td>\n",
              "      <td>white</td>\n",
              "      <td>two</td>\n",
              "      <td>evanescent</td>\n",
              "      <td>white</td>\n",
              "      <td>several</td>\n",
              "      <td>meadows</td>\n",
              "    </tr>\n",
              "    <tr>\n",
              "      <th>98</th>\n",
              "      <td>poisonous</td>\n",
              "      <td>flat</td>\n",
              "      <td>fibrous</td>\n",
              "      <td>white</td>\n",
              "      <td>no</td>\n",
              "      <td>none</td>\n",
              "      <td>free</td>\n",
              "      <td>close</td>\n",
              "      <td>narrow</td>\n",
              "      <td>white</td>\n",
              "      <td>...</td>\n",
              "      <td>silky</td>\n",
              "      <td>brown</td>\n",
              "      <td>white</td>\n",
              "      <td>partial</td>\n",
              "      <td>white</td>\n",
              "      <td>one</td>\n",
              "      <td>evanescent</td>\n",
              "      <td>purple</td>\n",
              "      <td>clustered</td>\n",
              "      <td>woods</td>\n",
              "    </tr>\n",
              "    <tr>\n",
              "      <th>99</th>\n",
              "      <td>edible</td>\n",
              "      <td>convex</td>\n",
              "      <td>grooves</td>\n",
              "      <td>brown</td>\n",
              "      <td>bruises</td>\n",
              "      <td>foul</td>\n",
              "      <td>free</td>\n",
              "      <td>close</td>\n",
              "      <td>broad</td>\n",
              "      <td>gray</td>\n",
              "      <td>...</td>\n",
              "      <td>fibrous</td>\n",
              "      <td>buff</td>\n",
              "      <td>gray</td>\n",
              "      <td>partial</td>\n",
              "      <td>white</td>\n",
              "      <td>two</td>\n",
              "      <td>large</td>\n",
              "      <td>black</td>\n",
              "      <td>several</td>\n",
              "      <td>meadows</td>\n",
              "    </tr>\n",
              "  </tbody>\n",
              "</table>\n",
              "<p>100 rows × 23 columns</p>\n",
              "</div>\n",
              "      <button class=\"colab-df-convert\" onclick=\"convertToInteractive('df-1329f043-284f-4c66-9cad-be909eb3b998')\"\n",
              "              title=\"Convert this dataframe to an interactive table.\"\n",
              "              style=\"display:none;\">\n",
              "        \n",
              "  <svg xmlns=\"http://www.w3.org/2000/svg\" height=\"24px\"viewBox=\"0 0 24 24\"\n",
              "       width=\"24px\">\n",
              "    <path d=\"M0 0h24v24H0V0z\" fill=\"none\"/>\n",
              "    <path d=\"M18.56 5.44l.94 2.06.94-2.06 2.06-.94-2.06-.94-.94-2.06-.94 2.06-2.06.94zm-11 1L8.5 8.5l.94-2.06 2.06-.94-2.06-.94L8.5 2.5l-.94 2.06-2.06.94zm10 10l.94 2.06.94-2.06 2.06-.94-2.06-.94-.94-2.06-.94 2.06-2.06.94z\"/><path d=\"M17.41 7.96l-1.37-1.37c-.4-.4-.92-.59-1.43-.59-.52 0-1.04.2-1.43.59L10.3 9.45l-7.72 7.72c-.78.78-.78 2.05 0 2.83L4 21.41c.39.39.9.59 1.41.59.51 0 1.02-.2 1.41-.59l7.78-7.78 2.81-2.81c.8-.78.8-2.07 0-2.86zM5.41 20L4 18.59l7.72-7.72 1.47 1.35L5.41 20z\"/>\n",
              "  </svg>\n",
              "      </button>\n",
              "      \n",
              "  <style>\n",
              "    .colab-df-container {\n",
              "      display:flex;\n",
              "      flex-wrap:wrap;\n",
              "      gap: 12px;\n",
              "    }\n",
              "\n",
              "    .colab-df-convert {\n",
              "      background-color: #E8F0FE;\n",
              "      border: none;\n",
              "      border-radius: 50%;\n",
              "      cursor: pointer;\n",
              "      display: none;\n",
              "      fill: #1967D2;\n",
              "      height: 32px;\n",
              "      padding: 0 0 0 0;\n",
              "      width: 32px;\n",
              "    }\n",
              "\n",
              "    .colab-df-convert:hover {\n",
              "      background-color: #E2EBFA;\n",
              "      box-shadow: 0px 1px 2px rgba(60, 64, 67, 0.3), 0px 1px 3px 1px rgba(60, 64, 67, 0.15);\n",
              "      fill: #174EA6;\n",
              "    }\n",
              "\n",
              "    [theme=dark] .colab-df-convert {\n",
              "      background-color: #3B4455;\n",
              "      fill: #D2E3FC;\n",
              "    }\n",
              "\n",
              "    [theme=dark] .colab-df-convert:hover {\n",
              "      background-color: #434B5C;\n",
              "      box-shadow: 0px 1px 3px 1px rgba(0, 0, 0, 0.15);\n",
              "      filter: drop-shadow(0px 1px 2px rgba(0, 0, 0, 0.3));\n",
              "      fill: #FFFFFF;\n",
              "    }\n",
              "  </style>\n",
              "\n",
              "      <script>\n",
              "        const buttonEl =\n",
              "          document.querySelector('#df-1329f043-284f-4c66-9cad-be909eb3b998 button.colab-df-convert');\n",
              "        buttonEl.style.display =\n",
              "          google.colab.kernel.accessAllowed ? 'block' : 'none';\n",
              "\n",
              "        async function convertToInteractive(key) {\n",
              "          const element = document.querySelector('#df-1329f043-284f-4c66-9cad-be909eb3b998');\n",
              "          const dataTable =\n",
              "            await google.colab.kernel.invokeFunction('convertToInteractive',\n",
              "                                                     [key], {});\n",
              "          if (!dataTable) return;\n",
              "\n",
              "          const docLinkHtml = 'Like what you see? Visit the ' +\n",
              "            '<a target=\"_blank\" href=https://colab.research.google.com/notebooks/data_table.ipynb>data table notebook</a>'\n",
              "            + ' to learn more about interactive tables.';\n",
              "          element.innerHTML = '';\n",
              "          dataTable['output_type'] = 'display_data';\n",
              "          await google.colab.output.renderOutput(dataTable, element);\n",
              "          const docLink = document.createElement('div');\n",
              "          docLink.innerHTML = docLinkHtml;\n",
              "          element.appendChild(docLink);\n",
              "        }\n",
              "      </script>\n",
              "    </div>\n",
              "  </div>\n",
              "  "
            ]
          },
          "metadata": {},
          "execution_count": 24
        }
      ],
      "source": [
        "synthetic_data"
      ]
    },
    {
      "cell_type": "code",
      "execution_count": null,
      "id": "67a2390c",
      "metadata": {
        "colab": {
          "base_uri": "https://localhost:8080/"
        },
        "id": "67a2390c",
        "outputId": "9fb9feb4-caa0-4b3f-8968-193ce1e475d8"
      },
      "outputs": [
        {
          "output_type": "stream",
          "name": "stderr",
          "text": [
            "Creating report: 100%|██████████| 4/4 [00:04<00:00,  1.12s/it]"
          ]
        },
        {
          "output_type": "stream",
          "name": "stdout",
          "text": [
            "\n",
            "Overall Quality Score: 73.94%\n",
            "\n",
            "Properties:\n",
            "Column Shapes: 82.0%\n",
            "Column Pair Trends: 65.88%\n"
          ]
        },
        {
          "output_type": "stream",
          "name": "stderr",
          "text": [
            "\n"
          ]
        }
      ],
      "source": [
        "from sdv.evaluation.single_table import evaluate_quality\n",
        "\n",
        "quality_report = evaluate_quality(\n",
        "    real_data=mushroom_table,\n",
        "    synthetic_data=synthetic_data,\n",
        "    metadata=metadata)"
      ]
    },
    {
      "cell_type": "code",
      "execution_count": null,
      "id": "5bec7676",
      "metadata": {
        "colab": {
          "base_uri": "https://localhost:8080/"
        },
        "id": "5bec7676",
        "outputId": "83ed01fe-9ed7-44e7-aa68-f9ac654e84b4"
      },
      "outputs": [
        {
          "output_type": "stream",
          "name": "stderr",
          "text": [
            "Creating report: 100%|██████████| 4/4 [00:02<00:00,  1.81it/s]"
          ]
        },
        {
          "output_type": "stream",
          "name": "stdout",
          "text": [
            "\n",
            "DiagnosticResults:\n",
            "\n",
            "SUCCESS:\n",
            "✓ The synthetic data covers over 90% of the categories present in the real data\n",
            "✓ Over 90% of the synthetic rows are not copies of the real data\n"
          ]
        },
        {
          "output_type": "stream",
          "name": "stderr",
          "text": [
            "\n",
            "/usr/local/lib/python3.10/dist-packages/sdmetrics/reports/single_table/diagnostic_report.py:220: FutureWarning:\n",
            "\n",
            "The default dtype for empty Series will be 'object' instead of 'float64' in a future version. Specify a dtype explicitly to silence this warning.\n",
            "\n"
          ]
        }
      ],
      "source": [
        "from sdv.evaluation.single_table import run_diagnostic\n",
        "\n",
        "diagnostic_report = run_diagnostic(\n",
        "    real_data=mushroom_table,\n",
        "    synthetic_data=synthetic_data,\n",
        "    metadata=metadata)"
      ]
    },
    {
      "cell_type": "code",
      "execution_count": null,
      "id": "381a066f",
      "metadata": {
        "colab": {
          "base_uri": "https://localhost:8080/",
          "height": 542
        },
        "id": "381a066f",
        "outputId": "dcb0e690-712a-4561-91be-fc7196af2b41"
      },
      "outputs": [
        {
          "output_type": "display_data",
          "data": {
            "text/html": [
              "<html>\n",
              "<head><meta charset=\"utf-8\" /></head>\n",
              "<body>\n",
              "    <div>            <script src=\"https://cdnjs.cloudflare.com/ajax/libs/mathjax/2.7.5/MathJax.js?config=TeX-AMS-MML_SVG\"></script><script type=\"text/javascript\">if (window.MathJax && window.MathJax.Hub && window.MathJax.Hub.Config) {window.MathJax.Hub.Config({SVG: {font: \"STIX-Web\"}});}</script>                <script type=\"text/javascript\">window.PlotlyConfig = {MathJaxConfig: 'local'};</script>\n",
              "        <script src=\"https://cdn.plot.ly/plotly-2.18.2.min.js\"></script>                <div id=\"7de2299a-76db-4fae-b1f3-39c9b0295d35\" class=\"plotly-graph-div\" style=\"height:525px; width:100%;\"></div>            <script type=\"text/javascript\">                                    window.PLOTLYENV=window.PLOTLYENV || {};                                    if (document.getElementById(\"7de2299a-76db-4fae-b1f3-39c9b0295d35\")) {                    Plotly.newPlot(                        \"7de2299a-76db-4fae-b1f3-39c9b0295d35\",                        [{\"alignmentgroup\":\"True\",\"bingroup\":\"x\",\"histnorm\":\"probability density\",\"hovertemplate\":\"<b>Real</b><br>Frequency: %{y}<extra></extra>\",\"legendgroup\":\"Real\",\"marker\":{\"color\":\"#000036\",\"pattern\":{\"shape\":\"\"}},\"name\":\"Real\",\"offsetgroup\":\"Real\",\"orientation\":\"v\",\"showlegend\":true,\"x\":[\"convex\",\"convex\",\"bell\",\"convex\",\"convex\",\"convex\",\"bell\",\"bell\",\"convex\",\"bell\",\"convex\",\"convex\",\"bell\",\"convex\",\"convex\",\"sunken\",\"flat\",\"convex\",\"convex\",\"convex\",\"bell\",\"convex\",\"bell\",\"bell\",\"bell\",\"flat\",\"convex\",\"convex\",\"flat\",\"convex\",\"bell\",\"convex\",\"convex\",\"convex\",\"bell\",\"convex\",\"sunken\",\"convex\",\"convex\",\"bell\",\"bell\",\"convex\",\"convex\",\"convex\",\"convex\",\"convex\",\"convex\",\"convex\",\"convex\",\"flat\",\"convex\",\"convex\",\"bell\",\"convex\",\"convex\",\"bell\",\"flat\",\"bell\",\"convex\",\"convex\",\"sunken\",\"bell\",\"bell\",\"bell\",\"bell\",\"flat\",\"convex\",\"flat\",\"convex\",\"convex\",\"flat\",\"bell\",\"flat\",\"convex\",\"bell\",\"flat\",\"convex\",\"flat\",\"convex\",\"flat\",\"convex\",\"convex\",\"flat\",\"convex\",\"convex\",\"convex\",\"bell\",\"convex\",\"flat\",\"sunken\",\"convex\",\"bell\",\"convex\",\"convex\",\"convex\",\"convex\",\"flat\",\"convex\",\"bell\",\"convex\",\"convex\",\"bell\",\"flat\",\"convex\",\"bell\",\"convex\",\"convex\",\"bell\",\"bell\",\"convex\",\"convex\",\"sunken\",\"convex\",\"convex\",\"convex\",\"convex\",\"sunken\",\"convex\",\"convex\",\"sunken\",\"convex\",\"convex\",\"flat\",\"flat\",\"convex\",\"convex\",\"bell\",\"flat\",\"convex\",\"bell\",\"bell\",\"bell\",\"flat\",\"convex\",\"flat\",\"convex\",\"flat\",\"convex\",\"convex\",\"bell\",\"convex\",\"bell\",\"sunken\",\"flat\",\"convex\",\"convex\",\"flat\",\"convex\",\"bell\",\"bell\",\"convex\",\"convex\",\"convex\",\"sunken\",\"convex\",\"convex\",\"bell\",\"convex\",\"bell\",\"bell\",\"bell\",\"bell\",\"convex\",\"flat\",\"convex\",\"flat\",\"bell\",\"bell\",\"convex\",\"bell\",\"convex\",\"bell\",\"convex\",\"bell\",\"flat\",\"bell\",\"bell\",\"bell\",\"convex\",\"bell\",\"convex\",\"sunken\",\"flat\",\"convex\",\"flat\",\"convex\",\"bell\",\"flat\",\"bell\",\"convex\",\"convex\",\"convex\",\"bell\",\"flat\",\"convex\",\"flat\",\"bell\",\"convex\",\"convex\",\"flat\",\"convex\",\"bell\",\"convex\",\"convex\",\"flat\",\"convex\",\"bell\",\"bell\",\"bell\",\"bell\",\"convex\",\"bell\",\"convex\",\"convex\",\"flat\",\"bell\",\"convex\",\"convex\",\"convex\",\"sunken\",\"convex\",\"convex\",\"convex\",\"flat\",\"convex\",\"bell\",\"convex\",\"convex\",\"convex\",\"bell\",\"convex\",\"convex\",\"convex\",\"flat\",\"bell\",\"convex\",\"convex\",\"bell\",\"convex\",\"flat\",\"flat\",\"convex\",\"convex\",\"convex\",\"flat\",\"convex\",\"convex\",\"convex\",\"flat\",\"convex\",\"flat\",\"convex\",\"sunken\",\"bell\",\"bell\",\"bell\",\"flat\",\"convex\",\"bell\",\"bell\",\"flat\",\"convex\",\"convex\",\"convex\",\"flat\",\"flat\",\"flat\",\"convex\",\"bell\",\"flat\",\"convex\",\"flat\",\"convex\",\"convex\",\"flat\",\"convex\",\"flat\",\"convex\",\"flat\",\"convex\",\"convex\",\"bell\",\"sunken\",\"convex\",\"bell\",\"flat\",\"bell\",\"bell\",\"convex\",\"flat\",\"convex\",\"bell\",\"convex\",\"bell\",\"convex\",\"bell\",\"convex\",\"convex\",\"flat\",\"convex\",\"convex\",\"bell\",\"convex\",\"bell\",\"convex\",\"convex\",\"bell\",\"convex\",\"flat\",\"convex\",\"convex\",\"convex\",\"convex\",\"convex\",\"bell\",\"convex\",\"convex\",\"convex\",\"convex\",\"flat\",\"convex\",\"flat\",\"convex\",\"bell\",\"convex\",\"bell\",\"convex\",\"convex\",\"bell\",\"bell\",\"convex\",\"bell\",\"bell\",\"bell\",\"convex\",\"convex\",\"convex\",\"bell\",\"convex\",\"convex\",\"convex\",\"bell\",\"convex\",\"flat\",\"bell\",\"convex\",\"convex\",\"convex\",\"flat\",\"convex\",\"flat\",\"flat\",\"bell\",\"bell\",\"convex\",\"sunken\",\"flat\",\"convex\",\"convex\",\"convex\",\"convex\",\"convex\",\"flat\",\"flat\",\"convex\",\"flat\",\"convex\",\"convex\",\"bell\",\"convex\",\"convex\",\"flat\",\"convex\",\"sunken\",\"convex\",\"bell\",\"sunken\",\"bell\",\"convex\",\"bell\",\"convex\",\"convex\",\"convex\",\"bell\",\"convex\",\"convex\",\"convex\",\"convex\",\"bell\",\"convex\",\"bell\",\"convex\",\"bell\",\"convex\",\"flat\",\"convex\",\"convex\",\"convex\",\"convex\",\"convex\",\"bell\",\"bell\",\"convex\",\"bell\",\"convex\",\"convex\",\"bell\",\"convex\",\"convex\",\"convex\",\"convex\",\"convex\",\"convex\",\"convex\",\"convex\",\"bell\",\"convex\",\"convex\",\"convex\",\"flat\",\"convex\",\"bell\",\"convex\",\"flat\",\"convex\",\"convex\",\"flat\",\"bell\",\"convex\",\"flat\",\"convex\",\"convex\",\"bell\",\"bell\",\"flat\",\"bell\",\"convex\",\"convex\",\"bell\",\"convex\",\"convex\",\"convex\",\"convex\",\"convex\",\"convex\",\"convex\",\"convex\",\"flat\",\"bell\",\"convex\",\"convex\",\"bell\",\"bell\",\"convex\",\"bell\",\"convex\",\"bell\",\"bell\",\"flat\",\"flat\",\"convex\",\"flat\",\"bell\",\"convex\",\"convex\",\"flat\",\"convex\",\"convex\",\"bell\",\"flat\",\"convex\",\"convex\",\"flat\",\"sunken\",\"flat\",\"flat\",\"convex\",\"bell\",\"convex\",\"bell\",\"bell\",\"bell\",\"flat\",\"flat\",\"flat\",\"flat\",\"convex\",\"sunken\",\"convex\",\"convex\",\"flat\",\"flat\",\"convex\",\"flat\",\"convex\",\"bell\",\"flat\",\"flat\",\"convex\",\"bell\",\"convex\",\"bell\",\"convex\",\"bell\",\"bell\",\"convex\",\"convex\",\"flat\",\"convex\",\"flat\",\"flat\",\"bell\",\"convex\",\"sunken\",\"convex\",\"convex\",\"convex\",\"bell\",\"convex\",\"convex\",\"convex\",\"bell\",\"flat\",\"convex\",\"flat\",\"bell\",\"flat\",\"convex\",\"convex\",\"flat\",\"convex\",\"convex\",\"convex\",\"flat\",\"flat\",\"convex\",\"bell\",\"sunken\",\"convex\",\"flat\",\"convex\",\"flat\",\"convex\",\"convex\",\"flat\",\"convex\",\"bell\",\"flat\",\"convex\",\"convex\",\"flat\",\"convex\",\"convex\",\"flat\",\"convex\",\"flat\",\"convex\",\"convex\",\"convex\",\"convex\",\"bell\",\"convex\",\"convex\",\"convex\",\"bell\",\"convex\",\"convex\",\"flat\",\"convex\",\"bell\",\"convex\",\"flat\",\"convex\",\"bell\",\"convex\",\"convex\",\"convex\",\"convex\",\"convex\",\"convex\",\"convex\",\"convex\",\"convex\",\"convex\",\"flat\",\"convex\",\"sunken\",\"flat\",\"sunken\",\"convex\",\"convex\",\"convex\",\"convex\",\"convex\",\"convex\",\"convex\",\"bell\",\"bell\",\"convex\",\"convex\",\"convex\",\"convex\",\"flat\",\"flat\",\"bell\",\"bell\",\"convex\",\"flat\",\"convex\",\"flat\",\"flat\",\"convex\",\"flat\",\"convex\",\"convex\",\"bell\",\"flat\",\"bell\",\"bell\",\"sunken\",\"flat\",\"bell\",\"convex\",\"flat\",\"flat\",\"convex\",\"flat\",\"sunken\",\"bell\",\"bell\",\"flat\",\"bell\",\"convex\",\"convex\",\"convex\",\"bell\",\"flat\",\"convex\",\"convex\",\"convex\",\"bell\",\"convex\",\"flat\",\"flat\",\"flat\",\"convex\",\"bell\",\"bell\",\"convex\",\"flat\",\"convex\",\"bell\",\"flat\",\"convex\",\"convex\",\"convex\",\"flat\",\"bell\",\"convex\",\"flat\",\"bell\",\"convex\",\"convex\",\"convex\",\"bell\",\"bell\",\"flat\",\"convex\",\"flat\",\"convex\",\"convex\",\"flat\",\"flat\",\"convex\",\"flat\",\"flat\",\"flat\",\"convex\",\"convex\",\"bell\",\"convex\",\"convex\",\"convex\",\"bell\",\"convex\",\"convex\",\"flat\",\"bell\",\"convex\",\"convex\",\"bell\",\"bell\",\"convex\",\"flat\",\"convex\",\"bell\",\"bell\",\"convex\",\"convex\",\"flat\",\"convex\",\"flat\",\"convex\",\"bell\",\"flat\",\"flat\",\"bell\",\"sunken\",\"convex\",\"bell\",\"flat\",\"flat\",\"convex\",\"bell\",\"bell\",\"bell\",\"bell\",\"convex\",\"convex\",\"sunken\",\"flat\",\"convex\",\"flat\",\"convex\",\"flat\",\"convex\",\"convex\",\"convex\",\"bell\",\"convex\",\"flat\",\"convex\",\"convex\",\"convex\",\"convex\",\"bell\",\"convex\",\"convex\",\"convex\",\"convex\",\"convex\",\"bell\",\"convex\",\"bell\",\"flat\",\"convex\",\"bell\",\"bell\",\"convex\",\"flat\",\"convex\",\"bell\",\"flat\",\"bell\",\"bell\",\"bell\",\"flat\",\"convex\",\"bell\",\"convex\",\"bell\",\"flat\",\"convex\",\"convex\",\"convex\",\"flat\",\"convex\",\"flat\",\"bell\",\"bell\",\"convex\",\"bell\",\"convex\",\"convex\",\"flat\",\"convex\",\"convex\",\"convex\",\"convex\",\"bell\",\"convex\",\"sunken\",\"bell\",\"convex\",\"convex\",\"convex\",\"convex\",\"convex\",\"convex\",\"convex\",\"bell\",\"flat\",\"convex\",\"convex\",\"convex\",\"convex\",\"bell\",\"convex\",\"convex\",\"convex\",\"bell\",\"convex\",\"convex\",\"bell\",\"bell\",\"flat\",\"bell\",\"convex\",\"bell\",\"convex\",\"bell\",\"bell\",\"convex\",\"convex\",\"convex\",\"convex\",\"convex\",\"convex\",\"convex\",\"bell\",\"bell\",\"convex\",\"bell\",\"convex\",\"convex\",\"convex\",\"flat\",\"flat\",\"convex\",\"flat\",\"sunken\",\"flat\",\"convex\",\"convex\",\"convex\",\"convex\",\"convex\",\"convex\",\"convex\",\"convex\",\"flat\",\"convex\",\"bell\",\"sunken\",\"convex\",\"convex\",\"convex\",\"bell\",\"bell\",\"convex\",\"bell\",\"flat\",\"sunken\",\"convex\",\"sunken\",\"flat\",\"flat\",\"bell\",\"bell\",\"convex\",\"flat\",\"convex\",\"flat\",\"convex\",\"convex\",\"convex\",\"flat\",\"flat\",\"convex\",\"convex\",\"flat\",\"convex\",\"convex\",\"convex\",\"convex\",\"convex\",\"convex\",\"convex\",\"flat\",\"bell\",\"flat\",\"flat\",\"convex\",\"convex\",\"flat\",\"convex\",\"convex\",\"flat\",\"convex\",\"convex\",\"convex\",\"flat\",\"convex\",\"bell\",\"convex\",\"convex\",\"bell\",\"convex\",\"convex\",\"convex\",\"flat\",\"convex\",\"convex\",\"convex\",\"convex\",\"flat\",\"flat\",\"convex\",\"flat\",\"convex\",\"bell\",\"convex\",\"convex\",\"flat\",\"convex\",\"convex\",\"convex\",\"convex\",\"flat\",\"convex\",\"flat\",\"convex\",\"convex\",\"convex\",\"flat\",\"convex\",\"convex\",\"convex\",\"convex\",\"bell\",\"convex\",\"flat\",\"flat\",\"convex\",\"convex\",\"flat\",\"convex\",\"convex\",\"flat\",\"convex\",\"bell\",\"convex\",\"convex\",\"convex\",\"flat\",\"flat\",\"flat\",\"bell\",\"flat\",\"flat\",\"convex\",\"bell\",\"flat\",\"convex\",\"flat\",\"bell\",\"convex\",\"convex\",\"flat\",\"convex\",\"convex\",\"flat\",\"convex\",\"convex\",\"flat\",\"flat\",\"flat\",\"convex\",\"convex\",\"convex\",\"flat\",\"convex\",\"flat\",\"convex\",\"flat\",\"convex\",\"bell\",\"convex\",\"convex\",\"flat\",\"flat\",\"convex\",\"flat\",\"convex\",\"convex\",\"convex\",\"flat\",\"convex\",\"convex\",\"convex\",\"convex\",\"convex\",\"convex\",\"flat\",\"flat\",\"flat\",\"convex\",\"flat\",\"bell\",\"flat\",\"convex\",\"flat\",\"flat\",\"convex\",\"convex\",\"convex\",\"convex\",\"flat\",\"convex\",\"convex\",\"convex\",\"convex\",\"flat\",\"flat\",\"flat\",\"flat\",\"flat\",\"convex\",\"flat\",\"convex\",\"flat\",\"bell\",\"bell\",\"convex\",\"flat\",\"flat\",\"convex\",\"flat\",\"convex\",\"convex\",\"convex\",\"convex\",\"convex\",\"flat\",\"convex\",\"flat\",\"convex\",\"flat\",\"convex\",\"convex\",\"convex\",\"flat\",\"convex\",\"convex\",\"convex\",\"convex\",\"convex\",\"flat\",\"convex\",\"convex\",\"convex\",\"convex\",\"convex\",\"convex\",\"convex\",\"bell\",\"convex\",\"flat\",\"convex\",\"convex\",\"flat\",\"convex\",\"convex\",\"convex\",\"flat\",\"flat\",\"convex\",\"flat\",\"convex\",\"convex\",\"convex\",\"flat\",\"convex\",\"convex\",\"flat\",\"flat\",\"flat\",\"flat\",\"flat\",\"convex\",\"flat\",\"flat\",\"bell\",\"flat\",\"bell\",\"flat\",\"bell\",\"convex\",\"flat\",\"convex\",\"sunken\",\"convex\",\"flat\",\"flat\",\"convex\",\"flat\",\"convex\",\"convex\",\"convex\",\"convex\",\"convex\",\"flat\",\"convex\",\"convex\",\"flat\",\"flat\",\"convex\",\"flat\",\"bell\",\"convex\",\"flat\",\"flat\",\"convex\",\"flat\",\"flat\",\"flat\",\"flat\",\"flat\",\"flat\",\"convex\",\"convex\",\"flat\",\"convex\",\"convex\",\"flat\",\"convex\",\"flat\",\"bell\",\"convex\",\"convex\",\"flat\",\"convex\",\"convex\",\"flat\",\"convex\",\"convex\",\"convex\",\"bell\",\"flat\",\"convex\",\"flat\",\"convex\",\"flat\",\"convex\",\"convex\",\"convex\",\"flat\",\"convex\",\"convex\",\"flat\",\"flat\",\"flat\",\"convex\",\"flat\",\"convex\",\"bell\",\"convex\",\"flat\",\"flat\",\"flat\",\"bell\",\"convex\",\"convex\",\"convex\",\"convex\",\"bell\",\"convex\",\"convex\",\"flat\",\"bell\",\"convex\",\"convex\",\"flat\",\"convex\",\"convex\",\"convex\",\"bell\",\"flat\",\"convex\",\"flat\",\"convex\",\"convex\",\"flat\",\"convex\",\"convex\",\"flat\",\"flat\",\"flat\",\"convex\",\"convex\",\"convex\",\"convex\",\"convex\",\"flat\",\"bell\",\"convex\",\"convex\",\"bell\",\"convex\",\"bell\",\"convex\",\"convex\",\"bell\",\"flat\",\"flat\",\"flat\",\"flat\",\"flat\",\"flat\",\"convex\",\"convex\",\"flat\",\"flat\",\"convex\",\"convex\",\"flat\",\"convex\",\"flat\",\"flat\",\"flat\",\"convex\",\"convex\",\"convex\",\"flat\",\"flat\",\"convex\",\"convex\",\"convex\",\"convex\",\"convex\",\"convex\",\"flat\",\"flat\",\"convex\",\"flat\",\"flat\",\"flat\",\"flat\",\"convex\",\"convex\",\"flat\",\"convex\",\"convex\",\"flat\",\"flat\",\"convex\",\"flat\",\"convex\",\"flat\",\"flat\",\"convex\",\"convex\",\"flat\",\"flat\",\"flat\",\"convex\",\"flat\",\"flat\",\"flat\",\"flat\",\"flat\",\"flat\",\"flat\",\"convex\",\"convex\",\"flat\",\"flat\",\"flat\",\"convex\",\"convex\",\"flat\",\"convex\",\"flat\",\"flat\",\"convex\",\"flat\",\"convex\",\"flat\",\"convex\",\"flat\",\"bell\",\"convex\",\"convex\",\"convex\",\"convex\",\"flat\",\"convex\",\"flat\",\"convex\",\"flat\",\"convex\",\"convex\",\"convex\",\"flat\",\"flat\",\"convex\",\"convex\",\"convex\",\"convex\",\"flat\",\"convex\",\"convex\",\"flat\",\"convex\",\"flat\",\"flat\",\"flat\",\"flat\",\"flat\",\"flat\",\"flat\",\"flat\",\"flat\",\"convex\",\"bell\",\"flat\",\"flat\",\"convex\",\"bell\",\"convex\",\"flat\",\"convex\",\"flat\",\"flat\",\"convex\",\"flat\",\"bell\",\"flat\",\"convex\",\"flat\",\"convex\",\"flat\",\"flat\",\"flat\",\"flat\",\"convex\",\"convex\",\"convex\",\"convex\",\"flat\",\"convex\",\"flat\",\"flat\",\"flat\",\"flat\",\"flat\",\"flat\",\"convex\",\"convex\",\"convex\",\"convex\",\"flat\",\"flat\",\"flat\",\"convex\",\"flat\",\"convex\",\"flat\",\"flat\",\"flat\",\"flat\",\"flat\",\"flat\",\"flat\",\"convex\",\"flat\",\"convex\",\"flat\",\"convex\",\"flat\",\"flat\",\"convex\",\"convex\",\"bell\",\"convex\",\"flat\",\"flat\",\"flat\",\"flat\",\"flat\",\"convex\",\"flat\",\"flat\",\"flat\",\"flat\",\"convex\",\"flat\",\"convex\",\"convex\",\"convex\",\"convex\",\"convex\",\"flat\",\"convex\",\"flat\",\"convex\",\"convex\",\"convex\",\"flat\",\"flat\",\"flat\",\"flat\",\"convex\",\"flat\",\"convex\",\"flat\",\"convex\",\"convex\",\"flat\",\"flat\",\"convex\",\"flat\",\"flat\",\"convex\",\"flat\",\"flat\",\"convex\",\"convex\",\"convex\",\"flat\",\"convex\",\"convex\",\"convex\",\"flat\",\"convex\",\"flat\",\"flat\",\"convex\",\"flat\",\"flat\",\"convex\",\"convex\",\"flat\",\"convex\",\"flat\",\"convex\",\"bell\",\"flat\",\"flat\",\"convex\",\"convex\",\"convex\",\"flat\",\"flat\",\"flat\",\"flat\",\"convex\",\"flat\",\"convex\",\"flat\",\"flat\",\"flat\",\"convex\",\"flat\",\"convex\",\"flat\",\"convex\",\"convex\",\"convex\",\"flat\",\"convex\",\"convex\",\"flat\",\"convex\",\"convex\",\"convex\",\"convex\",\"convex\",\"flat\",\"convex\",\"convex\",\"flat\",\"flat\",\"flat\",\"convex\",\"flat\",\"flat\",\"convex\",\"flat\",\"convex\",\"flat\",\"convex\",\"convex\",\"convex\",\"flat\",\"convex\",\"convex\",\"flat\",\"convex\",\"flat\",\"flat\",\"flat\",\"flat\",\"convex\",\"convex\",\"flat\",\"flat\",\"convex\",\"convex\",\"convex\",\"flat\",\"bell\",\"flat\",\"convex\",\"flat\",\"convex\",\"flat\",\"convex\",\"convex\",\"convex\",\"convex\",\"flat\",\"flat\",\"convex\",\"convex\",\"flat\",\"flat\",\"flat\",\"bell\",\"convex\",\"convex\",\"flat\",\"convex\",\"convex\",\"convex\",\"convex\",\"convex\",\"flat\",\"convex\",\"convex\",\"flat\",\"flat\",\"flat\",\"flat\",\"flat\",\"convex\",\"convex\",\"convex\",\"convex\",\"flat\",\"flat\",\"convex\",\"convex\",\"convex\",\"convex\",\"convex\",\"flat\",\"flat\",\"convex\",\"convex\",\"flat\",\"bell\",\"flat\",\"flat\",\"flat\",\"flat\",\"convex\",\"bell\",\"flat\",\"flat\",\"convex\",\"flat\",\"convex\",\"convex\",\"bell\",\"convex\",\"flat\",\"convex\",\"flat\",\"flat\",\"flat\",\"convex\",\"convex\",\"flat\",\"convex\",\"flat\",\"convex\",\"convex\",\"flat\",\"flat\",\"flat\",\"convex\",\"convex\",\"flat\",\"flat\",\"convex\",\"convex\",\"convex\",\"convex\",\"flat\",\"flat\",\"convex\",\"flat\",\"flat\",\"convex\",\"flat\",\"convex\",\"convex\",\"flat\",\"convex\",\"convex\",\"flat\",\"flat\",\"flat\",\"flat\",\"flat\",\"flat\",\"convex\",\"convex\",\"convex\",\"convex\",\"flat\",\"convex\",\"flat\",\"flat\",\"convex\",\"convex\",\"flat\",\"convex\",\"convex\",\"convex\",\"flat\",\"flat\",\"flat\",\"convex\",\"flat\",\"convex\",\"convex\",\"flat\",\"flat\",\"flat\",\"flat\",\"flat\",\"flat\",\"convex\",\"flat\",\"flat\",\"flat\",\"flat\",\"convex\",\"convex\",\"convex\",\"convex\",\"flat\",\"flat\",\"convex\",\"convex\",\"flat\",\"convex\",\"convex\",\"convex\",\"convex\",\"convex\",\"convex\",\"convex\",\"flat\",\"convex\",\"flat\",\"flat\",\"convex\",\"flat\",\"convex\",\"convex\",\"convex\",\"convex\",\"convex\",\"convex\",\"convex\",\"convex\",\"flat\",\"convex\",\"convex\",\"flat\",\"convex\",\"flat\",\"convex\",\"convex\",\"flat\",\"flat\",\"convex\",\"bell\",\"convex\",\"convex\",\"flat\",\"flat\",\"flat\",\"flat\",\"flat\",\"convex\",\"convex\",\"convex\",\"convex\",\"flat\",\"flat\",\"flat\",\"convex\",\"flat\",\"flat\",\"convex\",\"convex\",\"convex\",\"flat\",\"flat\",\"flat\",\"convex\",\"convex\",\"flat\",\"flat\",\"flat\",\"convex\",\"convex\",\"convex\",\"convex\",\"convex\",\"flat\",\"convex\",\"convex\",\"convex\",\"flat\",\"flat\",\"flat\",\"flat\",\"convex\",\"convex\",\"bell\",\"flat\",\"convex\",\"flat\",\"convex\",\"convex\",\"flat\",\"convex\",\"flat\",\"convex\",\"flat\",\"convex\",\"convex\",\"convex\",\"flat\",\"flat\",\"convex\",\"flat\",\"flat\",\"convex\",\"flat\",\"flat\",\"convex\",\"flat\",\"flat\",\"flat\",\"convex\",\"flat\",\"convex\",\"convex\",\"flat\",\"flat\",\"flat\",\"convex\",\"convex\",\"convex\",\"convex\",\"convex\",\"flat\",\"convex\",\"convex\",\"convex\",\"flat\",\"convex\",\"convex\",\"convex\",\"convex\",\"convex\",\"convex\",\"convex\",\"convex\",\"convex\",\"convex\",\"flat\",\"flat\",\"convex\",\"convex\",\"flat\",\"convex\",\"flat\",\"bell\",\"convex\",\"flat\",\"convex\",\"convex\",\"convex\",\"flat\",\"flat\",\"convex\",\"flat\",\"convex\",\"flat\",\"convex\",\"flat\",\"flat\",\"flat\",\"flat\",\"convex\",\"convex\",\"convex\",\"flat\",\"flat\",\"flat\",\"convex\",\"convex\",\"convex\",\"flat\",\"flat\",\"convex\",\"convex\",\"convex\",\"convex\",\"convex\",\"flat\",\"flat\",\"convex\",\"flat\",\"convex\",\"convex\",\"flat\",\"convex\",\"flat\",\"convex\",\"flat\",\"convex\",\"convex\",\"convex\",\"convex\",\"flat\",\"convex\",\"convex\",\"convex\",\"convex\",\"flat\",\"convex\",\"convex\",\"convex\",\"flat\",\"convex\",\"flat\",\"convex\",\"flat\",\"flat\",\"convex\",\"flat\",\"convex\",\"flat\",\"convex\",\"convex\",\"convex\",\"convex\",\"convex\",\"convex\",\"convex\",\"flat\",\"convex\",\"convex\",\"convex\",\"convex\",\"convex\",\"convex\",\"convex\",\"convex\",\"convex\",\"convex\",\"convex\",\"convex\",\"flat\",\"flat\",\"flat\",\"convex\",\"convex\",\"convex\",\"convex\",\"flat\",\"convex\",\"convex\",\"convex\",\"convex\",\"convex\",\"flat\",\"flat\",\"flat\",\"flat\",\"flat\",\"convex\",\"convex\",\"convex\",\"convex\",\"convex\",\"convex\",\"convex\",\"convex\",\"flat\",\"flat\",\"convex\",\"flat\",\"convex\",\"flat\",\"flat\",\"convex\",\"flat\",\"flat\",\"convex\",\"flat\",\"flat\",\"convex\",\"convex\",\"convex\",\"convex\",\"flat\",\"flat\",\"flat\",\"flat\",\"flat\",\"flat\",\"convex\",\"flat\",\"convex\",\"convex\",\"convex\",\"flat\",\"convex\",\"convex\",\"flat\",\"flat\",\"flat\",\"bell\",\"convex\",\"flat\",\"convex\",\"convex\",\"flat\",\"convex\",\"convex\",\"convex\",\"convex\",\"flat\",\"convex\",\"flat\",\"flat\",\"flat\",\"flat\",\"convex\",\"convex\",\"convex\",\"convex\",\"convex\",\"convex\",\"convex\",\"convex\",\"convex\",\"convex\",\"convex\",\"convex\",\"flat\",\"convex\",\"convex\",\"convex\",\"flat\",\"flat\",\"flat\",\"convex\",\"flat\",\"flat\",\"flat\",\"convex\",\"flat\",\"convex\",\"convex\",\"flat\",\"flat\",\"convex\",\"convex\",\"flat\",\"convex\",\"flat\",\"convex\",\"convex\",\"convex\",\"convex\",\"convex\",\"convex\",\"flat\",\"convex\",\"flat\",\"flat\",\"convex\",\"flat\",\"convex\",\"convex\",\"convex\",\"flat\",\"flat\",\"convex\",\"convex\",\"convex\",\"convex\",\"flat\",\"convex\",\"flat\",\"convex\",\"flat\",\"flat\",\"flat\",\"flat\",\"convex\",\"convex\",\"convex\",\"flat\",\"convex\",\"flat\",\"flat\",\"flat\",\"flat\",\"flat\",\"convex\",\"convex\",\"convex\",\"convex\",\"convex\",\"convex\",\"convex\",\"convex\",\"convex\",\"bell\",\"convex\",\"flat\",\"convex\",\"flat\",\"convex\",\"convex\",\"convex\",\"convex\",\"convex\",\"convex\",\"flat\",\"flat\",\"convex\",\"flat\",\"convex\",\"convex\",\"convex\",\"convex\",\"convex\",\"flat\",\"convex\",\"convex\",\"convex\",\"flat\",\"flat\",\"flat\",\"convex\",\"convex\",\"convex\",\"convex\",\"flat\",\"flat\",\"flat\",\"convex\",\"convex\",\"convex\",\"convex\",\"flat\",\"flat\",\"convex\",\"flat\",\"convex\",\"convex\",\"convex\",\"convex\",\"convex\",\"convex\",\"flat\",\"convex\",\"convex\",\"convex\",\"flat\",\"convex\",\"flat\",\"flat\",\"flat\",\"flat\",\"convex\",\"convex\",\"flat\",\"convex\",\"convex\",\"bell\",\"convex\",\"flat\",\"convex\",\"flat\",\"convex\",\"convex\",\"convex\",\"convex\",\"flat\",\"convex\",\"convex\",\"flat\",\"convex\",\"flat\",\"convex\",\"convex\",\"flat\",\"convex\",\"convex\",\"convex\",\"convex\",\"convex\",\"convex\",\"convex\",\"convex\",\"convex\",\"convex\",\"convex\",\"flat\",\"flat\",\"convex\",\"flat\",\"convex\",\"convex\",\"convex\",\"convex\",\"flat\",\"convex\",\"convex\",\"convex\",\"flat\",\"convex\",\"convex\",\"convex\",\"convex\",\"convex\",\"convex\",\"convex\",\"convex\",\"convex\",\"convex\",\"flat\",\"flat\",\"convex\",\"flat\",\"flat\",\"convex\",\"convex\",\"flat\",\"convex\",\"flat\",\"convex\",\"convex\",\"convex\",\"flat\",\"flat\",\"convex\",\"convex\",\"convex\",\"flat\",\"convex\",\"flat\",\"convex\",\"convex\",\"convex\",\"convex\",\"convex\",\"convex\",\"convex\",\"flat\",\"convex\",\"convex\",\"flat\",\"flat\",\"convex\",\"convex\",\"convex\",\"convex\",\"convex\",\"flat\",\"convex\",\"flat\",\"flat\",\"flat\",\"convex\",\"convex\",\"convex\",\"convex\",\"convex\",\"convex\",\"convex\",\"flat\",\"convex\",\"flat\",\"convex\",\"convex\",\"flat\",\"convex\",\"convex\",\"flat\",\"flat\",\"convex\",\"convex\",\"convex\",\"convex\",\"flat\",\"convex\",\"convex\",\"convex\",\"flat\",\"convex\",\"flat\",\"convex\",\"convex\",\"flat\",\"convex\",\"convex\",\"convex\",\"flat\",\"convex\",\"convex\",\"flat\",\"convex\",\"convex\",\"convex\",\"convex\",\"convex\",\"convex\",\"convex\",\"convex\",\"flat\",\"flat\",\"convex\",\"convex\",\"flat\",\"convex\",\"convex\",\"convex\",\"flat\",\"flat\",\"convex\",\"convex\",\"convex\",\"convex\",\"convex\",\"convex\",\"flat\",\"convex\",\"flat\",\"flat\",\"flat\",\"convex\",\"flat\",\"flat\",\"convex\",\"convex\",\"convex\",\"flat\",\"convex\",\"flat\",\"convex\",\"convex\",\"convex\",\"flat\",\"convex\",\"convex\",\"convex\",\"flat\",\"flat\",\"flat\",\"convex\",\"flat\",\"convex\",\"convex\",\"convex\",\"convex\",\"flat\",\"convex\",\"convex\",\"convex\",\"flat\",\"convex\",\"convex\",\"flat\",\"flat\",\"flat\",\"convex\",\"convex\",\"convex\",\"convex\",\"convex\",\"convex\",\"flat\",\"convex\",\"convex\",\"convex\",\"convex\",\"convex\",\"convex\",\"convex\",\"convex\",\"convex\",\"convex\",\"flat\",\"convex\",\"convex\",\"convex\",\"convex\",\"flat\",\"flat\",\"convex\",\"convex\",\"flat\",\"convex\",\"flat\",\"convex\",\"flat\",\"convex\",\"convex\",\"convex\",\"convex\",\"convex\",\"convex\",\"flat\",\"flat\",\"convex\",\"convex\",\"flat\",\"convex\",\"flat\",\"convex\",\"convex\",\"convex\",\"convex\",\"flat\",\"convex\",\"convex\",\"convex\",\"convex\",\"convex\",\"flat\",\"convex\",\"convex\",\"convex\",\"flat\",\"flat\",\"flat\",\"convex\",\"flat\",\"convex\",\"flat\",\"convex\",\"convex\",\"flat\",\"convex\",\"convex\",\"convex\",\"convex\",\"flat\",\"convex\",\"convex\",\"convex\",\"flat\",\"convex\",\"flat\",\"convex\",\"convex\",\"convex\",\"convex\",\"flat\",\"convex\",\"convex\",\"flat\",\"convex\",\"flat\",\"convex\",\"convex\",\"flat\",\"convex\",\"convex\",\"flat\",\"convex\",\"convex\",\"convex\",\"convex\",\"convex\",\"convex\",\"flat\",\"convex\",\"convex\",\"convex\",\"flat\",\"flat\",\"convex\",\"flat\",\"convex\",\"convex\",\"convex\",\"flat\",\"convex\",\"flat\",\"flat\",\"convex\",\"convex\",\"convex\",\"convex\",\"flat\",\"convex\",\"flat\",\"convex\",\"convex\",\"convex\",\"convex\",\"flat\",\"convex\",\"convex\",\"flat\",\"convex\",\"convex\",\"convex\",\"flat\",\"convex\",\"flat\",\"convex\",\"convex\",\"flat\",\"convex\",\"flat\",\"convex\",\"convex\",\"convex\",\"convex\",\"convex\",\"flat\",\"convex\",\"flat\",\"flat\",\"convex\",\"convex\",\"convex\",\"convex\",\"convex\",\"convex\",\"convex\",\"flat\",\"flat\",\"flat\",\"flat\",\"convex\",\"convex\",\"convex\",\"convex\",\"flat\",\"convex\",\"convex\",\"convex\",\"convex\",\"convex\",\"flat\",\"convex\",\"convex\",\"flat\",\"convex\",\"flat\",\"convex\",\"convex\",\"convex\",\"flat\",\"convex\",\"convex\",\"convex\",\"convex\",\"convex\",\"convex\",\"convex\",\"flat\",\"convex\",\"convex\",\"convex\",\"convex\",\"convex\",\"convex\",\"convex\",\"convex\",\"convex\",\"flat\",\"convex\",\"convex\",\"convex\",\"convex\",\"convex\",\"convex\",\"flat\",\"flat\",\"convex\",\"convex\",\"convex\",\"flat\",\"convex\",\"convex\",\"flat\",\"convex\",\"convex\",\"convex\",\"flat\",\"convex\",\"flat\",\"flat\",\"convex\",\"convex\",\"flat\",\"flat\",\"flat\",\"convex\",\"convex\",\"flat\",\"convex\",\"convex\",\"flat\",\"flat\",\"convex\",\"convex\",\"convex\",\"convex\",\"convex\",\"convex\",\"flat\",\"convex\",\"convex\",\"convex\",\"convex\",\"flat\",\"convex\",\"convex\",\"convex\",\"convex\",\"convex\",\"convex\",\"convex\",\"flat\",\"convex\",\"convex\",\"convex\",\"flat\",\"convex\",\"convex\",\"convex\",\"convex\",\"flat\",\"flat\",\"flat\",\"convex\",\"convex\",\"convex\",\"flat\",\"convex\",\"convex\",\"convex\",\"flat\",\"convex\",\"convex\",\"flat\",\"convex\",\"convex\",\"convex\",\"flat\",\"flat\",\"convex\",\"convex\",\"convex\",\"convex\",\"convex\",\"convex\",\"convex\",\"convex\",\"convex\",\"convex\",\"convex\",\"convex\",\"flat\",\"flat\",\"flat\",\"convex\",\"convex\",\"convex\",\"flat\",\"flat\",\"convex\",\"convex\",\"flat\",\"flat\",\"convex\",\"convex\",\"convex\",\"convex\",\"convex\",\"convex\",\"flat\",\"flat\",\"convex\",\"convex\",\"flat\",\"convex\",\"convex\",\"flat\",\"convex\",\"convex\",\"convex\",\"flat\",\"flat\",\"convex\",\"flat\",\"convex\",\"convex\",\"convex\",\"convex\",\"convex\",\"flat\",\"convex\",\"convex\",\"flat\",\"convex\",\"convex\",\"convex\",\"convex\",\"flat\",\"convex\",\"flat\",\"flat\",\"convex\",\"flat\",\"convex\",\"flat\",\"convex\",\"convex\",\"flat\",\"convex\",\"flat\",\"convex\",\"convex\",\"flat\",\"convex\",\"convex\",\"flat\",\"flat\",\"convex\",\"convex\",\"flat\",\"convex\",\"convex\",\"flat\",\"convex\",\"flat\",\"convex\",\"convex\",\"convex\",\"convex\",\"convex\",\"convex\",\"flat\",\"convex\",\"convex\",\"convex\",\"convex\",\"convex\",\"convex\",\"convex\",\"convex\",\"flat\",\"convex\",\"flat\",\"flat\",\"flat\",\"convex\",\"convex\",\"convex\",\"flat\",\"flat\",\"convex\",\"flat\",\"convex\",\"convex\",\"convex\",\"convex\",\"flat\",\"flat\",\"convex\",\"flat\",\"convex\",\"convex\",\"convex\",\"flat\",\"convex\",\"flat\",\"convex\",\"convex\",\"convex\",\"convex\",\"convex\",\"convex\",\"flat\",\"flat\",\"convex\",\"convex\",\"convex\",\"convex\",\"convex\",\"convex\",\"convex\",\"convex\",\"convex\",\"convex\",\"convex\",\"convex\",\"flat\",\"flat\",\"convex\",\"convex\",\"convex\",\"flat\",\"convex\",\"flat\",\"convex\",\"convex\",\"convex\",\"flat\",\"convex\",\"convex\",\"flat\",\"convex\",\"convex\",\"convex\",\"convex\",\"convex\",\"convex\",\"convex\",\"convex\",\"convex\",\"flat\",\"convex\",\"flat\",\"convex\",\"convex\",\"convex\",\"convex\",\"convex\",\"convex\",\"convex\",\"convex\",\"convex\",\"convex\",\"convex\",\"flat\",\"flat\",\"convex\",\"flat\",\"flat\",\"flat\",\"convex\",\"convex\",\"convex\",\"flat\",\"convex\",\"convex\",\"flat\",\"convex\",\"convex\",\"convex\",\"flat\",\"convex\",\"convex\",\"convex\",\"convex\",\"convex\",\"flat\",\"convex\",\"convex\",\"flat\",\"convex\",\"convex\",\"flat\",\"flat\",\"flat\",\"convex\",\"convex\",\"flat\",\"convex\",\"flat\",\"convex\",\"convex\",\"flat\",\"convex\",\"convex\",\"convex\",\"convex\",\"convex\",\"convex\",\"convex\",\"flat\",\"convex\",\"flat\",\"convex\",\"flat\",\"convex\",\"convex\",\"convex\",\"convex\",\"flat\",\"flat\",\"convex\",\"convex\",\"convex\",\"convex\",\"convex\",\"flat\",\"convex\",\"convex\",\"convex\",\"convex\",\"convex\",\"flat\",\"convex\",\"flat\",\"convex\",\"flat\",\"convex\",\"convex\",\"convex\",\"convex\",\"convex\",\"flat\",\"convex\",\"convex\",\"flat\",\"flat\",\"convex\",\"convex\",\"convex\",\"convex\",\"convex\",\"convex\",\"flat\",\"convex\",\"convex\",\"convex\",\"flat\",\"convex\",\"convex\",\"convex\",\"convex\",\"flat\",\"flat\",\"convex\",\"convex\",\"convex\",\"flat\",\"convex\",\"convex\",\"flat\",\"convex\",\"convex\",\"convex\",\"convex\",\"convex\",\"convex\",\"convex\",\"convex\",\"convex\",\"convex\",\"convex\",\"convex\",\"convex\",\"convex\",\"flat\",\"flat\",\"flat\",\"convex\",\"convex\",\"convex\",\"convex\",\"convex\",\"flat\",\"convex\",\"flat\",\"convex\",\"flat\",\"convex\",\"convex\",\"convex\",\"convex\",\"convex\",\"flat\",\"flat\",\"convex\",\"flat\",\"convex\",\"flat\",\"convex\",\"flat\",\"convex\",\"convex\",\"convex\",\"convex\",\"convex\",\"convex\",\"convex\",\"convex\",\"flat\",\"convex\",\"convex\",\"convex\",\"convex\",\"convex\",\"convex\",\"flat\",\"convex\",\"flat\",\"convex\",\"convex\",\"flat\",\"convex\",\"convex\",\"convex\",\"convex\",\"convex\",\"convex\",\"convex\",\"convex\",\"flat\",\"convex\",\"convex\",\"convex\",\"flat\",\"flat\",\"convex\",\"convex\",\"convex\",\"convex\",\"convex\",\"flat\",\"convex\",\"convex\",\"convex\",\"flat\",\"convex\",\"convex\",\"convex\",\"convex\",\"convex\",\"convex\",\"flat\",\"convex\",\"flat\",\"convex\",\"convex\",\"convex\",\"convex\",\"convex\",\"convex\",\"convex\",\"flat\",\"convex\",\"convex\",\"flat\",\"convex\",\"convex\",\"flat\",\"flat\",\"convex\",\"convex\",\"convex\",\"flat\",\"convex\",\"convex\",\"convex\",\"convex\",\"convex\",\"convex\",\"convex\",\"convex\",\"convex\",\"convex\",\"flat\",\"convex\",\"convex\",\"convex\",\"flat\",\"convex\",\"convex\",\"convex\",\"flat\",\"convex\",\"flat\",\"convex\",\"convex\",\"convex\",\"convex\",\"convex\",\"convex\",\"flat\",\"convex\",\"convex\",\"flat\",\"flat\",\"flat\",\"flat\",\"convex\",\"flat\",\"flat\",\"flat\",\"convex\",\"convex\",\"flat\",\"convex\",\"convex\",\"flat\",\"flat\",\"flat\",\"flat\",\"flat\",\"flat\",\"flat\",\"flat\",\"convex\",\"convex\",\"flat\",\"flat\",\"flat\",\"flat\",\"flat\",\"flat\",\"flat\",\"flat\",\"flat\",\"convex\",\"flat\",\"flat\",\"convex\",\"flat\",\"flat\",\"flat\",\"flat\",\"flat\",\"convex\",\"convex\",\"flat\",\"convex\",\"flat\",\"flat\",\"convex\",\"flat\",\"flat\",\"flat\",\"flat\",\"convex\",\"convex\",\"flat\",\"convex\",\"convex\",\"convex\",\"flat\",\"convex\",\"flat\",\"flat\",\"flat\",\"convex\",\"convex\",\"flat\",\"convex\",\"flat\",\"convex\",\"flat\",\"flat\",\"flat\",\"convex\",\"flat\",\"flat\",\"flat\",\"flat\",\"convex\",\"flat\",\"flat\",\"convex\",\"flat\",\"convex\",\"flat\",\"convex\",\"convex\",\"convex\",\"flat\",\"convex\",\"flat\",\"convex\",\"flat\",\"convex\",\"flat\",\"flat\",\"flat\",\"flat\",\"convex\",\"flat\",\"convex\",\"flat\",\"flat\",\"flat\",\"flat\",\"convex\",\"convex\",\"flat\",\"flat\",\"flat\",\"flat\",\"flat\",\"flat\",\"flat\",\"convex\",\"convex\",\"flat\",\"flat\",\"convex\",\"convex\",\"convex\",\"flat\",\"flat\",\"flat\",\"flat\",\"flat\",\"flat\",\"flat\",\"flat\",\"flat\",\"convex\",\"flat\",\"flat\",\"flat\",\"convex\",\"flat\",\"flat\",\"convex\",\"flat\",\"flat\",\"flat\",\"flat\",\"flat\",\"convex\",\"convex\",\"flat\",\"flat\",\"flat\",\"convex\",\"flat\",\"flat\",\"flat\",\"convex\",\"convex\",\"flat\",\"convex\",\"flat\",\"convex\",\"convex\",\"flat\",\"convex\",\"convex\",\"convex\",\"flat\",\"convex\",\"convex\",\"flat\",\"flat\",\"flat\",\"convex\",\"convex\",\"convex\",\"flat\",\"flat\",\"flat\",\"convex\",\"flat\",\"convex\",\"convex\",\"flat\",\"flat\",\"flat\",\"flat\",\"convex\",\"convex\",\"flat\",\"convex\",\"convex\",\"flat\",\"flat\",\"flat\",\"flat\",\"convex\",\"flat\",\"flat\",\"convex\",\"flat\",\"flat\",\"flat\",\"flat\",\"flat\",\"convex\",\"flat\",\"flat\",\"convex\",\"convex\",\"flat\",\"convex\",\"flat\",\"flat\",\"flat\",\"flat\",\"flat\",\"flat\",\"convex\",\"flat\",\"flat\",\"flat\",\"flat\",\"flat\",\"convex\",\"flat\",\"convex\",\"convex\",\"flat\",\"flat\",\"flat\",\"convex\",\"convex\",\"convex\",\"convex\",\"convex\",\"flat\",\"flat\",\"convex\",\"convex\",\"flat\",\"flat\",\"convex\",\"convex\",\"flat\",\"convex\",\"convex\",\"convex\",\"convex\",\"flat\",\"flat\",\"flat\",\"flat\",\"convex\",\"flat\",\"flat\",\"flat\",\"flat\",\"convex\",\"convex\",\"flat\",\"flat\",\"convex\",\"convex\",\"convex\",\"convex\",\"flat\",\"flat\",\"convex\",\"flat\",\"convex\",\"flat\",\"flat\",\"flat\",\"convex\",\"flat\",\"convex\",\"convex\",\"flat\",\"flat\",\"convex\",\"convex\",\"convex\",\"convex\",\"convex\",\"flat\",\"convex\",\"flat\",\"flat\",\"flat\",\"flat\",\"flat\",\"convex\",\"flat\",\"flat\",\"convex\",\"flat\",\"flat\",\"convex\",\"flat\",\"convex\",\"flat\",\"flat\",\"flat\",\"convex\",\"flat\",\"convex\",\"flat\",\"convex\",\"flat\",\"flat\",\"flat\",\"flat\",\"convex\",\"flat\",\"flat\",\"flat\",\"flat\",\"flat\",\"flat\",\"flat\",\"flat\",\"convex\",\"convex\",\"flat\",\"flat\",\"convex\",\"convex\",\"convex\",\"convex\",\"flat\",\"convex\",\"flat\",\"flat\",\"convex\",\"flat\",\"convex\",\"convex\",\"flat\",\"convex\",\"flat\",\"convex\",\"flat\",\"convex\",\"flat\",\"flat\",\"convex\",\"flat\",\"flat\",\"convex\",\"flat\",\"convex\",\"convex\",\"flat\",\"flat\",\"flat\",\"flat\",\"convex\",\"convex\",\"convex\",\"flat\",\"flat\",\"flat\",\"convex\",\"flat\",\"convex\",\"convex\",\"flat\",\"flat\",\"flat\",\"flat\",\"convex\",\"convex\",\"flat\",\"flat\",\"flat\",\"flat\",\"flat\",\"flat\",\"flat\",\"convex\",\"convex\",\"convex\",\"flat\",\"flat\",\"convex\",\"flat\",\"flat\",\"convex\",\"convex\",\"convex\",\"flat\",\"convex\",\"convex\",\"flat\",\"convex\",\"flat\",\"convex\",\"convex\",\"convex\",\"convex\",\"flat\",\"convex\",\"convex\",\"flat\",\"convex\",\"convex\",\"convex\",\"flat\",\"flat\",\"flat\",\"convex\",\"flat\",\"convex\",\"flat\",\"flat\",\"flat\",\"convex\",\"convex\",\"flat\",\"convex\",\"convex\",\"flat\",\"flat\",\"flat\",\"convex\",\"convex\",\"flat\",\"flat\",\"flat\",\"flat\",\"flat\",\"convex\",\"flat\",\"flat\",\"convex\",\"flat\",\"flat\",\"flat\",\"convex\",\"flat\",\"convex\",\"flat\",\"convex\",\"convex\",\"flat\",\"convex\",\"convex\",\"convex\",\"flat\",\"flat\",\"convex\",\"convex\",\"convex\",\"convex\",\"flat\",\"flat\",\"convex\",\"convex\",\"flat\",\"flat\",\"convex\",\"flat\",\"convex\",\"flat\",\"convex\",\"flat\",\"flat\",\"convex\",\"convex\",\"flat\",\"convex\",\"flat\",\"convex\",\"convex\",\"flat\",\"flat\",\"convex\",\"flat\",\"convex\",\"flat\",\"flat\",\"flat\",\"convex\",\"convex\",\"flat\",\"flat\",\"flat\",\"convex\",\"flat\",\"convex\",\"flat\",\"convex\",\"flat\",\"flat\",\"flat\",\"convex\",\"flat\",\"convex\",\"flat\",\"convex\",\"flat\",\"flat\",\"flat\",\"convex\",\"flat\",\"convex\",\"convex\",\"convex\",\"flat\",\"flat\",\"convex\",\"flat\",\"flat\",\"flat\",\"convex\",\"flat\",\"flat\",\"convex\",\"flat\",\"flat\",\"convex\",\"flat\",\"flat\",\"flat\",\"convex\",\"flat\",\"flat\",\"flat\",\"flat\",\"convex\",\"convex\",\"flat\",\"convex\",\"flat\",\"flat\",\"convex\",\"flat\",\"flat\",\"convex\",\"convex\",\"flat\",\"flat\",\"convex\",\"convex\",\"flat\",\"flat\",\"convex\",\"flat\",\"flat\",\"flat\",\"convex\",\"convex\",\"flat\",\"convex\",\"flat\",\"convex\",\"convex\",\"flat\",\"flat\",\"convex\",\"flat\",\"flat\",\"flat\",\"convex\",\"convex\",\"flat\",\"convex\",\"flat\",\"flat\",\"flat\",\"flat\",\"convex\",\"flat\",\"flat\",\"flat\",\"flat\",\"flat\",\"flat\",\"flat\",\"flat\",\"convex\",\"flat\",\"convex\",\"flat\",\"flat\",\"convex\",\"flat\",\"flat\",\"convex\",\"convex\",\"convex\",\"flat\",\"flat\",\"flat\",\"flat\",\"flat\",\"convex\",\"flat\",\"convex\",\"flat\",\"convex\",\"convex\",\"flat\",\"convex\",\"convex\",\"convex\",\"convex\",\"flat\",\"flat\",\"convex\",\"flat\",\"flat\",\"flat\",\"convex\",\"flat\",\"convex\",\"flat\",\"flat\",\"convex\",\"flat\",\"convex\",\"convex\",\"flat\",\"convex\",\"convex\",\"flat\",\"convex\",\"flat\",\"flat\",\"convex\",\"convex\",\"convex\",\"convex\",\"flat\",\"convex\",\"flat\",\"flat\",\"flat\",\"flat\",\"flat\",\"flat\",\"flat\",\"flat\",\"convex\",\"flat\",\"flat\",\"convex\",\"convex\",\"convex\",\"flat\",\"flat\",\"convex\",\"convex\",\"flat\",\"flat\",\"convex\",\"flat\",\"flat\",\"flat\",\"convex\",\"convex\",\"convex\",\"convex\",\"flat\",\"flat\",\"flat\",\"convex\",\"flat\",\"flat\",\"convex\",\"flat\",\"flat\",\"flat\",\"flat\",\"convex\",\"flat\",\"flat\",\"flat\",\"convex\",\"flat\",\"flat\",\"flat\",\"convex\",\"convex\",\"flat\",\"convex\",\"convex\",\"flat\",\"flat\",\"flat\",\"flat\",\"convex\",\"flat\",\"convex\",\"flat\",\"flat\",\"convex\",\"flat\",\"convex\",\"convex\",\"convex\",\"flat\",\"convex\",\"convex\",\"flat\",\"flat\",\"convex\",\"convex\",\"flat\",\"convex\",\"flat\",\"flat\",\"flat\",\"flat\",\"flat\",\"flat\",\"convex\",\"flat\",\"flat\",\"flat\",\"flat\",\"convex\",\"convex\",\"convex\",\"convex\",\"flat\",\"flat\",\"flat\",\"flat\",\"flat\",\"flat\",\"flat\",\"flat\",\"convex\",\"flat\",\"flat\",\"convex\",\"convex\",\"convex\",\"convex\",\"flat\",\"convex\",\"flat\",\"flat\",\"flat\",\"convex\",\"flat\",\"flat\",\"flat\",\"convex\",\"convex\",\"flat\",\"convex\",\"convex\",\"convex\",\"flat\",\"flat\",\"flat\",\"flat\",\"flat\",\"flat\",\"flat\",\"flat\",\"flat\",\"flat\",\"flat\",\"flat\",\"flat\",\"flat\",\"convex\",\"flat\",\"flat\",\"convex\",\"flat\",\"convex\",\"flat\",\"convex\",\"flat\",\"flat\",\"flat\",\"convex\",\"flat\",\"flat\",\"flat\",\"flat\",\"flat\",\"flat\",\"convex\",\"flat\",\"flat\",\"flat\",\"convex\",\"flat\",\"convex\",\"flat\",\"convex\",\"flat\",\"flat\",\"flat\",\"flat\",\"convex\",\"flat\",\"flat\",\"convex\",\"flat\",\"convex\",\"flat\",\"flat\",\"flat\",\"convex\",\"flat\",\"flat\",\"flat\",\"convex\",\"convex\",\"flat\",\"flat\",\"flat\",\"flat\",\"flat\",\"convex\",\"convex\",\"convex\",\"flat\",\"flat\",\"convex\",\"flat\",\"flat\",\"convex\",\"flat\",\"convex\",\"flat\",\"convex\",\"convex\",\"convex\",\"flat\",\"flat\",\"flat\",\"flat\",\"convex\",\"flat\",\"flat\",\"convex\",\"flat\",\"convex\",\"flat\",\"flat\",\"flat\",\"flat\",\"convex\",\"flat\",\"convex\",\"flat\",\"convex\",\"flat\",\"flat\",\"flat\",\"convex\",\"convex\",\"convex\",\"flat\",\"flat\",\"convex\",\"convex\",\"convex\",\"flat\",\"flat\",\"convex\",\"convex\",\"convex\",\"convex\",\"convex\",\"convex\",\"convex\",\"convex\",\"convex\",\"flat\",\"convex\",\"convex\",\"flat\",\"convex\",\"convex\",\"flat\",\"flat\",\"convex\",\"flat\",\"convex\",\"flat\",\"convex\",\"flat\",\"flat\",\"convex\",\"flat\",\"convex\",\"flat\",\"flat\",\"flat\",\"convex\",\"flat\",\"convex\",\"convex\",\"flat\",\"convex\",\"convex\",\"convex\",\"convex\",\"convex\",\"flat\",\"flat\",\"flat\",\"convex\",\"flat\",\"flat\",\"convex\",\"flat\",\"flat\",\"convex\",\"flat\",\"flat\",\"flat\",\"flat\",\"flat\",\"flat\",\"flat\",\"convex\",\"convex\",\"flat\",\"flat\",\"convex\",\"flat\",\"flat\",\"flat\",\"convex\",\"flat\",\"convex\",\"convex\",\"flat\",\"flat\",\"convex\",\"convex\",\"flat\",\"convex\",\"flat\",\"flat\",\"flat\",\"convex\",\"flat\",\"flat\",\"convex\",\"flat\",\"convex\",\"flat\",\"convex\",\"convex\",\"convex\",\"convex\",\"flat\",\"flat\",\"convex\",\"convex\",\"flat\",\"flat\",\"convex\",\"flat\",\"convex\",\"flat\",\"flat\",\"convex\",\"convex\",\"convex\",\"convex\",\"flat\",\"flat\",\"convex\",\"convex\",\"flat\",\"convex\",\"convex\",\"flat\",\"flat\",\"convex\",\"flat\",\"convex\",\"convex\",\"flat\",\"convex\",\"convex\",\"flat\",\"flat\",\"convex\",\"convex\",\"flat\",\"convex\",\"convex\",\"convex\",\"convex\",\"convex\",\"flat\",\"flat\",\"flat\",\"flat\",\"flat\",\"flat\",\"convex\",\"convex\",\"flat\",\"flat\",\"flat\",\"flat\",\"flat\",\"flat\",\"convex\",\"flat\",\"convex\",\"flat\",\"convex\",\"convex\",\"convex\",\"convex\",\"flat\",\"flat\",\"convex\",\"convex\",\"convex\",\"convex\",\"convex\",\"flat\",\"flat\",\"convex\",\"convex\",\"convex\",\"convex\",\"flat\",\"convex\",\"convex\",\"convex\",\"flat\",\"convex\",\"flat\",\"convex\",\"flat\",\"flat\",\"flat\",\"flat\",\"convex\",\"convex\",\"flat\",\"convex\",\"convex\",\"convex\",\"convex\",\"flat\",\"flat\",\"flat\",\"convex\",\"flat\",\"convex\",\"convex\",\"convex\",\"convex\",\"flat\",\"flat\",\"flat\",\"convex\",\"convex\",\"flat\",\"flat\",\"flat\",\"convex\",\"convex\",\"flat\",\"flat\",\"flat\",\"flat\",\"convex\",\"flat\",\"flat\",\"flat\",\"flat\",\"convex\",\"convex\",\"flat\",\"convex\",\"convex\",\"convex\",\"convex\",\"convex\",\"flat\",\"flat\",\"convex\",\"flat\",\"flat\",\"flat\",\"flat\",\"convex\",\"flat\",\"flat\",\"convex\",\"convex\",\"convex\",\"convex\",\"flat\",\"flat\",\"convex\",\"flat\",\"bell\",\"flat\",\"flat\",\"flat\",\"flat\",\"flat\",\"flat\",\"flat\",\"convex\",\"flat\",\"convex\",\"convex\",\"flat\",\"flat\",\"convex\",\"flat\",\"flat\",\"flat\",\"flat\",\"convex\",\"convex\",\"flat\",\"flat\",\"flat\",\"convex\",\"flat\",\"convex\",\"convex\",\"flat\",\"flat\",\"convex\",\"flat\",\"flat\",\"convex\",\"flat\",\"flat\",\"flat\",\"flat\",\"convex\",\"flat\",\"convex\",\"convex\",\"flat\",\"flat\",\"flat\",\"convex\",\"flat\",\"convex\",\"flat\",\"flat\",\"flat\",\"flat\",\"flat\",\"flat\",\"convex\",\"flat\",\"convex\",\"convex\",\"convex\",\"flat\",\"convex\",\"flat\",\"convex\",\"flat\",\"convex\",\"flat\",\"convex\",\"flat\",\"flat\",\"flat\",\"flat\",\"convex\",\"convex\",\"flat\",\"flat\",\"flat\",\"convex\",\"flat\",\"convex\",\"convex\",\"flat\",\"flat\",\"convex\",\"flat\",\"flat\",\"flat\",\"flat\",\"flat\",\"flat\",\"flat\",\"convex\",\"convex\",\"convex\",\"convex\",\"convex\",\"flat\",\"convex\",\"convex\",\"flat\",\"convex\",\"flat\",\"flat\",\"flat\",\"convex\",\"flat\",\"convex\",\"flat\",\"convex\",\"convex\",\"convex\",\"flat\",\"convex\",\"flat\",\"flat\",\"flat\",\"flat\",\"convex\",\"convex\",\"flat\",\"flat\",\"flat\",\"flat\",\"convex\",\"convex\",\"convex\",\"convex\",\"flat\",\"flat\",\"flat\",\"flat\",\"flat\",\"flat\",\"flat\",\"convex\",\"convex\",\"flat\",\"convex\",\"flat\",\"convex\",\"convex\",\"flat\",\"convex\",\"flat\",\"convex\",\"convex\",\"convex\",\"convex\",\"flat\",\"flat\",\"convex\",\"flat\",\"flat\",\"flat\",\"convex\",\"flat\",\"convex\",\"convex\",\"convex\",\"convex\",\"flat\",\"convex\",\"flat\",\"convex\",\"convex\",\"convex\",\"convex\",\"convex\",\"flat\",\"flat\",\"convex\",\"knobbed\",\"flat\",\"convex\",\"flat\",\"convex\",\"convex\",\"flat\",\"flat\",\"flat\",\"convex\",\"convex\",\"flat\",\"convex\",\"flat\",\"flat\",\"knobbed\",\"convex\",\"flat\",\"flat\",\"flat\",\"convex\",\"flat\",\"convex\",\"flat\",\"flat\",\"convex\",\"flat\",\"flat\",\"flat\",\"flat\",\"flat\",\"flat\",\"flat\",\"convex\",\"convex\",\"convex\",\"flat\",\"convex\",\"convex\",\"flat\",\"convex\",\"flat\",\"flat\",\"flat\",\"flat\",\"flat\",\"convex\",\"flat\",\"flat\",\"flat\",\"convex\",\"flat\",\"convex\",\"convex\",\"flat\",\"knobbed\",\"flat\",\"convex\",\"convex\",\"flat\",\"convex\",\"convex\",\"convex\",\"convex\",\"convex\",\"flat\",\"flat\",\"convex\",\"flat\",\"convex\",\"flat\",\"flat\",\"convex\",\"flat\",\"convex\",\"convex\",\"flat\",\"flat\",\"flat\",\"flat\",\"convex\",\"convex\",\"flat\",\"flat\",\"flat\",\"convex\",\"flat\",\"convex\",\"bell\",\"flat\",\"convex\",\"flat\",\"flat\",\"flat\",\"flat\",\"convex\",\"convex\",\"flat\",\"convex\",\"flat\",\"convex\",\"flat\",\"flat\",\"flat\",\"convex\",\"convex\",\"convex\",\"convex\",\"convex\",\"flat\",\"flat\",\"convex\",\"flat\",\"convex\",\"convex\",\"flat\",\"flat\",\"convex\",\"flat\",\"flat\",\"convex\",\"convex\",\"flat\",\"flat\",\"convex\",\"flat\",\"flat\",\"flat\",\"flat\",\"flat\",\"flat\",\"flat\",\"flat\",\"flat\",\"flat\",\"flat\",\"flat\",\"flat\",\"convex\",\"flat\",\"flat\",\"flat\",\"flat\",\"convex\",\"convex\",\"convex\",\"convex\",\"flat\",\"flat\",\"flat\",\"flat\",\"convex\",\"convex\",\"convex\",\"flat\",\"convex\",\"flat\",\"flat\",\"flat\",\"flat\",\"flat\",\"flat\",\"convex\",\"convex\",\"flat\",\"convex\",\"convex\",\"convex\",\"flat\",\"flat\",\"flat\",\"flat\",\"convex\",\"convex\",\"convex\",\"flat\",\"convex\",\"flat\",\"convex\",\"convex\",\"flat\",\"flat\",\"convex\",\"knobbed\",\"convex\",\"convex\",\"flat\",\"convex\",\"flat\",\"flat\",\"flat\",\"flat\",\"convex\",\"convex\",\"convex\",\"flat\",\"convex\",\"convex\",\"flat\",\"convex\",\"convex\",\"flat\",\"flat\",\"flat\",\"flat\",\"convex\",\"convex\",\"flat\",\"flat\",\"convex\",\"flat\",\"convex\",\"convex\",\"convex\",\"flat\",\"flat\",\"flat\",\"convex\",\"flat\",\"flat\",\"convex\",\"flat\",\"convex\",\"convex\",\"convex\",\"flat\",\"flat\",\"convex\",\"convex\",\"convex\",\"flat\",\"flat\",\"flat\",\"convex\",\"flat\",\"flat\",\"flat\",\"flat\",\"flat\",\"flat\",\"convex\",\"convex\",\"convex\",\"convex\",\"flat\",\"convex\",\"convex\",\"convex\",\"flat\",\"flat\",\"flat\",\"convex\",\"convex\",\"flat\",\"convex\",\"flat\",\"convex\",\"convex\",\"flat\",\"flat\",\"convex\",\"convex\",\"flat\",\"flat\",\"flat\",\"flat\",\"convex\",\"flat\",\"flat\",\"flat\",\"flat\",\"flat\",\"flat\",\"flat\",\"convex\",\"flat\",\"flat\",\"convex\",\"convex\",\"convex\",\"flat\",\"convex\",\"convex\",\"flat\",\"convex\",\"flat\",\"convex\",\"convex\",\"convex\",\"flat\",\"convex\",\"flat\",\"flat\",\"convex\",\"flat\",\"convex\",\"flat\",\"convex\",\"flat\",\"flat\",\"flat\",\"flat\",\"flat\",\"flat\",\"convex\",\"convex\",\"convex\",\"convex\",\"flat\",\"convex\",\"flat\",\"convex\",\"flat\",\"flat\",\"flat\",\"convex\",\"flat\",\"flat\",\"convex\",\"flat\",\"convex\",\"flat\",\"convex\",\"flat\",\"flat\",\"flat\",\"flat\",\"flat\",\"flat\",\"convex\",\"convex\",\"flat\",\"convex\",\"convex\",\"convex\",\"flat\",\"convex\",\"convex\",\"flat\",\"convex\",\"flat\",\"flat\",\"flat\",\"convex\",\"flat\",\"flat\",\"flat\",\"flat\",\"flat\",\"flat\",\"flat\",\"flat\",\"convex\",\"flat\",\"flat\",\"convex\",\"convex\",\"flat\",\"flat\",\"convex\",\"convex\",\"flat\",\"convex\",\"convex\",\"convex\",\"flat\",\"convex\",\"convex\",\"flat\",\"convex\",\"convex\",\"flat\",\"flat\",\"flat\",\"convex\",\"flat\",\"flat\",\"convex\",\"flat\",\"convex\",\"flat\",\"convex\",\"convex\",\"convex\",\"flat\",\"convex\",\"flat\",\"convex\",\"convex\",\"convex\",\"convex\",\"flat\",\"convex\",\"flat\",\"flat\",\"convex\",\"flat\",\"flat\",\"flat\",\"convex\",\"convex\",\"flat\",\"convex\",\"flat\",\"flat\",\"convex\",\"convex\",\"flat\",\"flat\",\"convex\",\"flat\",\"flat\",\"convex\",\"flat\",\"convex\",\"flat\",\"convex\",\"convex\",\"convex\",\"flat\",\"flat\",\"flat\",\"convex\",\"convex\",\"flat\",\"convex\",\"convex\",\"convex\",\"flat\",\"convex\",\"convex\",\"flat\",\"flat\",\"flat\",\"convex\",\"convex\",\"convex\",\"flat\",\"flat\",\"convex\",\"flat\",\"flat\",\"convex\",\"flat\",\"flat\",\"convex\",\"convex\",\"convex\",\"convex\",\"flat\",\"convex\",\"convex\",\"convex\",\"flat\",\"flat\",\"flat\",\"flat\",\"convex\",\"flat\",\"convex\",\"convex\",\"flat\",\"convex\",\"flat\",\"flat\",\"flat\",\"flat\",\"convex\",\"convex\",\"flat\",\"convex\",\"flat\",\"flat\",\"convex\",\"flat\",\"convex\",\"convex\",\"convex\",\"flat\",\"convex\",\"convex\",\"flat\",\"flat\",\"convex\",\"flat\",\"convex\",\"convex\",\"convex\",\"convex\",\"convex\",\"convex\",\"flat\",\"flat\",\"convex\",\"convex\",\"convex\",\"flat\",\"convex\",\"convex\",\"flat\",\"flat\",\"convex\",\"flat\",\"convex\",\"convex\",\"flat\",\"convex\",\"flat\",\"convex\",\"convex\",\"flat\",\"flat\",\"flat\",\"convex\",\"flat\",\"convex\",\"flat\",\"flat\",\"flat\",\"flat\",\"convex\",\"flat\",\"convex\",\"flat\",\"convex\",\"convex\",\"flat\",\"flat\",\"flat\",\"flat\",\"flat\",\"flat\",\"convex\",\"flat\",\"convex\",\"flat\",\"flat\",\"flat\",\"knobbed\",\"flat\",\"flat\",\"convex\",\"flat\",\"flat\",\"flat\",\"flat\",\"convex\",\"convex\",\"convex\",\"flat\",\"bell\",\"flat\",\"convex\",\"flat\",\"flat\",\"knobbed\",\"flat\",\"flat\",\"knobbed\",\"convex\",\"convex\",\"convex\",\"convex\",\"flat\",\"bell\",\"convex\",\"flat\",\"bell\",\"flat\",\"convex\",\"knobbed\",\"convex\",\"flat\",\"flat\",\"convex\",\"convex\",\"convex\",\"convex\",\"convex\",\"convex\",\"convex\",\"flat\",\"knobbed\",\"flat\",\"flat\",\"convex\",\"flat\",\"flat\",\"flat\",\"convex\",\"flat\",\"convex\",\"flat\",\"convex\",\"flat\",\"flat\",\"flat\",\"flat\",\"convex\",\"flat\",\"flat\",\"convex\",\"flat\",\"flat\",\"flat\",\"convex\",\"bell\",\"flat\",\"convex\",\"flat\",\"convex\",\"flat\",\"flat\",\"convex\",\"flat\",\"convex\",\"convex\",\"flat\",\"convex\",\"convex\",\"flat\",\"flat\",\"convex\",\"flat\",\"convex\",\"flat\",\"flat\",\"convex\",\"convex\",\"convex\",\"convex\",\"flat\",\"convex\",\"convex\",\"flat\",\"flat\",\"flat\",\"convex\",\"flat\",\"flat\",\"convex\",\"convex\",\"convex\",\"flat\",\"flat\",\"convex\",\"flat\",\"flat\",\"convex\",\"convex\",\"knobbed\",\"flat\",\"flat\",\"convex\",\"convex\",\"convex\",\"convex\",\"convex\",\"flat\",\"convex\",\"flat\",\"convex\",\"convex\",\"knobbed\",\"flat\",\"convex\",\"flat\",\"convex\",\"flat\",\"knobbed\",\"flat\",\"convex\",\"convex\",\"convex\",\"flat\",\"flat\",\"flat\",\"flat\",\"convex\",\"flat\",\"flat\",\"flat\",\"convex\",\"flat\",\"convex\",\"flat\",\"flat\",\"flat\",\"flat\",\"convex\",\"knobbed\",\"flat\",\"flat\",\"convex\",\"flat\",\"flat\",\"convex\",\"flat\",\"flat\",\"flat\",\"flat\",\"flat\",\"convex\",\"convex\",\"flat\",\"flat\",\"convex\",\"convex\",\"flat\",\"flat\",\"convex\",\"convex\",\"convex\",\"convex\",\"flat\",\"convex\",\"convex\",\"flat\",\"flat\",\"flat\",\"convex\",\"flat\",\"convex\",\"convex\",\"flat\",\"convex\",\"bell\",\"flat\",\"flat\",\"flat\",\"convex\",\"flat\",\"flat\",\"convex\",\"convex\",\"flat\",\"convex\",\"convex\",\"flat\",\"knobbed\",\"flat\",\"convex\",\"convex\",\"flat\",\"flat\",\"convex\",\"flat\",\"flat\",\"convex\",\"flat\",\"convex\",\"convex\",\"convex\",\"flat\",\"flat\",\"flat\",\"convex\",\"convex\",\"convex\",\"convex\",\"convex\",\"flat\",\"flat\",\"convex\",\"flat\",\"convex\",\"convex\",\"convex\",\"flat\",\"flat\",\"flat\",\"convex\",\"flat\",\"convex\",\"convex\",\"convex\",\"knobbed\",\"flat\",\"convex\",\"flat\",\"convex\",\"flat\",\"convex\",\"flat\",\"convex\",\"convex\",\"convex\",\"convex\",\"flat\",\"convex\",\"flat\",\"flat\",\"convex\",\"flat\",\"convex\",\"convex\",\"convex\",\"flat\",\"convex\",\"convex\",\"flat\",\"flat\",\"flat\",\"flat\",\"convex\",\"flat\",\"flat\",\"convex\",\"convex\",\"knobbed\",\"flat\",\"knobbed\",\"flat\",\"flat\",\"convex\",\"convex\",\"flat\",\"flat\",\"convex\",\"flat\",\"convex\",\"bell\",\"knobbed\",\"convex\",\"convex\",\"knobbed\",\"flat\",\"convex\",\"convex\",\"convex\",\"convex\",\"flat\",\"convex\",\"flat\",\"convex\",\"flat\",\"flat\",\"flat\",\"convex\",\"convex\",\"convex\",\"knobbed\",\"convex\",\"convex\",\"flat\",\"flat\",\"knobbed\",\"convex\",\"flat\",\"flat\",\"conical\",\"convex\",\"bell\",\"convex\",\"flat\",\"bell\",\"convex\",\"convex\",\"knobbed\",\"knobbed\",\"flat\",\"flat\",\"flat\",\"convex\",\"flat\",\"convex\",\"convex\",\"flat\",\"convex\",\"convex\",\"convex\",\"convex\",\"flat\",\"convex\",\"convex\",\"flat\",\"flat\",\"flat\",\"convex\",\"convex\",\"convex\",\"convex\",\"flat\",\"flat\",\"convex\",\"convex\",\"flat\",\"convex\",\"flat\",\"flat\",\"knobbed\",\"convex\",\"convex\",\"convex\",\"convex\",\"flat\",\"flat\",\"flat\",\"flat\",\"convex\",\"flat\",\"bell\",\"convex\",\"flat\",\"convex\",\"convex\",\"flat\",\"convex\",\"convex\",\"flat\",\"convex\",\"flat\",\"convex\",\"convex\",\"flat\",\"flat\",\"convex\",\"knobbed\",\"convex\",\"convex\",\"flat\",\"knobbed\",\"convex\",\"flat\",\"flat\",\"convex\",\"convex\",\"convex\",\"flat\",\"flat\",\"knobbed\",\"flat\",\"convex\",\"convex\",\"flat\",\"convex\",\"convex\",\"convex\",\"convex\",\"flat\",\"knobbed\",\"convex\",\"convex\",\"knobbed\",\"flat\",\"convex\",\"flat\",\"convex\",\"bell\",\"flat\",\"convex\",\"convex\",\"convex\",\"convex\",\"knobbed\",\"knobbed\",\"convex\",\"convex\",\"flat\",\"flat\",\"flat\",\"knobbed\",\"knobbed\",\"knobbed\",\"flat\",\"flat\",\"flat\",\"knobbed\",\"flat\",\"convex\",\"convex\",\"convex\",\"bell\",\"flat\",\"convex\",\"convex\",\"knobbed\",\"flat\",\"convex\",\"bell\",\"convex\",\"knobbed\",\"flat\",\"convex\",\"flat\",\"flat\",\"knobbed\",\"flat\",\"flat\",\"convex\",\"convex\",\"convex\",\"convex\",\"knobbed\",\"flat\",\"convex\",\"flat\",\"knobbed\",\"convex\",\"flat\",\"convex\",\"knobbed\",\"flat\",\"flat\",\"knobbed\",\"flat\",\"flat\",\"flat\",\"convex\",\"convex\",\"flat\",\"convex\",\"flat\",\"flat\",\"flat\",\"flat\",\"convex\",\"flat\",\"flat\",\"convex\",\"flat\",\"convex\",\"flat\",\"convex\",\"flat\",\"flat\",\"convex\",\"convex\",\"convex\",\"convex\",\"flat\",\"convex\",\"knobbed\",\"flat\",\"convex\",\"bell\",\"convex\",\"flat\",\"convex\",\"flat\",\"flat\",\"bell\",\"convex\",\"flat\",\"convex\",\"convex\",\"convex\",\"flat\",\"convex\",\"flat\",\"convex\",\"flat\",\"convex\",\"convex\",\"flat\",\"convex\",\"knobbed\",\"flat\",\"flat\",\"convex\",\"convex\",\"convex\",\"flat\",\"flat\",\"convex\",\"flat\",\"convex\",\"flat\",\"flat\",\"convex\",\"convex\",\"flat\",\"convex\",\"flat\",\"convex\",\"convex\",\"flat\",\"flat\",\"convex\",\"flat\",\"flat\",\"convex\",\"flat\",\"flat\",\"convex\",\"convex\",\"flat\",\"flat\",\"flat\",\"convex\",\"flat\",\"flat\",\"flat\",\"flat\",\"flat\",\"knobbed\",\"convex\",\"convex\",\"convex\",\"convex\",\"bell\",\"convex\",\"convex\",\"convex\",\"convex\",\"convex\",\"flat\",\"flat\",\"convex\",\"flat\",\"convex\",\"flat\",\"flat\",\"knobbed\",\"knobbed\",\"flat\",\"knobbed\",\"convex\",\"bell\",\"convex\",\"convex\",\"flat\",\"bell\",\"flat\",\"flat\",\"flat\",\"convex\",\"flat\",\"convex\",\"bell\",\"flat\",\"convex\",\"flat\",\"flat\",\"flat\",\"convex\",\"flat\",\"convex\",\"flat\",\"flat\",\"flat\",\"convex\",\"flat\",\"flat\",\"flat\",\"convex\",\"flat\",\"bell\",\"flat\",\"flat\",\"convex\",\"convex\",\"flat\",\"convex\",\"flat\",\"flat\",\"convex\",\"convex\",\"convex\",\"convex\",\"convex\",\"convex\",\"flat\",\"flat\",\"convex\",\"convex\",\"convex\",\"convex\",\"flat\",\"convex\",\"convex\",\"convex\",\"convex\",\"flat\",\"convex\",\"convex\",\"flat\",\"flat\",\"flat\",\"convex\",\"convex\",\"flat\",\"flat\",\"flat\",\"flat\",\"convex\",\"convex\",\"knobbed\",\"flat\",\"convex\",\"knobbed\",\"flat\",\"flat\",\"convex\",\"convex\",\"convex\",\"bell\",\"convex\",\"flat\",\"convex\",\"convex\",\"flat\",\"flat\",\"knobbed\",\"convex\",\"knobbed\",\"flat\",\"convex\",\"convex\",\"flat\",\"convex\",\"convex\",\"flat\",\"convex\",\"convex\",\"flat\",\"knobbed\",\"flat\",\"flat\",\"flat\",\"flat\",\"flat\",\"convex\",\"convex\",\"convex\",\"convex\",\"knobbed\",\"knobbed\",\"convex\",\"convex\",\"flat\",\"convex\",\"conical\",\"flat\",\"flat\",\"convex\",\"convex\",\"convex\",\"convex\",\"flat\",\"flat\",\"convex\",\"convex\",\"convex\",\"convex\",\"convex\",\"knobbed\",\"convex\",\"flat\",\"convex\",\"bell\",\"flat\",\"flat\",\"convex\",\"convex\",\"flat\",\"flat\",\"convex\",\"flat\",\"convex\",\"flat\",\"convex\",\"convex\",\"flat\",\"convex\",\"convex\",\"flat\",\"flat\",\"knobbed\",\"flat\",\"knobbed\",\"knobbed\",\"bell\",\"convex\",\"convex\",\"flat\",\"convex\",\"flat\",\"convex\",\"convex\",\"convex\",\"flat\",\"convex\",\"convex\",\"convex\",\"flat\",\"convex\",\"convex\",\"convex\",\"convex\",\"flat\",\"flat\",\"convex\",\"flat\",\"convex\",\"bell\",\"flat\",\"convex\",\"convex\",\"convex\",\"convex\",\"bell\",\"convex\",\"convex\",\"convex\",\"convex\",\"flat\",\"convex\",\"flat\",\"convex\",\"convex\",\"bell\",\"convex\",\"convex\",\"convex\",\"flat\",\"flat\",\"flat\",\"convex\",\"convex\",\"flat\",\"flat\",\"convex\",\"convex\",\"convex\",\"flat\",\"convex\",\"convex\",\"knobbed\",\"flat\",\"convex\",\"flat\",\"knobbed\",\"flat\",\"flat\",\"flat\",\"flat\",\"convex\",\"convex\",\"convex\",\"flat\",\"bell\",\"convex\",\"flat\",\"convex\",\"flat\",\"knobbed\",\"knobbed\",\"convex\",\"convex\",\"flat\",\"flat\",\"convex\",\"flat\",\"convex\",\"flat\",\"flat\",\"bell\",\"convex\",\"flat\",\"flat\",\"flat\",\"knobbed\",\"flat\",\"knobbed\",\"flat\",\"flat\",\"flat\",\"convex\",\"flat\",\"flat\",\"convex\",\"flat\",\"flat\",\"flat\",\"flat\",\"knobbed\",\"convex\",\"convex\",\"flat\",\"convex\",\"flat\",\"convex\",\"convex\",\"flat\",\"flat\",\"flat\",\"convex\",\"knobbed\",\"flat\",\"knobbed\",\"convex\",\"convex\",\"flat\",\"convex\",\"convex\",\"flat\",\"convex\",\"flat\",\"flat\",\"convex\",\"convex\",\"flat\",\"convex\",\"flat\",\"flat\",\"convex\",\"convex\",\"convex\",\"flat\",\"flat\",\"knobbed\",\"convex\",\"flat\",\"convex\",\"flat\",\"knobbed\",\"convex\",\"convex\",\"flat\",\"flat\",\"convex\",\"flat\",\"flat\",\"flat\",\"flat\",\"flat\",\"bell\",\"knobbed\",\"convex\",\"convex\",\"flat\",\"convex\",\"convex\",\"flat\",\"flat\",\"flat\",\"convex\",\"flat\",\"convex\",\"convex\",\"knobbed\",\"flat\",\"convex\",\"knobbed\",\"convex\",\"convex\",\"flat\",\"flat\",\"flat\",\"bell\",\"flat\",\"flat\",\"convex\",\"flat\",\"convex\",\"flat\",\"convex\",\"knobbed\",\"convex\",\"convex\",\"convex\",\"flat\",\"flat\",\"convex\",\"knobbed\",\"flat\",\"knobbed\",\"flat\",\"convex\",\"flat\",\"convex\",\"knobbed\",\"flat\",\"flat\",\"bell\",\"bell\",\"flat\",\"convex\",\"convex\",\"convex\",\"convex\",\"convex\",\"convex\",\"flat\",\"convex\",\"convex\",\"flat\",\"flat\",\"flat\",\"flat\",\"convex\",\"convex\",\"knobbed\",\"convex\",\"convex\",\"convex\",\"flat\",\"bell\",\"convex\",\"flat\",\"convex\",\"convex\",\"convex\",\"convex\",\"convex\",\"flat\",\"flat\",\"flat\",\"flat\",\"convex\",\"flat\",\"flat\",\"bell\",\"convex\",\"convex\",\"convex\",\"bell\",\"flat\",\"flat\",\"flat\",\"flat\",\"convex\",\"convex\",\"convex\",\"convex\",\"flat\",\"flat\",\"flat\",\"convex\",\"flat\",\"flat\",\"convex\",\"flat\",\"convex\",\"flat\",\"flat\",\"flat\",\"flat\",\"convex\",\"knobbed\",\"convex\",\"flat\",\"convex\",\"convex\",\"flat\",\"convex\",\"flat\",\"flat\",\"flat\",\"flat\",\"flat\",\"knobbed\",\"flat\",\"convex\",\"convex\",\"flat\",\"flat\",\"convex\",\"flat\",\"convex\",\"convex\",\"flat\",\"convex\",\"flat\",\"convex\",\"flat\",\"flat\",\"convex\",\"flat\",\"convex\",\"flat\",\"flat\",\"knobbed\",\"convex\",\"convex\",\"flat\",\"bell\",\"convex\",\"bell\",\"flat\",\"convex\",\"convex\",\"knobbed\",\"convex\",\"convex\",\"flat\",\"flat\",\"convex\",\"flat\",\"convex\",\"flat\",\"convex\",\"convex\",\"flat\",\"convex\",\"convex\",\"flat\",\"convex\",\"convex\",\"flat\",\"convex\",\"convex\",\"flat\",\"convex\",\"convex\",\"bell\",\"knobbed\",\"convex\",\"flat\",\"convex\",\"convex\",\"flat\",\"flat\",\"flat\",\"convex\",\"flat\",\"knobbed\",\"convex\",\"convex\",\"flat\",\"flat\",\"flat\",\"flat\",\"convex\",\"flat\",\"flat\",\"convex\",\"flat\",\"convex\",\"convex\",\"convex\",\"convex\",\"flat\",\"convex\",\"convex\",\"flat\",\"knobbed\",\"convex\",\"flat\",\"flat\",\"convex\",\"convex\",\"flat\",\"flat\",\"convex\",\"flat\",\"flat\",\"flat\",\"flat\",\"flat\",\"bell\",\"convex\",\"bell\",\"convex\",\"convex\",\"convex\",\"convex\",\"flat\",\"bell\",\"convex\",\"flat\",\"knobbed\",\"flat\",\"bell\",\"convex\",\"convex\",\"convex\",\"convex\",\"flat\",\"convex\",\"bell\",\"flat\",\"convex\",\"convex\",\"flat\",\"flat\",\"knobbed\",\"flat\",\"bell\",\"convex\",\"flat\",\"convex\",\"convex\",\"convex\",\"convex\",\"flat\",\"flat\",\"knobbed\",\"flat\",\"convex\",\"flat\",\"flat\",\"convex\",\"convex\",\"convex\",\"flat\",\"convex\",\"flat\",\"convex\",\"knobbed\",\"flat\",\"convex\",\"flat\",\"flat\",\"flat\",\"flat\",\"flat\",\"flat\",\"convex\",\"flat\",\"flat\",\"flat\",\"convex\",\"flat\",\"convex\",\"bell\",\"flat\",\"convex\",\"convex\",\"knobbed\",\"convex\",\"flat\",\"flat\",\"convex\",\"flat\",\"convex\",\"convex\",\"flat\",\"flat\",\"knobbed\",\"flat\",\"convex\",\"flat\",\"flat\",\"convex\",\"convex\",\"flat\",\"flat\",\"flat\",\"flat\",\"flat\",\"convex\",\"knobbed\",\"convex\",\"flat\",\"flat\",\"knobbed\",\"flat\",\"convex\",\"flat\",\"flat\",\"flat\",\"flat\",\"flat\",\"flat\",\"convex\",\"flat\",\"convex\",\"flat\",\"convex\",\"flat\",\"bell\",\"flat\",\"convex\",\"flat\",\"flat\",\"flat\",\"flat\",\"convex\",\"convex\",\"flat\",\"flat\",\"flat\",\"flat\",\"flat\",\"flat\",\"flat\",\"convex\",\"convex\",\"flat\",\"flat\",\"convex\",\"knobbed\",\"knobbed\",\"flat\",\"convex\",\"convex\",\"flat\",\"flat\",\"flat\",\"convex\",\"convex\",\"flat\",\"convex\",\"convex\",\"flat\",\"flat\",\"convex\",\"convex\",\"flat\",\"knobbed\",\"flat\",\"convex\",\"flat\",\"convex\",\"flat\",\"flat\",\"knobbed\",\"flat\",\"flat\",\"convex\",\"flat\",\"flat\",\"flat\",\"flat\",\"flat\",\"flat\",\"flat\",\"flat\",\"convex\",\"flat\",\"convex\",\"flat\",\"convex\",\"flat\",\"flat\",\"convex\",\"flat\",\"flat\",\"convex\",\"flat\",\"flat\",\"convex\",\"flat\",\"convex\",\"convex\",\"flat\",\"flat\",\"convex\",\"convex\",\"convex\",\"convex\",\"knobbed\",\"convex\",\"convex\",\"flat\",\"convex\",\"flat\",\"flat\",\"flat\",\"convex\",\"convex\",\"convex\",\"convex\",\"flat\",\"flat\",\"flat\",\"convex\",\"knobbed\",\"flat\",\"flat\",\"convex\",\"flat\",\"flat\",\"flat\",\"bell\",\"convex\",\"convex\",\"flat\",\"flat\",\"knobbed\",\"convex\",\"flat\",\"convex\",\"flat\",\"convex\",\"convex\",\"convex\",\"knobbed\",\"convex\",\"convex\",\"convex\",\"convex\",\"convex\",\"convex\",\"convex\",\"flat\",\"convex\",\"flat\",\"convex\",\"flat\",\"convex\",\"flat\",\"convex\",\"knobbed\",\"flat\",\"flat\",\"flat\",\"knobbed\",\"flat\",\"flat\",\"convex\",\"flat\",\"flat\",\"flat\",\"flat\",\"convex\",\"convex\",\"flat\",\"knobbed\",\"flat\",\"knobbed\",\"convex\",\"convex\",\"convex\",\"flat\",\"convex\",\"bell\",\"convex\",\"convex\",\"flat\",\"convex\",\"flat\",\"flat\",\"convex\",\"flat\",\"knobbed\",\"flat\",\"convex\",\"flat\",\"flat\",\"convex\",\"flat\",\"flat\",\"flat\",\"convex\",\"flat\",\"bell\",\"knobbed\",\"convex\",\"knobbed\",\"convex\",\"knobbed\",\"flat\",\"convex\",\"knobbed\",\"knobbed\",\"knobbed\",\"convex\",\"flat\",\"flat\",\"convex\",\"flat\",\"convex\",\"flat\",\"convex\",\"knobbed\",\"flat\",\"convex\",\"flat\",\"flat\",\"convex\",\"flat\",\"flat\",\"convex\",\"convex\",\"flat\",\"flat\",\"flat\",\"convex\",\"flat\",\"convex\",\"flat\",\"knobbed\",\"convex\",\"flat\",\"convex\",\"flat\",\"convex\",\"flat\",\"flat\",\"flat\",\"knobbed\",\"convex\",\"knobbed\",\"convex\",\"flat\",\"flat\",\"flat\",\"flat\",\"convex\",\"convex\",\"convex\",\"convex\",\"flat\",\"convex\",\"convex\",\"flat\",\"knobbed\",\"convex\",\"convex\",\"convex\",\"bell\",\"flat\",\"convex\",\"convex\",\"flat\",\"flat\",\"flat\",\"flat\",\"flat\",\"convex\",\"flat\",\"convex\",\"flat\",\"convex\",\"flat\",\"convex\",\"flat\",\"convex\",\"flat\",\"flat\",\"convex\",\"flat\",\"knobbed\",\"convex\",\"convex\",\"knobbed\",\"convex\",\"convex\",\"flat\",\"flat\",\"flat\",\"flat\",\"flat\",\"flat\",\"knobbed\",\"convex\",\"flat\",\"flat\",\"knobbed\",\"flat\",\"convex\",\"convex\",\"convex\",\"flat\",\"flat\",\"flat\",\"knobbed\",\"convex\",\"convex\",\"convex\",\"flat\",\"knobbed\",\"convex\",\"flat\",\"convex\",\"convex\",\"convex\",\"flat\",\"flat\",\"convex\",\"convex\",\"flat\",\"flat\",\"flat\",\"flat\",\"convex\",\"convex\",\"flat\",\"flat\",\"convex\",\"flat\",\"flat\",\"flat\",\"convex\",\"flat\",\"flat\",\"convex\",\"flat\",\"convex\",\"convex\",\"flat\",\"flat\",\"convex\",\"flat\",\"flat\",\"flat\",\"convex\",\"knobbed\",\"convex\",\"flat\",\"flat\",\"flat\",\"flat\",\"flat\",\"flat\",\"flat\",\"bell\",\"flat\",\"flat\",\"convex\",\"flat\",\"flat\",\"flat\",\"flat\",\"flat\",\"knobbed\",\"flat\",\"flat\",\"convex\",\"flat\",\"convex\",\"knobbed\",\"convex\",\"convex\",\"flat\",\"flat\",\"flat\",\"convex\",\"flat\",\"flat\",\"convex\",\"flat\",\"convex\",\"convex\",\"knobbed\",\"flat\",\"flat\",\"bell\",\"flat\",\"convex\",\"convex\",\"flat\",\"convex\",\"flat\",\"flat\",\"flat\",\"convex\",\"flat\",\"flat\",\"convex\",\"flat\",\"flat\",\"flat\",\"convex\",\"flat\",\"convex\",\"flat\",\"flat\",\"flat\",\"convex\",\"convex\",\"convex\",\"convex\",\"convex\",\"flat\",\"convex\",\"flat\",\"convex\",\"flat\",\"flat\",\"convex\",\"convex\",\"convex\",\"convex\",\"convex\",\"flat\",\"flat\",\"knobbed\",\"convex\",\"flat\",\"knobbed\",\"flat\",\"convex\",\"flat\",\"flat\",\"flat\",\"convex\",\"flat\",\"convex\",\"knobbed\",\"flat\",\"flat\",\"flat\",\"flat\",\"flat\",\"flat\",\"knobbed\",\"knobbed\",\"flat\",\"convex\",\"knobbed\",\"convex\",\"flat\",\"convex\",\"flat\",\"convex\",\"flat\",\"convex\",\"convex\",\"convex\",\"convex\",\"convex\",\"flat\",\"flat\",\"convex\",\"flat\",\"flat\",\"flat\",\"flat\",\"flat\",\"convex\",\"flat\",\"flat\",\"flat\",\"flat\",\"flat\",\"flat\",\"flat\",\"flat\",\"flat\",\"flat\",\"flat\",\"knobbed\",\"flat\",\"flat\",\"flat\",\"flat\",\"flat\",\"flat\",\"convex\",\"convex\",\"convex\",\"convex\",\"flat\",\"convex\",\"convex\",\"convex\",\"convex\",\"convex\",\"flat\",\"flat\",\"convex\",\"convex\",\"knobbed\",\"knobbed\",\"flat\",\"convex\",\"flat\",\"convex\",\"flat\",\"convex\",\"knobbed\",\"knobbed\",\"flat\",\"convex\",\"convex\",\"convex\",\"flat\",\"flat\",\"convex\",\"flat\",\"convex\",\"convex\",\"flat\",\"flat\",\"flat\",\"flat\",\"flat\",\"flat\",\"flat\",\"convex\",\"knobbed\",\"flat\",\"flat\",\"flat\",\"flat\",\"knobbed\",\"flat\",\"flat\",\"convex\",\"convex\",\"knobbed\",\"flat\",\"flat\",\"convex\",\"flat\",\"flat\",\"flat\",\"flat\",\"convex\",\"convex\",\"convex\",\"convex\",\"flat\",\"convex\",\"knobbed\",\"convex\",\"flat\",\"flat\",\"convex\",\"knobbed\",\"convex\",\"flat\",\"flat\",\"flat\",\"flat\",\"flat\",\"knobbed\",\"flat\",\"flat\",\"flat\",\"convex\",\"flat\",\"flat\",\"convex\",\"flat\",\"convex\",\"flat\",\"flat\",\"flat\",\"convex\",\"knobbed\",\"convex\",\"convex\",\"convex\",\"flat\",\"knobbed\",\"convex\",\"convex\",\"knobbed\",\"convex\",\"knobbed\",\"convex\",\"convex\",\"flat\",\"flat\",\"flat\",\"flat\",\"convex\",\"convex\",\"flat\",\"flat\",\"convex\",\"convex\",\"convex\",\"flat\",\"convex\",\"convex\",\"convex\",\"convex\",\"convex\",\"convex\",\"flat\",\"flat\",\"convex\",\"convex\",\"flat\",\"convex\",\"flat\",\"knobbed\",\"convex\",\"flat\",\"knobbed\",\"flat\",\"flat\",\"convex\",\"convex\",\"flat\",\"flat\",\"convex\",\"flat\",\"convex\",\"flat\",\"flat\",\"convex\",\"flat\",\"knobbed\",\"convex\",\"convex\",\"flat\",\"flat\",\"bell\",\"convex\",\"knobbed\",\"bell\",\"flat\",\"flat\",\"convex\",\"convex\",\"knobbed\",\"convex\",\"flat\",\"convex\",\"convex\",\"convex\",\"flat\",\"flat\",\"flat\",\"flat\",\"convex\",\"flat\",\"flat\",\"convex\",\"flat\",\"flat\",\"flat\",\"convex\",\"convex\",\"knobbed\",\"convex\",\"convex\",\"convex\",\"convex\",\"flat\",\"flat\",\"convex\",\"knobbed\",\"flat\",\"flat\",\"flat\",\"flat\",\"flat\",\"convex\",\"flat\",\"flat\",\"flat\",\"convex\",\"flat\",\"knobbed\",\"flat\",\"flat\",\"flat\",\"convex\",\"flat\",\"convex\",\"flat\",\"convex\",\"flat\",\"flat\",\"convex\",\"convex\",\"flat\",\"convex\",\"convex\",\"flat\",\"convex\",\"convex\",\"convex\",\"flat\",\"convex\",\"flat\",\"convex\",\"convex\",\"flat\",\"convex\",\"flat\",\"convex\",\"flat\",\"convex\",\"knobbed\",\"flat\",\"convex\",\"flat\",\"convex\",\"flat\",\"convex\",\"convex\",\"flat\",\"flat\",\"convex\",\"convex\",\"convex\",\"flat\",\"bell\",\"flat\",\"flat\",\"flat\",\"flat\",\"flat\",\"convex\",\"flat\",\"convex\",\"flat\",\"knobbed\",\"bell\",\"flat\",\"convex\",\"flat\",\"flat\",\"flat\",\"flat\",\"flat\",\"flat\",\"flat\",\"convex\",\"convex\",\"flat\",\"convex\",\"convex\",\"convex\",\"convex\",\"knobbed\",\"flat\",\"convex\",\"flat\",\"flat\",\"convex\",\"convex\",\"convex\",\"flat\",\"flat\",\"flat\",\"convex\",\"flat\",\"flat\",\"flat\",\"convex\",\"flat\",\"flat\",\"flat\",\"knobbed\",\"flat\",\"convex\",\"convex\",\"flat\",\"convex\",\"flat\",\"flat\",\"flat\",\"convex\",\"convex\",\"flat\",\"flat\",\"convex\",\"flat\",\"flat\",\"flat\",\"flat\",\"flat\",\"knobbed\",\"flat\",\"flat\",\"flat\",\"flat\",\"convex\",\"knobbed\",\"convex\",\"convex\",\"convex\",\"knobbed\",\"convex\",\"flat\",\"flat\",\"convex\",\"flat\",\"flat\",\"flat\",\"flat\",\"flat\",\"convex\",\"flat\",\"convex\",\"flat\",\"flat\",\"knobbed\",\"flat\",\"knobbed\",\"flat\",\"flat\",\"flat\",\"bell\",\"convex\",\"flat\",\"flat\",\"flat\",\"flat\",\"knobbed\",\"convex\",\"flat\",\"knobbed\",\"flat\",\"knobbed\",\"flat\",\"flat\",\"flat\",\"flat\",\"flat\",\"flat\",\"convex\",\"flat\",\"convex\",\"convex\",\"convex\",\"flat\",\"convex\",\"convex\",\"flat\",\"convex\",\"flat\",\"convex\",\"flat\",\"flat\",\"flat\",\"flat\",\"convex\",\"knobbed\",\"convex\",\"knobbed\",\"knobbed\",\"convex\",\"flat\",\"flat\",\"flat\",\"convex\",\"flat\",\"flat\",\"convex\",\"convex\",\"flat\",\"convex\",\"flat\",\"convex\",\"knobbed\",\"flat\",\"knobbed\",\"convex\",\"bell\",\"knobbed\",\"convex\",\"convex\",\"knobbed\",\"convex\",\"knobbed\",\"bell\",\"convex\",\"bell\",\"knobbed\",\"knobbed\",\"flat\",\"flat\",\"flat\",\"knobbed\",\"knobbed\",\"knobbed\",\"flat\",\"bell\",\"flat\",\"flat\",\"flat\",\"convex\",\"flat\",\"knobbed\",\"flat\",\"bell\",\"convex\",\"flat\",\"flat\",\"knobbed\",\"convex\",\"bell\",\"knobbed\",\"flat\",\"flat\",\"knobbed\",\"knobbed\",\"flat\",\"flat\",\"convex\",\"knobbed\",\"convex\",\"knobbed\",\"knobbed\",\"flat\",\"convex\",\"knobbed\",\"flat\",\"knobbed\",\"knobbed\",\"knobbed\",\"knobbed\",\"knobbed\",\"knobbed\",\"knobbed\",\"knobbed\",\"convex\",\"convex\",\"flat\",\"knobbed\",\"bell\",\"flat\",\"knobbed\",\"convex\",\"flat\",\"knobbed\",\"flat\",\"convex\",\"knobbed\",\"flat\",\"convex\",\"convex\",\"flat\",\"knobbed\",\"knobbed\",\"knobbed\",\"convex\",\"bell\",\"knobbed\",\"convex\",\"convex\",\"flat\",\"bell\",\"knobbed\",\"knobbed\",\"knobbed\",\"flat\",\"knobbed\",\"flat\",\"knobbed\",\"knobbed\",\"convex\",\"knobbed\",\"knobbed\",\"knobbed\",\"knobbed\",\"convex\",\"knobbed\",\"knobbed\",\"knobbed\",\"convex\",\"knobbed\",\"convex\",\"knobbed\",\"bell\",\"knobbed\",\"flat\",\"flat\",\"knobbed\",\"convex\",\"flat\",\"convex\",\"convex\",\"knobbed\",\"flat\",\"flat\",\"knobbed\",\"convex\",\"knobbed\",\"convex\",\"knobbed\",\"convex\",\"convex\",\"knobbed\",\"convex\",\"knobbed\",\"knobbed\",\"knobbed\",\"convex\",\"convex\",\"convex\",\"knobbed\",\"knobbed\",\"convex\",\"flat\",\"knobbed\",\"knobbed\",\"flat\",\"flat\",\"knobbed\",\"flat\",\"flat\",\"knobbed\",\"knobbed\",\"bell\",\"knobbed\",\"convex\",\"bell\",\"knobbed\",\"knobbed\",\"knobbed\",\"flat\",\"convex\",\"convex\",\"convex\",\"knobbed\",\"convex\",\"flat\",\"convex\",\"knobbed\",\"knobbed\",\"knobbed\",\"flat\",\"knobbed\",\"knobbed\",\"flat\",\"flat\",\"flat\",\"knobbed\",\"convex\",\"flat\",\"convex\",\"flat\",\"flat\",\"convex\",\"convex\",\"convex\",\"knobbed\",\"convex\",\"bell\",\"knobbed\",\"knobbed\",\"knobbed\",\"flat\",\"flat\",\"knobbed\",\"flat\",\"knobbed\",\"knobbed\",\"knobbed\",\"knobbed\",\"convex\",\"knobbed\",\"convex\",\"knobbed\",\"knobbed\",\"bell\",\"knobbed\",\"convex\",\"flat\",\"flat\",\"knobbed\",\"knobbed\",\"bell\",\"knobbed\",\"flat\",\"knobbed\",\"knobbed\",\"convex\",\"convex\",\"flat\",\"knobbed\",\"knobbed\",\"convex\",\"knobbed\",\"convex\",\"knobbed\",\"flat\",\"knobbed\",\"knobbed\",\"flat\",\"flat\",\"flat\",\"knobbed\",\"knobbed\",\"knobbed\",\"bell\",\"knobbed\",\"convex\",\"convex\",\"knobbed\",\"flat\",\"knobbed\",\"knobbed\",\"bell\",\"flat\",\"bell\",\"convex\",\"convex\",\"flat\",\"flat\",\"convex\",\"flat\",\"flat\",\"flat\",\"convex\",\"knobbed\",\"convex\",\"knobbed\",\"knobbed\",\"convex\",\"bell\",\"convex\",\"flat\",\"knobbed\",\"bell\",\"convex\",\"flat\",\"flat\",\"flat\",\"bell\",\"flat\",\"knobbed\",\"knobbed\",\"knobbed\",\"convex\",\"bell\",\"knobbed\",\"flat\",\"convex\",\"knobbed\",\"knobbed\",\"knobbed\",\"knobbed\",\"flat\",\"flat\",\"bell\",\"knobbed\",\"bell\",\"knobbed\",\"knobbed\",\"convex\",\"convex\",\"convex\",\"flat\",\"flat\",\"convex\",\"knobbed\",\"knobbed\",\"flat\",\"knobbed\",\"flat\",\"flat\",\"knobbed\",\"knobbed\",\"bell\",\"knobbed\",\"convex\",\"knobbed\",\"knobbed\",\"knobbed\",\"knobbed\",\"convex\",\"knobbed\",\"convex\",\"knobbed\",\"knobbed\",\"knobbed\",\"knobbed\",\"knobbed\",\"knobbed\",\"knobbed\",\"knobbed\",\"convex\",\"flat\",\"knobbed\",\"convex\",\"knobbed\",\"knobbed\",\"convex\",\"knobbed\",\"flat\",\"knobbed\",\"flat\",\"bell\",\"flat\",\"bell\",\"bell\",\"knobbed\",\"bell\",\"knobbed\",\"knobbed\",\"flat\",\"knobbed\",\"flat\",\"knobbed\",\"knobbed\",\"bell\",\"knobbed\",\"bell\",\"knobbed\",\"knobbed\",\"knobbed\",\"knobbed\",\"flat\",\"knobbed\",\"convex\",\"knobbed\",\"knobbed\",\"knobbed\",\"knobbed\",\"knobbed\",\"flat\",\"convex\",\"knobbed\",\"flat\",\"convex\",\"knobbed\",\"flat\",\"bell\",\"knobbed\",\"convex\",\"knobbed\",\"knobbed\",\"knobbed\",\"knobbed\",\"knobbed\",\"knobbed\",\"knobbed\",\"knobbed\",\"knobbed\",\"bell\",\"knobbed\",\"convex\",\"bell\",\"knobbed\",\"knobbed\",\"convex\",\"convex\",\"knobbed\",\"knobbed\",\"knobbed\",\"knobbed\",\"knobbed\",\"knobbed\",\"flat\",\"knobbed\",\"flat\",\"knobbed\",\"knobbed\",\"knobbed\",\"knobbed\",\"bell\",\"convex\",\"knobbed\",\"flat\",\"knobbed\",\"knobbed\",\"bell\",\"flat\",\"knobbed\",\"knobbed\",\"convex\",\"knobbed\",\"convex\",\"knobbed\",\"knobbed\",\"convex\",\"convex\",\"knobbed\",\"knobbed\",\"knobbed\",\"bell\",\"flat\",\"knobbed\",\"knobbed\",\"convex\",\"knobbed\",\"flat\",\"convex\",\"flat\",\"bell\",\"bell\",\"knobbed\",\"knobbed\",\"knobbed\",\"knobbed\",\"bell\",\"knobbed\",\"flat\",\"knobbed\",\"knobbed\",\"flat\",\"convex\",\"knobbed\",\"knobbed\",\"knobbed\",\"knobbed\",\"flat\",\"bell\",\"flat\",\"knobbed\",\"knobbed\",\"convex\",\"knobbed\",\"knobbed\",\"flat\",\"bell\",\"flat\",\"flat\",\"knobbed\",\"knobbed\",\"convex\",\"convex\",\"knobbed\",\"knobbed\",\"knobbed\",\"knobbed\",\"convex\",\"knobbed\",\"flat\",\"convex\",\"convex\",\"convex\",\"knobbed\",\"knobbed\",\"bell\",\"knobbed\",\"convex\",\"bell\",\"flat\",\"knobbed\",\"flat\",\"knobbed\",\"flat\",\"knobbed\",\"knobbed\",\"knobbed\",\"bell\",\"knobbed\",\"knobbed\",\"knobbed\",\"knobbed\",\"bell\",\"convex\",\"knobbed\",\"knobbed\",\"knobbed\",\"knobbed\",\"knobbed\",\"knobbed\",\"bell\",\"knobbed\",\"bell\",\"conical\",\"convex\",\"knobbed\",\"convex\",\"bell\",\"knobbed\",\"bell\",\"knobbed\",\"knobbed\",\"knobbed\",\"bell\",\"knobbed\",\"bell\",\"convex\",\"convex\",\"convex\",\"knobbed\",\"knobbed\",\"knobbed\",\"knobbed\",\"knobbed\",\"flat\",\"knobbed\",\"knobbed\",\"flat\",\"knobbed\",\"knobbed\",\"knobbed\",\"flat\",\"knobbed\",\"knobbed\",\"convex\",\"flat\",\"knobbed\",\"knobbed\",\"knobbed\",\"flat\",\"knobbed\",\"convex\",\"knobbed\",\"flat\",\"knobbed\",\"flat\",\"convex\",\"knobbed\",\"bell\",\"knobbed\",\"knobbed\",\"knobbed\",\"convex\",\"knobbed\",\"knobbed\",\"knobbed\",\"flat\",\"flat\",\"flat\",\"knobbed\",\"knobbed\",\"bell\",\"convex\",\"knobbed\",\"knobbed\",\"convex\",\"knobbed\",\"knobbed\",\"knobbed\",\"bell\",\"bell\",\"convex\",\"knobbed\",\"knobbed\",\"knobbed\",\"knobbed\",\"knobbed\",\"knobbed\",\"convex\",\"knobbed\",\"knobbed\",\"bell\",\"knobbed\",\"flat\",\"knobbed\",\"flat\",\"knobbed\",\"flat\",\"convex\",\"knobbed\",\"knobbed\",\"flat\",\"flat\",\"knobbed\",\"flat\",\"knobbed\",\"flat\",\"knobbed\",\"convex\",\"knobbed\",\"convex\",\"convex\",\"convex\",\"knobbed\",\"knobbed\",\"knobbed\",\"knobbed\",\"knobbed\",\"knobbed\",\"knobbed\",\"knobbed\",\"knobbed\",\"flat\",\"flat\",\"knobbed\",\"convex\",\"convex\",\"knobbed\",\"convex\",\"knobbed\",\"knobbed\",\"knobbed\",\"knobbed\",\"knobbed\",\"bell\",\"flat\",\"bell\",\"knobbed\",\"convex\",\"knobbed\",\"bell\",\"bell\",\"convex\",\"convex\",\"convex\",\"convex\",\"knobbed\",\"convex\",\"flat\",\"convex\",\"knobbed\",\"knobbed\",\"convex\",\"knobbed\",\"bell\",\"knobbed\",\"knobbed\",\"flat\",\"knobbed\",\"knobbed\",\"flat\",\"knobbed\",\"bell\",\"knobbed\",\"knobbed\",\"knobbed\",\"knobbed\",\"flat\",\"knobbed\",\"knobbed\",\"convex\",\"convex\",\"convex\",\"convex\",\"knobbed\",\"knobbed\",\"convex\",\"knobbed\",\"convex\",\"knobbed\",\"flat\",\"knobbed\",\"knobbed\",\"knobbed\",\"knobbed\",\"bell\",\"knobbed\",\"knobbed\",\"knobbed\",\"knobbed\",\"knobbed\",\"knobbed\",\"knobbed\",\"knobbed\",\"knobbed\",\"knobbed\",\"bell\",\"convex\",\"bell\",\"knobbed\",\"knobbed\",\"knobbed\",\"bell\",\"flat\",\"knobbed\",\"knobbed\",\"knobbed\",\"knobbed\",\"knobbed\",\"convex\",\"knobbed\",\"knobbed\",\"bell\",\"knobbed\",\"convex\",\"knobbed\",\"knobbed\",\"knobbed\",\"knobbed\",\"knobbed\",\"knobbed\",\"convex\",\"bell\",\"knobbed\",\"bell\",\"knobbed\",\"knobbed\",\"bell\",\"knobbed\",\"bell\",\"flat\",\"knobbed\",\"knobbed\",\"knobbed\",\"bell\",\"knobbed\",\"knobbed\",\"flat\",\"convex\",\"convex\",\"knobbed\",\"knobbed\",\"knobbed\",\"bell\",\"convex\",\"flat\",\"knobbed\",\"convex\",\"flat\",\"knobbed\",\"convex\",\"knobbed\",\"bell\",\"bell\",\"knobbed\",\"knobbed\",\"convex\",\"knobbed\",\"flat\",\"knobbed\",\"flat\",\"bell\",\"knobbed\",\"bell\",\"flat\",\"knobbed\",\"knobbed\",\"knobbed\",\"flat\",\"convex\",\"flat\",\"knobbed\",\"knobbed\",\"convex\",\"bell\",\"knobbed\",\"bell\",\"flat\",\"knobbed\",\"knobbed\",\"knobbed\",\"knobbed\",\"knobbed\",\"convex\",\"knobbed\",\"flat\",\"bell\",\"knobbed\",\"knobbed\",\"knobbed\",\"bell\",\"knobbed\",\"bell\",\"knobbed\",\"convex\",\"knobbed\",\"knobbed\",\"convex\",\"knobbed\",\"knobbed\",\"knobbed\",\"knobbed\",\"knobbed\",\"knobbed\",\"knobbed\",\"knobbed\",\"knobbed\",\"knobbed\",\"knobbed\",\"knobbed\",\"knobbed\",\"bell\",\"knobbed\",\"flat\",\"flat\",\"knobbed\",\"flat\",\"convex\",\"conical\",\"knobbed\",\"knobbed\",\"knobbed\",\"bell\",\"knobbed\",\"convex\",\"convex\",\"convex\",\"flat\",\"knobbed\",\"bell\",\"flat\",\"knobbed\",\"bell\",\"convex\",\"flat\",\"knobbed\",\"bell\",\"convex\",\"knobbed\",\"convex\",\"knobbed\",\"convex\",\"knobbed\",\"convex\",\"knobbed\",\"knobbed\",\"knobbed\",\"knobbed\",\"bell\",\"knobbed\",\"knobbed\",\"knobbed\",\"knobbed\",\"convex\",\"knobbed\",\"knobbed\",\"knobbed\",\"flat\",\"convex\",\"bell\",\"convex\",\"knobbed\",\"knobbed\",\"knobbed\",\"knobbed\",\"convex\",\"knobbed\",\"knobbed\",\"knobbed\",\"knobbed\",\"knobbed\",\"bell\",\"knobbed\",\"convex\",\"convex\",\"bell\",\"knobbed\",\"convex\",\"knobbed\",\"knobbed\",\"knobbed\",\"bell\",\"knobbed\",\"knobbed\",\"bell\",\"knobbed\",\"convex\",\"knobbed\",\"convex\",\"convex\",\"knobbed\",\"knobbed\",\"knobbed\",\"knobbed\",\"bell\",\"bell\",\"knobbed\",\"knobbed\",\"flat\",\"flat\",\"flat\",\"knobbed\",\"knobbed\",\"bell\",\"knobbed\",\"knobbed\",\"knobbed\",\"knobbed\",\"knobbed\",\"convex\",\"knobbed\",\"knobbed\",\"knobbed\",\"flat\",\"convex\",\"knobbed\",\"knobbed\",\"convex\",\"flat\",\"knobbed\",\"knobbed\",\"bell\",\"bell\",\"convex\",\"knobbed\",\"flat\",\"convex\",\"knobbed\",\"knobbed\",\"convex\",\"bell\",\"knobbed\",\"knobbed\",\"knobbed\",\"knobbed\",\"convex\",\"knobbed\",\"bell\",\"knobbed\",\"knobbed\",\"bell\",\"flat\",\"knobbed\",\"flat\",\"knobbed\",\"bell\",\"knobbed\",\"knobbed\",\"flat\",\"knobbed\",\"bell\",\"knobbed\",\"flat\",\"knobbed\",\"convex\",\"convex\",\"knobbed\",\"convex\",\"knobbed\",\"convex\",\"knobbed\",\"knobbed\",\"knobbed\",\"knobbed\",\"knobbed\",\"knobbed\",\"convex\",\"knobbed\",\"knobbed\",\"knobbed\",\"convex\",\"convex\",\"bell\",\"knobbed\",\"knobbed\",\"knobbed\",\"convex\",\"knobbed\",\"convex\",\"convex\",\"knobbed\",\"knobbed\",\"knobbed\",\"bell\",\"knobbed\",\"knobbed\",\"knobbed\",\"knobbed\",\"knobbed\",\"convex\",\"knobbed\",\"knobbed\",\"knobbed\",\"knobbed\",\"convex\",\"flat\",\"knobbed\",\"knobbed\",\"flat\",\"convex\",\"knobbed\",\"knobbed\",\"bell\",\"knobbed\",\"knobbed\",\"convex\",\"convex\",\"convex\",\"flat\",\"flat\",\"flat\",\"knobbed\",\"convex\",\"knobbed\",\"knobbed\",\"convex\",\"convex\",\"flat\",\"convex\",\"bell\",\"knobbed\",\"convex\",\"flat\",\"convex\",\"bell\",\"bell\",\"knobbed\",\"flat\",\"convex\",\"knobbed\",\"convex\",\"flat\",\"knobbed\",\"knobbed\",\"knobbed\",\"knobbed\",\"knobbed\",\"knobbed\",\"knobbed\",\"knobbed\",\"knobbed\",\"knobbed\",\"knobbed\",\"flat\",\"knobbed\",\"convex\",\"knobbed\",\"knobbed\",\"knobbed\",\"bell\",\"knobbed\",\"bell\",\"flat\",\"knobbed\",\"convex\",\"knobbed\",\"knobbed\",\"knobbed\",\"convex\",\"knobbed\",\"knobbed\",\"knobbed\",\"knobbed\",\"knobbed\",\"flat\",\"convex\",\"bell\",\"knobbed\",\"flat\",\"knobbed\",\"knobbed\",\"knobbed\",\"bell\",\"knobbed\",\"knobbed\",\"knobbed\",\"convex\",\"convex\",\"bell\",\"flat\",\"knobbed\",\"knobbed\",\"convex\",\"convex\",\"bell\",\"convex\",\"bell\",\"bell\",\"bell\",\"knobbed\",\"knobbed\",\"knobbed\",\"knobbed\",\"knobbed\",\"knobbed\",\"convex\",\"flat\",\"knobbed\",\"bell\",\"convex\",\"bell\",\"flat\",\"knobbed\",\"knobbed\",\"knobbed\",\"knobbed\",\"convex\",\"knobbed\",\"flat\",\"knobbed\",\"knobbed\",\"knobbed\",\"bell\",\"convex\",\"convex\",\"flat\",\"flat\",\"convex\",\"knobbed\",\"knobbed\",\"knobbed\",\"bell\",\"convex\",\"flat\",\"knobbed\",\"bell\",\"knobbed\",\"knobbed\",\"knobbed\",\"bell\",\"convex\",\"bell\",\"knobbed\",\"flat\",\"flat\",\"knobbed\",\"knobbed\",\"convex\",\"flat\",\"knobbed\",\"knobbed\",\"convex\",\"knobbed\",\"knobbed\",\"convex\",\"knobbed\",\"knobbed\",\"bell\",\"knobbed\",\"knobbed\",\"convex\",\"knobbed\",\"bell\",\"knobbed\",\"convex\",\"flat\",\"flat\",\"knobbed\",\"bell\",\"knobbed\",\"knobbed\",\"knobbed\",\"knobbed\",\"convex\",\"flat\",\"knobbed\",\"convex\",\"bell\",\"bell\",\"convex\",\"knobbed\",\"knobbed\",\"knobbed\",\"knobbed\",\"knobbed\",\"knobbed\",\"knobbed\",\"knobbed\",\"knobbed\",\"bell\",\"flat\",\"knobbed\",\"knobbed\",\"knobbed\",\"knobbed\",\"knobbed\",\"bell\",\"flat\",\"bell\",\"flat\",\"bell\",\"knobbed\",\"knobbed\",\"knobbed\",\"knobbed\",\"knobbed\",\"bell\",\"knobbed\",\"knobbed\",\"convex\",\"knobbed\",\"knobbed\",\"knobbed\",\"knobbed\",\"knobbed\",\"convex\",\"bell\",\"convex\",\"knobbed\",\"knobbed\",\"knobbed\",\"knobbed\",\"flat\",\"knobbed\",\"convex\",\"knobbed\",\"knobbed\",\"knobbed\",\"knobbed\",\"convex\",\"knobbed\",\"bell\",\"convex\",\"knobbed\",\"knobbed\",\"knobbed\",\"flat\",\"convex\",\"knobbed\",\"knobbed\",\"knobbed\",\"knobbed\",\"convex\",\"flat\",\"knobbed\",\"convex\"],\"xaxis\":\"x\",\"yaxis\":\"y\",\"type\":\"histogram\"},{\"alignmentgroup\":\"True\",\"bingroup\":\"x\",\"histnorm\":\"probability density\",\"hovertemplate\":\"<b>Synthetic</b><br>Frequency: %{y}<extra></extra>\",\"legendgroup\":\"Synthetic\",\"marker\":{\"color\":\"#01E0C9\",\"pattern\":{\"shape\":\"/\"}},\"name\":\"Synthetic\",\"offsetgroup\":\"Synthetic\",\"orientation\":\"v\",\"showlegend\":true,\"x\":[\"bell\",\"knobbed\",\"convex\",\"convex\",\"convex\",\"convex\",\"flat\",\"convex\",\"convex\",\"convex\",\"convex\",\"sunken\",\"sunken\",\"bell\",\"sunken\",\"knobbed\",\"convex\",\"convex\",\"convex\",\"conical\",\"sunken\",\"bell\",\"convex\",\"convex\",\"sunken\",\"bell\",\"convex\",\"convex\",\"flat\",\"sunken\",\"knobbed\",\"bell\",\"convex\",\"sunken\",\"sunken\",\"convex\",\"sunken\",\"bell\",\"sunken\",\"sunken\",\"convex\",\"flat\",\"convex\",\"bell\",\"sunken\",\"bell\",\"convex\",\"convex\",\"flat\",\"bell\",\"bell\",\"flat\",\"convex\",\"bell\",\"convex\",\"knobbed\",\"sunken\",\"sunken\",\"flat\",\"flat\",\"sunken\",\"convex\",\"bell\",\"sunken\",\"convex\",\"flat\",\"flat\",\"knobbed\",\"bell\",\"bell\",\"bell\",\"flat\",\"knobbed\",\"bell\",\"convex\",\"sunken\",\"convex\",\"conical\",\"sunken\",\"convex\",\"convex\",\"flat\",\"flat\",\"bell\",\"sunken\",\"bell\",\"convex\",\"knobbed\",\"bell\",\"bell\",\"flat\",\"sunken\",\"convex\",\"convex\",\"convex\",\"sunken\",\"knobbed\",\"flat\",\"flat\",\"convex\"],\"xaxis\":\"x\",\"yaxis\":\"y\",\"type\":\"histogram\"}],                        {\"template\":{\"data\":{\"histogram2dcontour\":[{\"type\":\"histogram2dcontour\",\"colorbar\":{\"outlinewidth\":0,\"ticks\":\"\"},\"colorscale\":[[0.0,\"#0d0887\"],[0.1111111111111111,\"#46039f\"],[0.2222222222222222,\"#7201a8\"],[0.3333333333333333,\"#9c179e\"],[0.4444444444444444,\"#bd3786\"],[0.5555555555555556,\"#d8576b\"],[0.6666666666666666,\"#ed7953\"],[0.7777777777777778,\"#fb9f3a\"],[0.8888888888888888,\"#fdca26\"],[1.0,\"#f0f921\"]]}],\"choropleth\":[{\"type\":\"choropleth\",\"colorbar\":{\"outlinewidth\":0,\"ticks\":\"\"}}],\"histogram2d\":[{\"type\":\"histogram2d\",\"colorbar\":{\"outlinewidth\":0,\"ticks\":\"\"},\"colorscale\":[[0.0,\"#0d0887\"],[0.1111111111111111,\"#46039f\"],[0.2222222222222222,\"#7201a8\"],[0.3333333333333333,\"#9c179e\"],[0.4444444444444444,\"#bd3786\"],[0.5555555555555556,\"#d8576b\"],[0.6666666666666666,\"#ed7953\"],[0.7777777777777778,\"#fb9f3a\"],[0.8888888888888888,\"#fdca26\"],[1.0,\"#f0f921\"]]}],\"heatmap\":[{\"type\":\"heatmap\",\"colorbar\":{\"outlinewidth\":0,\"ticks\":\"\"},\"colorscale\":[[0.0,\"#0d0887\"],[0.1111111111111111,\"#46039f\"],[0.2222222222222222,\"#7201a8\"],[0.3333333333333333,\"#9c179e\"],[0.4444444444444444,\"#bd3786\"],[0.5555555555555556,\"#d8576b\"],[0.6666666666666666,\"#ed7953\"],[0.7777777777777778,\"#fb9f3a\"],[0.8888888888888888,\"#fdca26\"],[1.0,\"#f0f921\"]]}],\"heatmapgl\":[{\"type\":\"heatmapgl\",\"colorbar\":{\"outlinewidth\":0,\"ticks\":\"\"},\"colorscale\":[[0.0,\"#0d0887\"],[0.1111111111111111,\"#46039f\"],[0.2222222222222222,\"#7201a8\"],[0.3333333333333333,\"#9c179e\"],[0.4444444444444444,\"#bd3786\"],[0.5555555555555556,\"#d8576b\"],[0.6666666666666666,\"#ed7953\"],[0.7777777777777778,\"#fb9f3a\"],[0.8888888888888888,\"#fdca26\"],[1.0,\"#f0f921\"]]}],\"contourcarpet\":[{\"type\":\"contourcarpet\",\"colorbar\":{\"outlinewidth\":0,\"ticks\":\"\"}}],\"contour\":[{\"type\":\"contour\",\"colorbar\":{\"outlinewidth\":0,\"ticks\":\"\"},\"colorscale\":[[0.0,\"#0d0887\"],[0.1111111111111111,\"#46039f\"],[0.2222222222222222,\"#7201a8\"],[0.3333333333333333,\"#9c179e\"],[0.4444444444444444,\"#bd3786\"],[0.5555555555555556,\"#d8576b\"],[0.6666666666666666,\"#ed7953\"],[0.7777777777777778,\"#fb9f3a\"],[0.8888888888888888,\"#fdca26\"],[1.0,\"#f0f921\"]]}],\"surface\":[{\"type\":\"surface\",\"colorbar\":{\"outlinewidth\":0,\"ticks\":\"\"},\"colorscale\":[[0.0,\"#0d0887\"],[0.1111111111111111,\"#46039f\"],[0.2222222222222222,\"#7201a8\"],[0.3333333333333333,\"#9c179e\"],[0.4444444444444444,\"#bd3786\"],[0.5555555555555556,\"#d8576b\"],[0.6666666666666666,\"#ed7953\"],[0.7777777777777778,\"#fb9f3a\"],[0.8888888888888888,\"#fdca26\"],[1.0,\"#f0f921\"]]}],\"mesh3d\":[{\"type\":\"mesh3d\",\"colorbar\":{\"outlinewidth\":0,\"ticks\":\"\"}}],\"scatter\":[{\"fillpattern\":{\"fillmode\":\"overlay\",\"size\":10,\"solidity\":0.2},\"type\":\"scatter\"}],\"parcoords\":[{\"type\":\"parcoords\",\"line\":{\"colorbar\":{\"outlinewidth\":0,\"ticks\":\"\"}}}],\"scatterpolargl\":[{\"type\":\"scatterpolargl\",\"marker\":{\"colorbar\":{\"outlinewidth\":0,\"ticks\":\"\"}}}],\"bar\":[{\"error_x\":{\"color\":\"#2a3f5f\"},\"error_y\":{\"color\":\"#2a3f5f\"},\"marker\":{\"line\":{\"color\":\"#E5ECF6\",\"width\":0.5},\"pattern\":{\"fillmode\":\"overlay\",\"size\":10,\"solidity\":0.2}},\"type\":\"bar\"}],\"scattergeo\":[{\"type\":\"scattergeo\",\"marker\":{\"colorbar\":{\"outlinewidth\":0,\"ticks\":\"\"}}}],\"scatterpolar\":[{\"type\":\"scatterpolar\",\"marker\":{\"colorbar\":{\"outlinewidth\":0,\"ticks\":\"\"}}}],\"histogram\":[{\"marker\":{\"pattern\":{\"fillmode\":\"overlay\",\"size\":10,\"solidity\":0.2}},\"type\":\"histogram\"}],\"scattergl\":[{\"type\":\"scattergl\",\"marker\":{\"colorbar\":{\"outlinewidth\":0,\"ticks\":\"\"}}}],\"scatter3d\":[{\"type\":\"scatter3d\",\"line\":{\"colorbar\":{\"outlinewidth\":0,\"ticks\":\"\"}},\"marker\":{\"colorbar\":{\"outlinewidth\":0,\"ticks\":\"\"}}}],\"scattermapbox\":[{\"type\":\"scattermapbox\",\"marker\":{\"colorbar\":{\"outlinewidth\":0,\"ticks\":\"\"}}}],\"scatterternary\":[{\"type\":\"scatterternary\",\"marker\":{\"colorbar\":{\"outlinewidth\":0,\"ticks\":\"\"}}}],\"scattercarpet\":[{\"type\":\"scattercarpet\",\"marker\":{\"colorbar\":{\"outlinewidth\":0,\"ticks\":\"\"}}}],\"carpet\":[{\"aaxis\":{\"endlinecolor\":\"#2a3f5f\",\"gridcolor\":\"white\",\"linecolor\":\"white\",\"minorgridcolor\":\"white\",\"startlinecolor\":\"#2a3f5f\"},\"baxis\":{\"endlinecolor\":\"#2a3f5f\",\"gridcolor\":\"white\",\"linecolor\":\"white\",\"minorgridcolor\":\"white\",\"startlinecolor\":\"#2a3f5f\"},\"type\":\"carpet\"}],\"table\":[{\"cells\":{\"fill\":{\"color\":\"#EBF0F8\"},\"line\":{\"color\":\"white\"}},\"header\":{\"fill\":{\"color\":\"#C8D4E3\"},\"line\":{\"color\":\"white\"}},\"type\":\"table\"}],\"barpolar\":[{\"marker\":{\"line\":{\"color\":\"#E5ECF6\",\"width\":0.5},\"pattern\":{\"fillmode\":\"overlay\",\"size\":10,\"solidity\":0.2}},\"type\":\"barpolar\"}],\"pie\":[{\"automargin\":true,\"type\":\"pie\"}]},\"layout\":{\"autotypenumbers\":\"strict\",\"colorway\":[\"#636efa\",\"#EF553B\",\"#00cc96\",\"#ab63fa\",\"#FFA15A\",\"#19d3f3\",\"#FF6692\",\"#B6E880\",\"#FF97FF\",\"#FECB52\"],\"font\":{\"color\":\"#2a3f5f\"},\"hovermode\":\"closest\",\"hoverlabel\":{\"align\":\"left\"},\"paper_bgcolor\":\"white\",\"plot_bgcolor\":\"#E5ECF6\",\"polar\":{\"bgcolor\":\"#E5ECF6\",\"angularaxis\":{\"gridcolor\":\"white\",\"linecolor\":\"white\",\"ticks\":\"\"},\"radialaxis\":{\"gridcolor\":\"white\",\"linecolor\":\"white\",\"ticks\":\"\"}},\"ternary\":{\"bgcolor\":\"#E5ECF6\",\"aaxis\":{\"gridcolor\":\"white\",\"linecolor\":\"white\",\"ticks\":\"\"},\"baxis\":{\"gridcolor\":\"white\",\"linecolor\":\"white\",\"ticks\":\"\"},\"caxis\":{\"gridcolor\":\"white\",\"linecolor\":\"white\",\"ticks\":\"\"}},\"coloraxis\":{\"colorbar\":{\"outlinewidth\":0,\"ticks\":\"\"}},\"colorscale\":{\"sequential\":[[0.0,\"#0d0887\"],[0.1111111111111111,\"#46039f\"],[0.2222222222222222,\"#7201a8\"],[0.3333333333333333,\"#9c179e\"],[0.4444444444444444,\"#bd3786\"],[0.5555555555555556,\"#d8576b\"],[0.6666666666666666,\"#ed7953\"],[0.7777777777777778,\"#fb9f3a\"],[0.8888888888888888,\"#fdca26\"],[1.0,\"#f0f921\"]],\"sequentialminus\":[[0.0,\"#0d0887\"],[0.1111111111111111,\"#46039f\"],[0.2222222222222222,\"#7201a8\"],[0.3333333333333333,\"#9c179e\"],[0.4444444444444444,\"#bd3786\"],[0.5555555555555556,\"#d8576b\"],[0.6666666666666666,\"#ed7953\"],[0.7777777777777778,\"#fb9f3a\"],[0.8888888888888888,\"#fdca26\"],[1.0,\"#f0f921\"]],\"diverging\":[[0,\"#8e0152\"],[0.1,\"#c51b7d\"],[0.2,\"#de77ae\"],[0.3,\"#f1b6da\"],[0.4,\"#fde0ef\"],[0.5,\"#f7f7f7\"],[0.6,\"#e6f5d0\"],[0.7,\"#b8e186\"],[0.8,\"#7fbc41\"],[0.9,\"#4d9221\"],[1,\"#276419\"]]},\"xaxis\":{\"gridcolor\":\"white\",\"linecolor\":\"white\",\"ticks\":\"\",\"title\":{\"standoff\":15},\"zerolinecolor\":\"white\",\"automargin\":true,\"zerolinewidth\":2},\"yaxis\":{\"gridcolor\":\"white\",\"linecolor\":\"white\",\"ticks\":\"\",\"title\":{\"standoff\":15},\"zerolinecolor\":\"white\",\"automargin\":true,\"zerolinewidth\":2},\"scene\":{\"xaxis\":{\"backgroundcolor\":\"#E5ECF6\",\"gridcolor\":\"white\",\"linecolor\":\"white\",\"showbackground\":true,\"ticks\":\"\",\"zerolinecolor\":\"white\",\"gridwidth\":2},\"yaxis\":{\"backgroundcolor\":\"#E5ECF6\",\"gridcolor\":\"white\",\"linecolor\":\"white\",\"showbackground\":true,\"ticks\":\"\",\"zerolinecolor\":\"white\",\"gridwidth\":2},\"zaxis\":{\"backgroundcolor\":\"#E5ECF6\",\"gridcolor\":\"white\",\"linecolor\":\"white\",\"showbackground\":true,\"ticks\":\"\",\"zerolinecolor\":\"white\",\"gridwidth\":2}},\"shapedefaults\":{\"line\":{\"color\":\"#2a3f5f\"}},\"annotationdefaults\":{\"arrowcolor\":\"#2a3f5f\",\"arrowhead\":0,\"arrowwidth\":1},\"geo\":{\"bgcolor\":\"white\",\"landcolor\":\"#E5ECF6\",\"subunitcolor\":\"white\",\"showland\":true,\"showlakes\":true,\"lakecolor\":\"white\"},\"title\":{\"x\":0.05},\"mapbox\":{\"style\":\"light\"}}},\"xaxis\":{\"anchor\":\"y\",\"domain\":[0.0,1.0],\"title\":{\"text\":\"Category\"}},\"yaxis\":{\"anchor\":\"x\",\"domain\":[0.0,1.0],\"title\":{\"text\":\"Frequency\"}},\"legend\":{\"title\":{\"text\":\"Data\"},\"tracegroupgap\":0},\"margin\":{\"t\":60},\"barmode\":\"group\",\"title\":{\"text\":\"Real vs. Synthetic Data for column 'cap-shape'\"},\"plot_bgcolor\":\"#F5F5F8\"},                        {\"responsive\": true}                    ).then(function(){\n",
              "                            \n",
              "var gd = document.getElementById('7de2299a-76db-4fae-b1f3-39c9b0295d35');\n",
              "var x = new MutationObserver(function (mutations, observer) {{\n",
              "        var display = window.getComputedStyle(gd).display;\n",
              "        if (!display || display === 'none') {{\n",
              "            console.log([gd, 'removed!']);\n",
              "            Plotly.purge(gd);\n",
              "            observer.disconnect();\n",
              "        }}\n",
              "}});\n",
              "\n",
              "// Listen for the removal of the full notebook cells\n",
              "var notebookContainer = gd.closest('#notebook-container');\n",
              "if (notebookContainer) {{\n",
              "    x.observe(notebookContainer, {childList: true});\n",
              "}}\n",
              "\n",
              "// Listen for the clearing of the current output cell\n",
              "var outputEl = gd.closest('.output');\n",
              "if (outputEl) {{\n",
              "    x.observe(outputEl, {childList: true});\n",
              "}}\n",
              "\n",
              "                        })                };                            </script>        </div>\n",
              "</body>\n",
              "</html>"
            ]
          },
          "metadata": {}
        }
      ],
      "source": [
        "from sdv.evaluation.single_table import get_column_plot\n",
        "\n",
        "fig = get_column_plot(\n",
        "    real_data=mushroom_table,\n",
        "    synthetic_data=synthetic_data,\n",
        "    column_name='cap-shape',\n",
        "    metadata=metadata\n",
        ")\n",
        "\n",
        "fig.show()"
      ]
    },
    {
      "cell_type": "code",
      "execution_count": null,
      "id": "b9608d16",
      "metadata": {
        "colab": {
          "base_uri": "https://localhost:8080/",
          "height": 542
        },
        "id": "b9608d16",
        "outputId": "23ecd468-257a-4690-b291-23538f85ea96"
      },
      "outputs": [
        {
          "output_type": "display_data",
          "data": {
            "text/html": [
              "<html>\n",
              "<head><meta charset=\"utf-8\" /></head>\n",
              "<body>\n",
              "    <div>            <script src=\"https://cdnjs.cloudflare.com/ajax/libs/mathjax/2.7.5/MathJax.js?config=TeX-AMS-MML_SVG\"></script><script type=\"text/javascript\">if (window.MathJax && window.MathJax.Hub && window.MathJax.Hub.Config) {window.MathJax.Hub.Config({SVG: {font: \"STIX-Web\"}});}</script>                <script type=\"text/javascript\">window.PlotlyConfig = {MathJaxConfig: 'local'};</script>\n",
              "        <script src=\"https://cdn.plot.ly/plotly-2.18.2.min.js\"></script>                <div id=\"dcec8974-a203-4550-a0a4-7d9ef9633702\" class=\"plotly-graph-div\" style=\"height:525px; width:100%;\"></div>            <script type=\"text/javascript\">                                    window.PLOTLYENV=window.PLOTLYENV || {};                                    if (document.getElementById(\"dcec8974-a203-4550-a0a4-7d9ef9633702\")) {                    Plotly.newPlot(                        \"dcec8974-a203-4550-a0a4-7d9ef9633702\",                        [{\"alignmentgroup\":\"True\",\"customdata\":[[\"TVComplement\"],[\"TVComplement\"],[\"TVComplement\"],[\"TVComplement\"],[\"TVComplement\"],[\"TVComplement\"],[\"TVComplement\"],[\"TVComplement\"],[\"TVComplement\"],[\"TVComplement\"],[\"TVComplement\"],[\"TVComplement\"],[\"TVComplement\"],[\"TVComplement\"],[\"TVComplement\"],[\"TVComplement\"],[\"TVComplement\"],[\"TVComplement\"],[\"TVComplement\"],[\"TVComplement\"],[\"TVComplement\"],[\"TVComplement\"],[\"TVComplement\"]],\"hovertemplate\":\"<b>%{hovertext}</b><br><br>Metric=%{customdata[0]}<br>Quality Score=%{y}<extra></extra>\",\"hovertext\":[\"poisonous\",\"cap-shape\",\"cap-surface\",\"cap-color\",\"bruises\",\"odor\",\"gill-attachment\",\"gill-spacing\",\"gill-size\",\"gill-color\",\"stalk-shape\",\"stalk-root\",\"stalk-surface-above-ring\",\"stalk-surface-below-ring\",\"stalk-color-above-ring\",\"stalk-color-below-ring\",\"veil-type\",\"veil-color\",\"ring-number\",\"ring-type\",\"spore-print-color\",\"population\",\"habitat\"],\"legendgroup\":\"TVComplement\",\"marker\":{\"color\":\"#03AFF1\",\"pattern\":{\"shape\":\"\"}},\"name\":\"TVComplement\",\"offsetgroup\":\"TVComplement\",\"orientation\":\"v\",\"showlegend\":true,\"textposition\":\"auto\",\"x\":[\"poisonous\",\"cap-shape\",\"cap-surface\",\"cap-color\",\"bruises\",\"odor\",\"gill-attachment\",\"gill-spacing\",\"gill-size\",\"gill-color\",\"stalk-shape\",\"stalk-root\",\"stalk-surface-above-ring\",\"stalk-surface-below-ring\",\"stalk-color-above-ring\",\"stalk-color-below-ring\",\"veil-type\",\"veil-color\",\"ring-number\",\"ring-type\",\"spore-print-color\",\"population\",\"habitat\"],\"xaxis\":\"x\",\"y\":[0.982028557360906,0.6300689315608075,0.8551157065484982,0.7657607090103398,0.9944411619891679,0.6065386509108812,0.9358493353028066,0.9614967996061055,0.939207287050714,0.6346430329886754,0.9527917282127031,0.6999359921221073,0.7109010339734121,0.7324175283111768,0.7778631216149681,0.9253077301821763,1.0,0.9118168389955686,0.8982865583456425,0.9187690792712949,0.6829246676514032,0.6583554899064501,0.6856917774495322],\"yaxis\":\"y\",\"type\":\"bar\"}],                        {\"template\":{\"data\":{\"histogram2dcontour\":[{\"type\":\"histogram2dcontour\",\"colorbar\":{\"outlinewidth\":0,\"ticks\":\"\"},\"colorscale\":[[0.0,\"#0d0887\"],[0.1111111111111111,\"#46039f\"],[0.2222222222222222,\"#7201a8\"],[0.3333333333333333,\"#9c179e\"],[0.4444444444444444,\"#bd3786\"],[0.5555555555555556,\"#d8576b\"],[0.6666666666666666,\"#ed7953\"],[0.7777777777777778,\"#fb9f3a\"],[0.8888888888888888,\"#fdca26\"],[1.0,\"#f0f921\"]]}],\"choropleth\":[{\"type\":\"choropleth\",\"colorbar\":{\"outlinewidth\":0,\"ticks\":\"\"}}],\"histogram2d\":[{\"type\":\"histogram2d\",\"colorbar\":{\"outlinewidth\":0,\"ticks\":\"\"},\"colorscale\":[[0.0,\"#0d0887\"],[0.1111111111111111,\"#46039f\"],[0.2222222222222222,\"#7201a8\"],[0.3333333333333333,\"#9c179e\"],[0.4444444444444444,\"#bd3786\"],[0.5555555555555556,\"#d8576b\"],[0.6666666666666666,\"#ed7953\"],[0.7777777777777778,\"#fb9f3a\"],[0.8888888888888888,\"#fdca26\"],[1.0,\"#f0f921\"]]}],\"heatmap\":[{\"type\":\"heatmap\",\"colorbar\":{\"outlinewidth\":0,\"ticks\":\"\"},\"colorscale\":[[0.0,\"#0d0887\"],[0.1111111111111111,\"#46039f\"],[0.2222222222222222,\"#7201a8\"],[0.3333333333333333,\"#9c179e\"],[0.4444444444444444,\"#bd3786\"],[0.5555555555555556,\"#d8576b\"],[0.6666666666666666,\"#ed7953\"],[0.7777777777777778,\"#fb9f3a\"],[0.8888888888888888,\"#fdca26\"],[1.0,\"#f0f921\"]]}],\"heatmapgl\":[{\"type\":\"heatmapgl\",\"colorbar\":{\"outlinewidth\":0,\"ticks\":\"\"},\"colorscale\":[[0.0,\"#0d0887\"],[0.1111111111111111,\"#46039f\"],[0.2222222222222222,\"#7201a8\"],[0.3333333333333333,\"#9c179e\"],[0.4444444444444444,\"#bd3786\"],[0.5555555555555556,\"#d8576b\"],[0.6666666666666666,\"#ed7953\"],[0.7777777777777778,\"#fb9f3a\"],[0.8888888888888888,\"#fdca26\"],[1.0,\"#f0f921\"]]}],\"contourcarpet\":[{\"type\":\"contourcarpet\",\"colorbar\":{\"outlinewidth\":0,\"ticks\":\"\"}}],\"contour\":[{\"type\":\"contour\",\"colorbar\":{\"outlinewidth\":0,\"ticks\":\"\"},\"colorscale\":[[0.0,\"#0d0887\"],[0.1111111111111111,\"#46039f\"],[0.2222222222222222,\"#7201a8\"],[0.3333333333333333,\"#9c179e\"],[0.4444444444444444,\"#bd3786\"],[0.5555555555555556,\"#d8576b\"],[0.6666666666666666,\"#ed7953\"],[0.7777777777777778,\"#fb9f3a\"],[0.8888888888888888,\"#fdca26\"],[1.0,\"#f0f921\"]]}],\"surface\":[{\"type\":\"surface\",\"colorbar\":{\"outlinewidth\":0,\"ticks\":\"\"},\"colorscale\":[[0.0,\"#0d0887\"],[0.1111111111111111,\"#46039f\"],[0.2222222222222222,\"#7201a8\"],[0.3333333333333333,\"#9c179e\"],[0.4444444444444444,\"#bd3786\"],[0.5555555555555556,\"#d8576b\"],[0.6666666666666666,\"#ed7953\"],[0.7777777777777778,\"#fb9f3a\"],[0.8888888888888888,\"#fdca26\"],[1.0,\"#f0f921\"]]}],\"mesh3d\":[{\"type\":\"mesh3d\",\"colorbar\":{\"outlinewidth\":0,\"ticks\":\"\"}}],\"scatter\":[{\"fillpattern\":{\"fillmode\":\"overlay\",\"size\":10,\"solidity\":0.2},\"type\":\"scatter\"}],\"parcoords\":[{\"type\":\"parcoords\",\"line\":{\"colorbar\":{\"outlinewidth\":0,\"ticks\":\"\"}}}],\"scatterpolargl\":[{\"type\":\"scatterpolargl\",\"marker\":{\"colorbar\":{\"outlinewidth\":0,\"ticks\":\"\"}}}],\"bar\":[{\"error_x\":{\"color\":\"#2a3f5f\"},\"error_y\":{\"color\":\"#2a3f5f\"},\"marker\":{\"line\":{\"color\":\"#E5ECF6\",\"width\":0.5},\"pattern\":{\"fillmode\":\"overlay\",\"size\":10,\"solidity\":0.2}},\"type\":\"bar\"}],\"scattergeo\":[{\"type\":\"scattergeo\",\"marker\":{\"colorbar\":{\"outlinewidth\":0,\"ticks\":\"\"}}}],\"scatterpolar\":[{\"type\":\"scatterpolar\",\"marker\":{\"colorbar\":{\"outlinewidth\":0,\"ticks\":\"\"}}}],\"histogram\":[{\"marker\":{\"pattern\":{\"fillmode\":\"overlay\",\"size\":10,\"solidity\":0.2}},\"type\":\"histogram\"}],\"scattergl\":[{\"type\":\"scattergl\",\"marker\":{\"colorbar\":{\"outlinewidth\":0,\"ticks\":\"\"}}}],\"scatter3d\":[{\"type\":\"scatter3d\",\"line\":{\"colorbar\":{\"outlinewidth\":0,\"ticks\":\"\"}},\"marker\":{\"colorbar\":{\"outlinewidth\":0,\"ticks\":\"\"}}}],\"scattermapbox\":[{\"type\":\"scattermapbox\",\"marker\":{\"colorbar\":{\"outlinewidth\":0,\"ticks\":\"\"}}}],\"scatterternary\":[{\"type\":\"scatterternary\",\"marker\":{\"colorbar\":{\"outlinewidth\":0,\"ticks\":\"\"}}}],\"scattercarpet\":[{\"type\":\"scattercarpet\",\"marker\":{\"colorbar\":{\"outlinewidth\":0,\"ticks\":\"\"}}}],\"carpet\":[{\"aaxis\":{\"endlinecolor\":\"#2a3f5f\",\"gridcolor\":\"white\",\"linecolor\":\"white\",\"minorgridcolor\":\"white\",\"startlinecolor\":\"#2a3f5f\"},\"baxis\":{\"endlinecolor\":\"#2a3f5f\",\"gridcolor\":\"white\",\"linecolor\":\"white\",\"minorgridcolor\":\"white\",\"startlinecolor\":\"#2a3f5f\"},\"type\":\"carpet\"}],\"table\":[{\"cells\":{\"fill\":{\"color\":\"#EBF0F8\"},\"line\":{\"color\":\"white\"}},\"header\":{\"fill\":{\"color\":\"#C8D4E3\"},\"line\":{\"color\":\"white\"}},\"type\":\"table\"}],\"barpolar\":[{\"marker\":{\"line\":{\"color\":\"#E5ECF6\",\"width\":0.5},\"pattern\":{\"fillmode\":\"overlay\",\"size\":10,\"solidity\":0.2}},\"type\":\"barpolar\"}],\"pie\":[{\"automargin\":true,\"type\":\"pie\"}]},\"layout\":{\"autotypenumbers\":\"strict\",\"colorway\":[\"#636efa\",\"#EF553B\",\"#00cc96\",\"#ab63fa\",\"#FFA15A\",\"#19d3f3\",\"#FF6692\",\"#B6E880\",\"#FF97FF\",\"#FECB52\"],\"font\":{\"color\":\"#2a3f5f\"},\"hovermode\":\"closest\",\"hoverlabel\":{\"align\":\"left\"},\"paper_bgcolor\":\"white\",\"plot_bgcolor\":\"#E5ECF6\",\"polar\":{\"bgcolor\":\"#E5ECF6\",\"angularaxis\":{\"gridcolor\":\"white\",\"linecolor\":\"white\",\"ticks\":\"\"},\"radialaxis\":{\"gridcolor\":\"white\",\"linecolor\":\"white\",\"ticks\":\"\"}},\"ternary\":{\"bgcolor\":\"#E5ECF6\",\"aaxis\":{\"gridcolor\":\"white\",\"linecolor\":\"white\",\"ticks\":\"\"},\"baxis\":{\"gridcolor\":\"white\",\"linecolor\":\"white\",\"ticks\":\"\"},\"caxis\":{\"gridcolor\":\"white\",\"linecolor\":\"white\",\"ticks\":\"\"}},\"coloraxis\":{\"colorbar\":{\"outlinewidth\":0,\"ticks\":\"\"}},\"colorscale\":{\"sequential\":[[0.0,\"#0d0887\"],[0.1111111111111111,\"#46039f\"],[0.2222222222222222,\"#7201a8\"],[0.3333333333333333,\"#9c179e\"],[0.4444444444444444,\"#bd3786\"],[0.5555555555555556,\"#d8576b\"],[0.6666666666666666,\"#ed7953\"],[0.7777777777777778,\"#fb9f3a\"],[0.8888888888888888,\"#fdca26\"],[1.0,\"#f0f921\"]],\"sequentialminus\":[[0.0,\"#0d0887\"],[0.1111111111111111,\"#46039f\"],[0.2222222222222222,\"#7201a8\"],[0.3333333333333333,\"#9c179e\"],[0.4444444444444444,\"#bd3786\"],[0.5555555555555556,\"#d8576b\"],[0.6666666666666666,\"#ed7953\"],[0.7777777777777778,\"#fb9f3a\"],[0.8888888888888888,\"#fdca26\"],[1.0,\"#f0f921\"]],\"diverging\":[[0,\"#8e0152\"],[0.1,\"#c51b7d\"],[0.2,\"#de77ae\"],[0.3,\"#f1b6da\"],[0.4,\"#fde0ef\"],[0.5,\"#f7f7f7\"],[0.6,\"#e6f5d0\"],[0.7,\"#b8e186\"],[0.8,\"#7fbc41\"],[0.9,\"#4d9221\"],[1,\"#276419\"]]},\"xaxis\":{\"gridcolor\":\"white\",\"linecolor\":\"white\",\"ticks\":\"\",\"title\":{\"standoff\":15},\"zerolinecolor\":\"white\",\"automargin\":true,\"zerolinewidth\":2},\"yaxis\":{\"gridcolor\":\"white\",\"linecolor\":\"white\",\"ticks\":\"\",\"title\":{\"standoff\":15},\"zerolinecolor\":\"white\",\"automargin\":true,\"zerolinewidth\":2},\"scene\":{\"xaxis\":{\"backgroundcolor\":\"#E5ECF6\",\"gridcolor\":\"white\",\"linecolor\":\"white\",\"showbackground\":true,\"ticks\":\"\",\"zerolinecolor\":\"white\",\"gridwidth\":2},\"yaxis\":{\"backgroundcolor\":\"#E5ECF6\",\"gridcolor\":\"white\",\"linecolor\":\"white\",\"showbackground\":true,\"ticks\":\"\",\"zerolinecolor\":\"white\",\"gridwidth\":2},\"zaxis\":{\"backgroundcolor\":\"#E5ECF6\",\"gridcolor\":\"white\",\"linecolor\":\"white\",\"showbackground\":true,\"ticks\":\"\",\"zerolinecolor\":\"white\",\"gridwidth\":2}},\"shapedefaults\":{\"line\":{\"color\":\"#2a3f5f\"}},\"annotationdefaults\":{\"arrowcolor\":\"#2a3f5f\",\"arrowhead\":0,\"arrowwidth\":1},\"geo\":{\"bgcolor\":\"white\",\"landcolor\":\"#E5ECF6\",\"subunitcolor\":\"white\",\"showland\":true,\"showlakes\":true,\"lakecolor\":\"white\"},\"title\":{\"x\":0.05},\"mapbox\":{\"style\":\"light\"}}},\"xaxis\":{\"anchor\":\"y\",\"domain\":[0.0,1.0],\"title\":{\"text\":\"Column Name\"},\"categoryorder\":\"total ascending\"},\"yaxis\":{\"anchor\":\"x\",\"domain\":[0.0,1.0],\"title\":{\"text\":\"Quality Score\"},\"range\":[0,1]},\"legend\":{\"title\":{\"text\":\"Metric\"},\"tracegroupgap\":0},\"title\":{\"text\":\"Data Quality: Column Shapes (Average Score=0.82)\"},\"barmode\":\"relative\",\"margin\":{\"t\":150},\"plot_bgcolor\":\"#F5F5F8\"},                        {\"responsive\": true}                    ).then(function(){\n",
              "                            \n",
              "var gd = document.getElementById('dcec8974-a203-4550-a0a4-7d9ef9633702');\n",
              "var x = new MutationObserver(function (mutations, observer) {{\n",
              "        var display = window.getComputedStyle(gd).display;\n",
              "        if (!display || display === 'none') {{\n",
              "            console.log([gd, 'removed!']);\n",
              "            Plotly.purge(gd);\n",
              "            observer.disconnect();\n",
              "        }}\n",
              "}});\n",
              "\n",
              "// Listen for the removal of the full notebook cells\n",
              "var notebookContainer = gd.closest('#notebook-container');\n",
              "if (notebookContainer) {{\n",
              "    x.observe(notebookContainer, {childList: true});\n",
              "}}\n",
              "\n",
              "// Listen for the clearing of the current output cell\n",
              "var outputEl = gd.closest('.output');\n",
              "if (outputEl) {{\n",
              "    x.observe(outputEl, {childList: true});\n",
              "}}\n",
              "\n",
              "                        })                };                            </script>        </div>\n",
              "</body>\n",
              "</html>"
            ]
          },
          "metadata": {}
        }
      ],
      "source": [
        "quality_report.get_visualization('Column Shapes')"
      ]
    },
    {
      "cell_type": "markdown",
      "id": "6327a7b5",
      "metadata": {
        "id": "6327a7b5"
      },
      "source": [
        "Does not really maintain the statistical distribution"
      ]
    },
    {
      "cell_type": "markdown",
      "id": "bb9932c3",
      "metadata": {
        "id": "bb9932c3"
      },
      "source": [
        "## https://github.com/ydataai/ydata-profiling\n",
        "\n",
        "Provides summary about the data - probably useful to have for real dataset and synthetic dataset for comparisons"
      ]
    },
    {
      "cell_type": "code",
      "execution_count": null,
      "id": "6556fa16",
      "metadata": {
        "colab": {
          "base_uri": "https://localhost:8080/",
          "height": 345
        },
        "id": "6556fa16",
        "outputId": "d7fe200e-c34d-485a-cb94-0d317c7a293c"
      },
      "outputs": [
        {
          "output_type": "error",
          "ename": "SystemError",
          "evalue": "ignored",
          "traceback": [
            "\u001b[0;31m---------------------------------------------------------------------------\u001b[0m",
            "\u001b[0;31mSystemError\u001b[0m                               Traceback (most recent call last)",
            "\u001b[0;32m<ipython-input-29-1f62599e2edb>\u001b[0m in \u001b[0;36m<cell line: 3>\u001b[0;34m()\u001b[0m\n\u001b[1;32m      1\u001b[0m \u001b[0;32mimport\u001b[0m \u001b[0mnumpy\u001b[0m \u001b[0;32mas\u001b[0m \u001b[0mnp\u001b[0m\u001b[0;34m\u001b[0m\u001b[0;34m\u001b[0m\u001b[0m\n\u001b[1;32m      2\u001b[0m \u001b[0;32mimport\u001b[0m \u001b[0mpandas\u001b[0m \u001b[0;32mas\u001b[0m \u001b[0mpd\u001b[0m\u001b[0;34m\u001b[0m\u001b[0;34m\u001b[0m\u001b[0m\n\u001b[0;32m----> 3\u001b[0;31m \u001b[0;32mfrom\u001b[0m \u001b[0mydata_profiling\u001b[0m \u001b[0;32mimport\u001b[0m \u001b[0mProfileReport\u001b[0m\u001b[0;34m\u001b[0m\u001b[0;34m\u001b[0m\u001b[0m\n\u001b[0m",
            "\u001b[0;32m/usr/local/lib/python3.10/dist-packages/ydata_profiling/__init__.py\u001b[0m in \u001b[0;36m<module>\u001b[0;34m\u001b[0m\n\u001b[1;32m      5\u001b[0m \u001b[0;32mimport\u001b[0m \u001b[0mimportlib\u001b[0m\u001b[0;34m.\u001b[0m\u001b[0mutil\u001b[0m\u001b[0;34m\u001b[0m\u001b[0;34m\u001b[0m\u001b[0m\n\u001b[1;32m      6\u001b[0m \u001b[0;34m\u001b[0m\u001b[0m\n\u001b[0;32m----> 7\u001b[0;31m \u001b[0;32mfrom\u001b[0m \u001b[0mydata_profiling\u001b[0m\u001b[0;34m.\u001b[0m\u001b[0mcompare_reports\u001b[0m \u001b[0;32mimport\u001b[0m \u001b[0mcompare\u001b[0m\u001b[0;34m\u001b[0m\u001b[0;34m\u001b[0m\u001b[0m\n\u001b[0m\u001b[1;32m      8\u001b[0m \u001b[0;32mfrom\u001b[0m \u001b[0mydata_profiling\u001b[0m\u001b[0;34m.\u001b[0m\u001b[0mcontroller\u001b[0m \u001b[0;32mimport\u001b[0m \u001b[0mpandas_decorator\u001b[0m\u001b[0;34m\u001b[0m\u001b[0;34m\u001b[0m\u001b[0m\n\u001b[1;32m      9\u001b[0m \u001b[0;32mfrom\u001b[0m \u001b[0mydata_profiling\u001b[0m\u001b[0;34m.\u001b[0m\u001b[0mprofile_report\u001b[0m \u001b[0;32mimport\u001b[0m \u001b[0mProfileReport\u001b[0m\u001b[0;34m\u001b[0m\u001b[0;34m\u001b[0m\u001b[0m\n",
            "\u001b[0;32m/usr/local/lib/python3.10/dist-packages/ydata_profiling/compare_reports.py\u001b[0m in \u001b[0;36m<module>\u001b[0;34m\u001b[0m\n\u001b[1;32m     10\u001b[0m \u001b[0;32mfrom\u001b[0m \u001b[0mydata_profiling\u001b[0m\u001b[0;34m.\u001b[0m\u001b[0mmodel\u001b[0m \u001b[0;32mimport\u001b[0m \u001b[0mBaseDescription\u001b[0m\u001b[0;34m\u001b[0m\u001b[0;34m\u001b[0m\u001b[0m\n\u001b[1;32m     11\u001b[0m \u001b[0;32mfrom\u001b[0m \u001b[0mydata_profiling\u001b[0m\u001b[0;34m.\u001b[0m\u001b[0mmodel\u001b[0m\u001b[0;34m.\u001b[0m\u001b[0malerts\u001b[0m \u001b[0;32mimport\u001b[0m \u001b[0mAlert\u001b[0m\u001b[0;34m\u001b[0m\u001b[0;34m\u001b[0m\u001b[0m\n\u001b[0;32m---> 12\u001b[0;31m \u001b[0;32mfrom\u001b[0m \u001b[0mydata_profiling\u001b[0m\u001b[0;34m.\u001b[0m\u001b[0mprofile_report\u001b[0m \u001b[0;32mimport\u001b[0m \u001b[0mProfileReport\u001b[0m\u001b[0;34m\u001b[0m\u001b[0;34m\u001b[0m\u001b[0m\n\u001b[0m\u001b[1;32m     13\u001b[0m \u001b[0;34m\u001b[0m\u001b[0m\n\u001b[1;32m     14\u001b[0m \u001b[0;34m\u001b[0m\u001b[0m\n",
            "\u001b[0;32m/usr/local/lib/python3.10/dist-packages/ydata_profiling/profile_report.py\u001b[0m in \u001b[0;36m<module>\u001b[0;34m\u001b[0m\n\u001b[1;32m     18\u001b[0m \u001b[0;32mfrom\u001b[0m \u001b[0mtqdm\u001b[0m\u001b[0;34m.\u001b[0m\u001b[0mauto\u001b[0m \u001b[0;32mimport\u001b[0m \u001b[0mtqdm\u001b[0m\u001b[0;34m\u001b[0m\u001b[0;34m\u001b[0m\u001b[0m\n\u001b[1;32m     19\u001b[0m \u001b[0;32mfrom\u001b[0m \u001b[0mtypeguard\u001b[0m \u001b[0;32mimport\u001b[0m \u001b[0mtypechecked\u001b[0m\u001b[0;34m\u001b[0m\u001b[0;34m\u001b[0m\u001b[0m\n\u001b[0;32m---> 20\u001b[0;31m \u001b[0;32mfrom\u001b[0m \u001b[0mvisions\u001b[0m \u001b[0;32mimport\u001b[0m \u001b[0mVisionsTypeset\u001b[0m\u001b[0;34m\u001b[0m\u001b[0;34m\u001b[0m\u001b[0m\n\u001b[0m\u001b[1;32m     21\u001b[0m \u001b[0;34m\u001b[0m\u001b[0m\n\u001b[1;32m     22\u001b[0m \u001b[0;32mfrom\u001b[0m \u001b[0mydata_profiling\u001b[0m\u001b[0;34m.\u001b[0m\u001b[0mconfig\u001b[0m \u001b[0;32mimport\u001b[0m \u001b[0mConfig\u001b[0m\u001b[0;34m,\u001b[0m \u001b[0mSettings\u001b[0m\u001b[0;34m,\u001b[0m \u001b[0mSparkSettings\u001b[0m\u001b[0;34m\u001b[0m\u001b[0;34m\u001b[0m\u001b[0m\n",
            "\u001b[0;32m/usr/local/lib/python3.10/dist-packages/visions/__init__.py\u001b[0m in \u001b[0;36m<module>\u001b[0;34m\u001b[0m\n\u001b[1;32m      2\u001b[0m \u001b[0;34m\u001b[0m\u001b[0m\n\u001b[1;32m      3\u001b[0m \u001b[0;32mfrom\u001b[0m \u001b[0mvisions\u001b[0m \u001b[0;32mimport\u001b[0m \u001b[0mtypes\u001b[0m\u001b[0;34m,\u001b[0m \u001b[0mtypesets\u001b[0m\u001b[0;34m,\u001b[0m \u001b[0mutils\u001b[0m\u001b[0;34m\u001b[0m\u001b[0;34m\u001b[0m\u001b[0m\n\u001b[0;32m----> 4\u001b[0;31m \u001b[0;32mfrom\u001b[0m \u001b[0mvisions\u001b[0m\u001b[0;34m.\u001b[0m\u001b[0mbackends\u001b[0m \u001b[0;32mimport\u001b[0m \u001b[0;34m*\u001b[0m\u001b[0;34m\u001b[0m\u001b[0;34m\u001b[0m\u001b[0m\n\u001b[0m\u001b[1;32m      5\u001b[0m \u001b[0;32mfrom\u001b[0m \u001b[0mvisions\u001b[0m\u001b[0;34m.\u001b[0m\u001b[0mdeclarative\u001b[0m \u001b[0;32mimport\u001b[0m \u001b[0mcreate_type\u001b[0m\u001b[0;34m\u001b[0m\u001b[0;34m\u001b[0m\u001b[0m\n\u001b[1;32m      6\u001b[0m from visions.functional import (\n",
            "\u001b[0;32m/usr/local/lib/python3.10/dist-packages/visions/backends/__init__.py\u001b[0m in \u001b[0;36m<module>\u001b[0;34m\u001b[0m\n\u001b[1;32m      7\u001b[0m     \u001b[0;32mimport\u001b[0m \u001b[0mpandas\u001b[0m \u001b[0;32mas\u001b[0m \u001b[0mpd\u001b[0m\u001b[0;34m\u001b[0m\u001b[0;34m\u001b[0m\u001b[0m\n\u001b[1;32m      8\u001b[0m \u001b[0;34m\u001b[0m\u001b[0m\n\u001b[0;32m----> 9\u001b[0;31m     \u001b[0;32mimport\u001b[0m \u001b[0mvisions\u001b[0m\u001b[0;34m.\u001b[0m\u001b[0mbackends\u001b[0m\u001b[0;34m.\u001b[0m\u001b[0mpandas\u001b[0m\u001b[0;34m\u001b[0m\u001b[0;34m\u001b[0m\u001b[0m\n\u001b[0m\u001b[1;32m     10\u001b[0m     \u001b[0;32mfrom\u001b[0m \u001b[0mvisions\u001b[0m\u001b[0;34m.\u001b[0m\u001b[0mbackends\u001b[0m\u001b[0;34m.\u001b[0m\u001b[0mpandas\u001b[0m\u001b[0;34m.\u001b[0m\u001b[0mtest_utils\u001b[0m \u001b[0;32mimport\u001b[0m \u001b[0mpandas_version\u001b[0m\u001b[0;34m\u001b[0m\u001b[0;34m\u001b[0m\u001b[0m\n\u001b[1;32m     11\u001b[0m \u001b[0;34m\u001b[0m\u001b[0m\n",
            "\u001b[0;32m/usr/local/lib/python3.10/dist-packages/visions/backends/pandas/__init__.py\u001b[0m in \u001b[0;36m<module>\u001b[0;34m\u001b[0m\n\u001b[1;32m      1\u001b[0m \u001b[0;32mimport\u001b[0m \u001b[0mvisions\u001b[0m\u001b[0;34m.\u001b[0m\u001b[0mbackends\u001b[0m\u001b[0;34m.\u001b[0m\u001b[0mpandas\u001b[0m\u001b[0;34m.\u001b[0m\u001b[0mtraversal\u001b[0m\u001b[0;34m\u001b[0m\u001b[0;34m\u001b[0m\u001b[0m\n\u001b[0;32m----> 2\u001b[0;31m \u001b[0;32mimport\u001b[0m \u001b[0mvisions\u001b[0m\u001b[0;34m.\u001b[0m\u001b[0mbackends\u001b[0m\u001b[0;34m.\u001b[0m\u001b[0mpandas\u001b[0m\u001b[0;34m.\u001b[0m\u001b[0mtypes\u001b[0m\u001b[0;34m\u001b[0m\u001b[0;34m\u001b[0m\u001b[0m\n\u001b[0m",
            "\u001b[0;32m/usr/local/lib/python3.10/dist-packages/visions/backends/pandas/types/__init__.py\u001b[0m in \u001b[0;36m<module>\u001b[0;34m\u001b[0m\n\u001b[1;32m      1\u001b[0m \u001b[0;32mimport\u001b[0m \u001b[0mvisions\u001b[0m\u001b[0;34m.\u001b[0m\u001b[0mbackends\u001b[0m\u001b[0;34m.\u001b[0m\u001b[0mpandas\u001b[0m\u001b[0;34m.\u001b[0m\u001b[0mtypes\u001b[0m\u001b[0;34m.\u001b[0m\u001b[0mboolean\u001b[0m\u001b[0;34m\u001b[0m\u001b[0;34m\u001b[0m\u001b[0m\n\u001b[1;32m      2\u001b[0m \u001b[0;32mimport\u001b[0m \u001b[0mvisions\u001b[0m\u001b[0;34m.\u001b[0m\u001b[0mbackends\u001b[0m\u001b[0;34m.\u001b[0m\u001b[0mpandas\u001b[0m\u001b[0;34m.\u001b[0m\u001b[0mtypes\u001b[0m\u001b[0;34m.\u001b[0m\u001b[0mcategorical\u001b[0m\u001b[0;34m\u001b[0m\u001b[0;34m\u001b[0m\u001b[0m\n\u001b[0;32m----> 3\u001b[0;31m \u001b[0;32mimport\u001b[0m \u001b[0mvisions\u001b[0m\u001b[0;34m.\u001b[0m\u001b[0mbackends\u001b[0m\u001b[0;34m.\u001b[0m\u001b[0mpandas\u001b[0m\u001b[0;34m.\u001b[0m\u001b[0mtypes\u001b[0m\u001b[0;34m.\u001b[0m\u001b[0mcomplex\u001b[0m\u001b[0;34m\u001b[0m\u001b[0;34m\u001b[0m\u001b[0m\n\u001b[0m\u001b[1;32m      4\u001b[0m \u001b[0;32mimport\u001b[0m \u001b[0mvisions\u001b[0m\u001b[0;34m.\u001b[0m\u001b[0mbackends\u001b[0m\u001b[0;34m.\u001b[0m\u001b[0mpandas\u001b[0m\u001b[0;34m.\u001b[0m\u001b[0mtypes\u001b[0m\u001b[0;34m.\u001b[0m\u001b[0mcount\u001b[0m\u001b[0;34m\u001b[0m\u001b[0;34m\u001b[0m\u001b[0m\n\u001b[1;32m      5\u001b[0m \u001b[0;32mimport\u001b[0m \u001b[0mvisions\u001b[0m\u001b[0;34m.\u001b[0m\u001b[0mbackends\u001b[0m\u001b[0;34m.\u001b[0m\u001b[0mpandas\u001b[0m\u001b[0;34m.\u001b[0m\u001b[0mtypes\u001b[0m\u001b[0;34m.\u001b[0m\u001b[0mdate\u001b[0m\u001b[0;34m\u001b[0m\u001b[0;34m\u001b[0m\u001b[0m\n",
            "\u001b[0;32m/usr/local/lib/python3.10/dist-packages/visions/backends/pandas/types/complex.py\u001b[0m in \u001b[0;36m<module>\u001b[0;34m\u001b[0m\n\u001b[1;32m      5\u001b[0m \u001b[0;32mfrom\u001b[0m \u001b[0mvisions\u001b[0m\u001b[0;34m.\u001b[0m\u001b[0mbackends\u001b[0m\u001b[0;34m.\u001b[0m\u001b[0mpandas\u001b[0m\u001b[0;34m.\u001b[0m\u001b[0mseries_utils\u001b[0m \u001b[0;32mimport\u001b[0m \u001b[0mseries_not_empty\u001b[0m\u001b[0;34m,\u001b[0m \u001b[0mseries_not_sparse\u001b[0m\u001b[0;34m\u001b[0m\u001b[0;34m\u001b[0m\u001b[0m\n\u001b[1;32m      6\u001b[0m \u001b[0;32mfrom\u001b[0m \u001b[0mvisions\u001b[0m\u001b[0;34m.\u001b[0m\u001b[0mbackends\u001b[0m\u001b[0;34m.\u001b[0m\u001b[0mpandas\u001b[0m\u001b[0;34m.\u001b[0m\u001b[0mtypes\u001b[0m\u001b[0;34m.\u001b[0m\u001b[0mfloat\u001b[0m \u001b[0;32mimport\u001b[0m \u001b[0mstring_is_float\u001b[0m\u001b[0;34m\u001b[0m\u001b[0;34m\u001b[0m\u001b[0m\n\u001b[0;32m----> 7\u001b[0;31m \u001b[0;32mfrom\u001b[0m \u001b[0mvisions\u001b[0m\u001b[0;34m.\u001b[0m\u001b[0mbackends\u001b[0m\u001b[0;34m.\u001b[0m\u001b[0mshared\u001b[0m\u001b[0;34m.\u001b[0m\u001b[0mparallelization_engines\u001b[0m \u001b[0;32mimport\u001b[0m \u001b[0mpandas_apply\u001b[0m\u001b[0;34m\u001b[0m\u001b[0;34m\u001b[0m\u001b[0m\n\u001b[0m\u001b[1;32m      8\u001b[0m \u001b[0;32mfrom\u001b[0m \u001b[0mvisions\u001b[0m\u001b[0;34m.\u001b[0m\u001b[0mtypes\u001b[0m\u001b[0;34m.\u001b[0m\u001b[0mcomplex\u001b[0m \u001b[0;32mimport\u001b[0m \u001b[0mComplex\u001b[0m\u001b[0;34m\u001b[0m\u001b[0;34m\u001b[0m\u001b[0m\n\u001b[1;32m      9\u001b[0m \u001b[0;32mfrom\u001b[0m \u001b[0mvisions\u001b[0m\u001b[0;34m.\u001b[0m\u001b[0mtypes\u001b[0m\u001b[0;34m.\u001b[0m\u001b[0mstring\u001b[0m \u001b[0;32mimport\u001b[0m \u001b[0mString\u001b[0m\u001b[0;34m\u001b[0m\u001b[0;34m\u001b[0m\u001b[0m\n",
            "\u001b[0;32m/usr/local/lib/python3.10/dist-packages/visions/backends/shared/__init__.py\u001b[0m in \u001b[0;36m<module>\u001b[0;34m\u001b[0m\n\u001b[0;32m----> 1\u001b[0;31m \u001b[0;32mfrom\u001b[0m \u001b[0;34m.\u001b[0m \u001b[0;32mimport\u001b[0m \u001b[0mnan_handling\u001b[0m\u001b[0;34m,\u001b[0m \u001b[0mparallelization_engines\u001b[0m\u001b[0;34m,\u001b[0m \u001b[0mutilities\u001b[0m\u001b[0;34m\u001b[0m\u001b[0;34m\u001b[0m\u001b[0m\n\u001b[0m",
            "\u001b[0;32m/usr/local/lib/python3.10/dist-packages/visions/backends/shared/nan_handling.py\u001b[0m in \u001b[0;36m<module>\u001b[0;34m\u001b[0m\n\u001b[1;32m     10\u001b[0m \u001b[0;34m\u001b[0m\u001b[0m\n\u001b[1;32m     11\u001b[0m \u001b[0;32mif\u001b[0m \u001b[0mhas_numba\u001b[0m\u001b[0;34m:\u001b[0m\u001b[0;34m\u001b[0m\u001b[0;34m\u001b[0m\u001b[0m\n\u001b[0;32m---> 12\u001b[0;31m     \u001b[0;32mimport\u001b[0m \u001b[0mnumba\u001b[0m \u001b[0;32mas\u001b[0m \u001b[0mnb\u001b[0m\u001b[0;34m\u001b[0m\u001b[0;34m\u001b[0m\u001b[0m\n\u001b[0m\u001b[1;32m     13\u001b[0m \u001b[0;34m\u001b[0m\u001b[0m\n\u001b[1;32m     14\u001b[0m \u001b[0;34m\u001b[0m\u001b[0m\n",
            "\u001b[0;32m/usr/local/lib/python3.10/dist-packages/numba/__init__.py\u001b[0m in \u001b[0;36m<module>\u001b[0;34m\u001b[0m\n\u001b[1;32m     40\u001b[0m \u001b[0;34m\u001b[0m\u001b[0m\n\u001b[1;32m     41\u001b[0m \u001b[0;31m# Re-export vectorize decorators and the thread layer querying function\u001b[0m\u001b[0;34m\u001b[0m\u001b[0;34m\u001b[0m\u001b[0m\n\u001b[0;32m---> 42\u001b[0;31m from numba.np.ufunc import (vectorize, guvectorize, threading_layer,\n\u001b[0m\u001b[1;32m     43\u001b[0m                             \u001b[0mget_num_threads\u001b[0m\u001b[0;34m,\u001b[0m \u001b[0mset_num_threads\u001b[0m\u001b[0;34m,\u001b[0m\u001b[0;34m\u001b[0m\u001b[0;34m\u001b[0m\u001b[0m\n\u001b[1;32m     44\u001b[0m                             \u001b[0mset_parallel_chunksize\u001b[0m\u001b[0;34m,\u001b[0m \u001b[0mget_parallel_chunksize\u001b[0m\u001b[0;34m,\u001b[0m\u001b[0;34m\u001b[0m\u001b[0;34m\u001b[0m\u001b[0m\n",
            "\u001b[0;32m/usr/local/lib/python3.10/dist-packages/numba/np/ufunc/__init__.py\u001b[0m in \u001b[0;36m<module>\u001b[0;34m\u001b[0m\n\u001b[1;32m      1\u001b[0m \u001b[0;31m# -*- coding: utf-8 -*-\u001b[0m\u001b[0;34m\u001b[0m\u001b[0;34m\u001b[0m\u001b[0m\n\u001b[1;32m      2\u001b[0m \u001b[0;34m\u001b[0m\u001b[0m\n\u001b[0;32m----> 3\u001b[0;31m \u001b[0;32mfrom\u001b[0m \u001b[0mnumba\u001b[0m\u001b[0;34m.\u001b[0m\u001b[0mnp\u001b[0m\u001b[0;34m.\u001b[0m\u001b[0mufunc\u001b[0m\u001b[0;34m.\u001b[0m\u001b[0mdecorators\u001b[0m \u001b[0;32mimport\u001b[0m \u001b[0mVectorize\u001b[0m\u001b[0;34m,\u001b[0m \u001b[0mGUVectorize\u001b[0m\u001b[0;34m,\u001b[0m \u001b[0mvectorize\u001b[0m\u001b[0;34m,\u001b[0m \u001b[0mguvectorize\u001b[0m\u001b[0;34m\u001b[0m\u001b[0;34m\u001b[0m\u001b[0m\n\u001b[0m\u001b[1;32m      4\u001b[0m \u001b[0;32mfrom\u001b[0m \u001b[0mnumba\u001b[0m\u001b[0;34m.\u001b[0m\u001b[0mnp\u001b[0m\u001b[0;34m.\u001b[0m\u001b[0mufunc\u001b[0m\u001b[0;34m.\u001b[0m\u001b[0m_internal\u001b[0m \u001b[0;32mimport\u001b[0m \u001b[0mPyUFunc_None\u001b[0m\u001b[0;34m,\u001b[0m \u001b[0mPyUFunc_Zero\u001b[0m\u001b[0;34m,\u001b[0m \u001b[0mPyUFunc_One\u001b[0m\u001b[0;34m\u001b[0m\u001b[0;34m\u001b[0m\u001b[0m\n\u001b[1;32m      5\u001b[0m \u001b[0;32mfrom\u001b[0m \u001b[0mnumba\u001b[0m\u001b[0;34m.\u001b[0m\u001b[0mnp\u001b[0m\u001b[0;34m.\u001b[0m\u001b[0mufunc\u001b[0m \u001b[0;32mimport\u001b[0m \u001b[0m_internal\u001b[0m\u001b[0;34m,\u001b[0m \u001b[0marray_exprs\u001b[0m\u001b[0;34m\u001b[0m\u001b[0;34m\u001b[0m\u001b[0m\n",
            "\u001b[0;32m/usr/local/lib/python3.10/dist-packages/numba/np/ufunc/decorators.py\u001b[0m in \u001b[0;36m<module>\u001b[0;34m\u001b[0m\n\u001b[1;32m      1\u001b[0m \u001b[0;32mimport\u001b[0m \u001b[0minspect\u001b[0m\u001b[0;34m\u001b[0m\u001b[0;34m\u001b[0m\u001b[0m\n\u001b[1;32m      2\u001b[0m \u001b[0;34m\u001b[0m\u001b[0m\n\u001b[0;32m----> 3\u001b[0;31m \u001b[0;32mfrom\u001b[0m \u001b[0mnumba\u001b[0m\u001b[0;34m.\u001b[0m\u001b[0mnp\u001b[0m\u001b[0;34m.\u001b[0m\u001b[0mufunc\u001b[0m \u001b[0;32mimport\u001b[0m \u001b[0m_internal\u001b[0m\u001b[0;34m\u001b[0m\u001b[0;34m\u001b[0m\u001b[0m\n\u001b[0m\u001b[1;32m      4\u001b[0m \u001b[0;32mfrom\u001b[0m \u001b[0mnumba\u001b[0m\u001b[0;34m.\u001b[0m\u001b[0mnp\u001b[0m\u001b[0;34m.\u001b[0m\u001b[0mufunc\u001b[0m\u001b[0;34m.\u001b[0m\u001b[0mparallel\u001b[0m \u001b[0;32mimport\u001b[0m \u001b[0mParallelUFuncBuilder\u001b[0m\u001b[0;34m,\u001b[0m \u001b[0mParallelGUFuncBuilder\u001b[0m\u001b[0;34m\u001b[0m\u001b[0;34m\u001b[0m\u001b[0m\n\u001b[1;32m      5\u001b[0m \u001b[0;34m\u001b[0m\u001b[0m\n",
            "\u001b[0;31mSystemError\u001b[0m: initialization of _internal failed without raising an exception"
          ]
        }
      ],
      "source": [
        "import numpy as np\n",
        "import pandas as pd\n",
        "from ydata_profiling import ProfileReport"
      ]
    },
    {
      "cell_type": "code",
      "execution_count": null,
      "id": "a9f5db06",
      "metadata": {
        "id": "a9f5db06"
      },
      "outputs": [],
      "source": [
        "profile = ProfileReport(synthetic_data, title=\"Profiling Report\")"
      ]
    },
    {
      "cell_type": "code",
      "execution_count": null,
      "id": "f05ec355",
      "metadata": {
        "id": "f05ec355"
      },
      "outputs": [],
      "source": [
        "profile.to_widgets()"
      ]
    },
    {
      "cell_type": "code",
      "execution_count": null,
      "id": "308564a0",
      "metadata": {
        "id": "308564a0"
      },
      "outputs": [],
      "source": [
        "profile.to_notebook_iframe()"
      ]
    },
    {
      "cell_type": "markdown",
      "id": "5f2322c6",
      "metadata": {
        "id": "5f2322c6"
      },
      "source": [
        "## Constraints / Transform and Anonymize\n"
      ]
    },
    {
      "cell_type": "code",
      "execution_count": null,
      "id": "93c3ed2e",
      "metadata": {
        "id": "93c3ed2e"
      },
      "outputs": [],
      "source": []
    },
    {
      "cell_type": "markdown",
      "id": "1c6f9810",
      "metadata": {
        "id": "1c6f9810"
      },
      "source": [
        "Transformations are also used for anonymizing or pseudo-anonymizing sensitive data."
      ]
    },
    {
      "cell_type": "markdown",
      "id": "d2ebbe4f",
      "metadata": {
        "id": "d2ebbe4f"
      },
      "source": [
        "### auto_assign_transformers\n",
        "Let the synthesizer auto assign the transformations based on the data you'd like to use for modeling.\n"
      ]
    },
    {
      "cell_type": "code",
      "execution_count": null,
      "id": "303adae5",
      "metadata": {
        "id": "303adae5"
      },
      "outputs": [],
      "source": [
        "synthesizer.auto_assign_transformers(mushroom_table)"
      ]
    },
    {
      "cell_type": "markdown",
      "id": "381e5cdc",
      "metadata": {
        "id": "381e5cdc"
      },
      "source": [
        "### get_transformers\n",
        "After assigning the transformers, you can get more details about the transformers that will be used on each column."
      ]
    },
    {
      "cell_type": "code",
      "execution_count": null,
      "id": "09795e7b",
      "metadata": {
        "id": "09795e7b"
      },
      "outputs": [],
      "source": [
        "synthesizer.get_transformers()"
      ]
    },
    {
      "cell_type": "markdown",
      "id": "6374155f",
      "metadata": {
        "id": "6374155f"
      },
      "source": [
        "### update_transformers\n",
        "Use this method to reassign new transformers that you'd like to use for specific columns. You can apply any transformer in the RDT Library to your data.\n",
        "\n",
        "from rdt.transformers import FloatFormatter\n",
        "\n",
        "synthesizer.update_transformers(column_name_to_transformer={\n",
        "    'amenities_fee': FloatFormatter(missing_value_replacement=0.0)\n",
        "})"
      ]
    },
    {
      "cell_type": "markdown",
      "id": "4b25a801",
      "metadata": {
        "id": "4b25a801"
      },
      "source": [
        "### Anonymizing Sensitive Data\n",
        "Use the AnonymizedFaker or PsuedoAnonymizedFaker for sensitive data.\n",
        "\n",
        "provider_name: The name of the provider to use from the Faker library.\n",
        "\n",
        "function_name: The name of the function to use within the Faker provider.\n",
        "\n",
        "locales: An optional list of locales to use when generating the Fake data."
      ]
    },
    {
      "cell_type": "markdown",
      "id": "8343429e",
      "metadata": {
        "id": "8343429e"
      },
      "source": [
        "from transformers.pii import AnonymizedFaker\n",
        "\n",
        "af = AnonymizedFaker(\n",
        "    provider_name=\"person\",\n",
        "    function_name=\"name\",\n",
        "    enforce_uniqueness=True\n",
        ")"
      ]
    },
    {
      "cell_type": "markdown",
      "id": "a60d9869",
      "metadata": {
        "id": "a60d9869"
      },
      "source": [
        "## Applying the Transformations\n",
        "processed_data = synthesizer.preprocess(real_data)\n",
        "\n",
        "Use this function to preprocess the data according to the transformations. After preprocessing, you should have numerical data that is ready for modeling."
      ]
    },
    {
      "cell_type": "markdown",
      "id": "767e5685",
      "metadata": {
        "id": "767e5685"
      },
      "source": [
        "synthesizer.fit_processed_data(processed_data)\n",
        "\n",
        "Use this function to perform model training on preprocessed data. Note that this step may take a while, as it requires machine learning to learn trends from your the dataset."
      ]
    },
    {
      "cell_type": "markdown",
      "id": "670ef944",
      "metadata": {
        "id": "670ef944"
      },
      "source": [
        "synthesizer.fit(real_data)\n",
        "\n",
        "Use this function to perform the preprocessing and modeling training all in one step. Internally, this uses both the preprocess and fit_processed_data functions in succession."
      ]
    },
    {
      "cell_type": "code",
      "execution_count": null,
      "id": "f624ba2a",
      "metadata": {
        "id": "f624ba2a"
      },
      "outputs": [],
      "source": []
    }
  ],
  "metadata": {
    "kernelspec": {
      "display_name": "Python 3",
      "language": "python",
      "name": "python3"
    },
    "language_info": {
      "codemirror_mode": {
        "name": "ipython",
        "version": 3
      },
      "file_extension": ".py",
      "mimetype": "text/x-python",
      "name": "python",
      "nbconvert_exporter": "python",
      "pygments_lexer": "ipython3",
      "version": "3.8.8"
    },
    "colab": {
      "provenance": [],
      "include_colab_link": true
    }
  },
  "nbformat": 4,
  "nbformat_minor": 5
}